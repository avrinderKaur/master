{
  "nbformat": 4,
  "nbformat_minor": 0,
  "metadata": {
    "colab": {
      "name": "Ver2_project.ipynb",
      "provenance": [],
      "collapsed_sections": [],
      "machine_shape": "hm",
      "authorship_tag": "ABX9TyP8lwpJvWg+J2hyWWa55lK1",
      "include_colab_link": true
    },
    "kernelspec": {
      "name": "python3",
      "display_name": "Python 3"
    },
    "language_info": {
      "name": "python"
    }
  },
  "cells": [
    {
      "cell_type": "markdown",
      "metadata": {
        "id": "view-in-github",
        "colab_type": "text"
      },
      "source": [
        "<a href=\"https://colab.research.google.com/github/avrinderKaur/master/blob/master/Ver2_project.ipynb\" target=\"_parent\"><img src=\"https://colab.research.google.com/assets/colab-badge.svg\" alt=\"Open In Colab\"/></a>"
      ]
    },
    {
      "cell_type": "code",
      "metadata": {
        "id": "zUD25DnsLN_Q"
      },
      "source": [
        "from google.colab import drive"
      ],
      "execution_count": 1,
      "outputs": []
    },
    {
      "cell_type": "code",
      "metadata": {
        "colab": {
          "base_uri": "https://localhost:8080/"
        },
        "id": "IXHJX5j3LSeZ",
        "outputId": "98587a9c-da32-416e-b500-7ae53cf5c901"
      },
      "source": [
        "drive.mount('/content/drive')"
      ],
      "execution_count": 2,
      "outputs": [
        {
          "output_type": "stream",
          "text": [
            "Mounted at /content/drive\n"
          ],
          "name": "stdout"
        }
      ]
    },
    {
      "cell_type": "code",
      "metadata": {
        "id": "MIxeMA-0LZCH"
      },
      "source": [
        "import pandas as pd"
      ],
      "execution_count": 3,
      "outputs": []
    },
    {
      "cell_type": "code",
      "metadata": {
        "colab": {
          "base_uri": "https://localhost:8080/"
        },
        "id": "Eh0CezlKLil2",
        "outputId": "24424bc2-79f6-4953-d9b0-44e30e3f0414"
      },
      "source": [
        "cd /content/drive/MyDrive/RPwinter2021"
      ],
      "execution_count": 4,
      "outputs": [
        {
          "output_type": "stream",
          "text": [
            "/content/drive/MyDrive/RPwinter2021\n"
          ],
          "name": "stdout"
        }
      ]
    },
    {
      "cell_type": "code",
      "metadata": {
        "colab": {
          "base_uri": "https://localhost:8080/",
          "height": 289
        },
        "id": "zomxUkGELmGl",
        "outputId": "68e47f64-0ec6-4be4-a8de-8b5c2097d1df"
      },
      "source": [
        "df=pd.read_csv('dataset_agri.csv')\n",
        "df.head()"
      ],
      "execution_count": 5,
      "outputs": [
        {
          "output_type": "execute_result",
          "data": {
            "text/html": [
              "<div>\n",
              "<style scoped>\n",
              "    .dataframe tbody tr th:only-of-type {\n",
              "        vertical-align: middle;\n",
              "    }\n",
              "\n",
              "    .dataframe tbody tr th {\n",
              "        vertical-align: top;\n",
              "    }\n",
              "\n",
              "    .dataframe thead th {\n",
              "        text-align: right;\n",
              "    }\n",
              "</style>\n",
              "<table border=\"1\" class=\"dataframe\">\n",
              "  <thead>\n",
              "    <tr style=\"text-align: right;\">\n",
              "      <th></th>\n",
              "      <th>_id</th>\n",
              "      <th>downloaded_link</th>\n",
              "      <th>HTML</th>\n",
              "      <th>TextContent</th>\n",
              "      <th>website</th>\n",
              "    </tr>\n",
              "  </thead>\n",
              "  <tbody>\n",
              "    <tr>\n",
              "      <th>0</th>\n",
              "      <td>5f99776a07b086e558228ff2</td>\n",
              "      <td>http://www.bellescafevt.com/location.html</td>\n",
              "      <td>&lt;!DOCTYPE html&gt;\\n&lt;html class=\"nojs html css_ve...</td>\n",
              "      <td>\\nHome\\nMenu\\nCatering\\nSpecial Deals\\nLocatio...</td>\n",
              "      <td>bellescafevt.com</td>\n",
              "    </tr>\n",
              "    <tr>\n",
              "      <th>1</th>\n",
              "      <td>5f99776a07b086e558228ff3</td>\n",
              "      <td>http://www.atlanticshellfish.com/contact.html</td>\n",
              "      <td>&lt;!DOCTYPE html&gt;\\n&lt;html lang=\"en\"&gt;\\n\\t&lt;head&gt;&lt;sc...</td>\n",
              "      <td>\\nHome\\nAbout\\nProducts\\nRed Head Select\\nSout...</td>\n",
              "      <td>atlanticshellfish.com</td>\n",
              "    </tr>\n",
              "    <tr>\n",
              "      <th>2</th>\n",
              "      <td>5f99776a07b086e558228ff8</td>\n",
              "      <td>http://www.hls.ca</td>\n",
              "      <td>&lt;!doctype html&gt;\\r\\n&lt;html lang=\"en-US\"&gt;\\r\\n&lt;hea...</td>\n",
              "      <td>NaN</td>\n",
              "      <td>hls.ca</td>\n",
              "    </tr>\n",
              "    <tr>\n",
              "      <th>3</th>\n",
              "      <td>5f99776a07b086e558229001</td>\n",
              "      <td>http://www.bassanogrowers.ca/linkV2.html</td>\n",
              "      <td>&lt;!DOCTYPE HTML PUBLIC \"-//W3C//DTD HTML 4.01 T...</td>\n",
              "      <td>\\nADDITIONAL INFORMATION\\n&amp; LINKS\\nBassano Gro...</td>\n",
              "      <td>bassanogrowers.ca</td>\n",
              "    </tr>\n",
              "    <tr>\n",
              "      <th>4</th>\n",
              "      <td>5f99776a07b086e558229007</td>\n",
              "      <td>http://www.colarome.com/EN/Homepage_EN.html</td>\n",
              "      <td>&lt;!DOCTYPE html PUBLIC \"-//W3C//DTD XHTML 1.0 T...</td>\n",
              "      <td>\\nFor nearly 20 years,\\nColarome has been deve...</td>\n",
              "      <td>colarome.com</td>\n",
              "    </tr>\n",
              "  </tbody>\n",
              "</table>\n",
              "</div>"
            ],
            "text/plain": [
              "                        _id  ...                website\n",
              "0  5f99776a07b086e558228ff2  ...       bellescafevt.com\n",
              "1  5f99776a07b086e558228ff3  ...  atlanticshellfish.com\n",
              "2  5f99776a07b086e558228ff8  ...                 hls.ca\n",
              "3  5f99776a07b086e558229001  ...      bassanogrowers.ca\n",
              "4  5f99776a07b086e558229007  ...           colarome.com\n",
              "\n",
              "[5 rows x 5 columns]"
            ]
          },
          "metadata": {
            "tags": []
          },
          "execution_count": 5
        }
      ]
    },
    {
      "cell_type": "code",
      "metadata": {
        "colab": {
          "base_uri": "https://localhost:8080/"
        },
        "id": "pSe3kqm-Ly0j",
        "outputId": "533e4768-aabf-47db-9ddb-cd1a2d8a02e3"
      },
      "source": [
        "df.shape"
      ],
      "execution_count": 6,
      "outputs": [
        {
          "output_type": "execute_result",
          "data": {
            "text/plain": [
              "(78030, 5)"
            ]
          },
          "metadata": {
            "tags": []
          },
          "execution_count": 6
        }
      ]
    },
    {
      "cell_type": "code",
      "metadata": {
        "id": "X1w7c22-zqKV"
      },
      "source": [
        "df_comp = df"
      ],
      "execution_count": 7,
      "outputs": []
    },
    {
      "cell_type": "code",
      "metadata": {
        "colab": {
          "base_uri": "https://localhost:8080/"
        },
        "id": "BaKZDTjzNDV8",
        "outputId": "08fb7f29-75d5-4908-8553-b83d1fa027ab"
      },
      "source": [
        "df=df[df['downloaded_link'].str.contains('about-us|about|our-|story|what-is|who-we|our story|')]\n",
        "df.shape"
      ],
      "execution_count": 8,
      "outputs": [
        {
          "output_type": "execute_result",
          "data": {
            "text/plain": [
              "(78030, 5)"
            ]
          },
          "metadata": {
            "tags": []
          },
          "execution_count": 8
        }
      ]
    },
    {
      "cell_type": "code",
      "metadata": {
        "id": "BiUPAckKOf_Z"
      },
      "source": [
        "df_test = df\n",
        "df_test['company'] = df_test['website'].str.replace(r'.ca$', '')\n",
        "df_test['company'] = df_test['company'].str.replace(r'.com$', '')"
      ],
      "execution_count": 9,
      "outputs": []
    },
    {
      "cell_type": "code",
      "metadata": {
        "id": "sSkpvRp5PIW8"
      },
      "source": [
        "df_test['TextContent']=df_test['TextContent'].str.replace('\\n', ' ')"
      ],
      "execution_count": 10,
      "outputs": []
    },
    {
      "cell_type": "code",
      "metadata": {
        "colab": {
          "base_uri": "https://localhost:8080/",
          "height": 358
        },
        "id": "GV_S8KvTPb1H",
        "outputId": "387578dc-338e-4068-b41e-985fcea591e0"
      },
      "source": [
        "df_test.head()"
      ],
      "execution_count": 11,
      "outputs": [
        {
          "output_type": "execute_result",
          "data": {
            "text/html": [
              "<div>\n",
              "<style scoped>\n",
              "    .dataframe tbody tr th:only-of-type {\n",
              "        vertical-align: middle;\n",
              "    }\n",
              "\n",
              "    .dataframe tbody tr th {\n",
              "        vertical-align: top;\n",
              "    }\n",
              "\n",
              "    .dataframe thead th {\n",
              "        text-align: right;\n",
              "    }\n",
              "</style>\n",
              "<table border=\"1\" class=\"dataframe\">\n",
              "  <thead>\n",
              "    <tr style=\"text-align: right;\">\n",
              "      <th></th>\n",
              "      <th>_id</th>\n",
              "      <th>downloaded_link</th>\n",
              "      <th>HTML</th>\n",
              "      <th>TextContent</th>\n",
              "      <th>website</th>\n",
              "      <th>company</th>\n",
              "    </tr>\n",
              "  </thead>\n",
              "  <tbody>\n",
              "    <tr>\n",
              "      <th>0</th>\n",
              "      <td>5f99776a07b086e558228ff2</td>\n",
              "      <td>http://www.bellescafevt.com/location.html</td>\n",
              "      <td>&lt;!DOCTYPE html&gt;\\n&lt;html class=\"nojs html css_ve...</td>\n",
              "      <td>Home Menu Catering Special Deals Location Bel...</td>\n",
              "      <td>bellescafevt.com</td>\n",
              "      <td>bellescafevt</td>\n",
              "    </tr>\n",
              "    <tr>\n",
              "      <th>1</th>\n",
              "      <td>5f99776a07b086e558228ff3</td>\n",
              "      <td>http://www.atlanticshellfish.com/contact.html</td>\n",
              "      <td>&lt;!DOCTYPE html&gt;\\n&lt;html lang=\"en\"&gt;\\n\\t&lt;head&gt;&lt;sc...</td>\n",
              "      <td>Home About Products Red Head Select South Lak...</td>\n",
              "      <td>atlanticshellfish.com</td>\n",
              "      <td>atlanticshellfish</td>\n",
              "    </tr>\n",
              "    <tr>\n",
              "      <th>2</th>\n",
              "      <td>5f99776a07b086e558228ff8</td>\n",
              "      <td>http://www.hls.ca</td>\n",
              "      <td>&lt;!doctype html&gt;\\r\\n&lt;html lang=\"en-US\"&gt;\\r\\n&lt;hea...</td>\n",
              "      <td>NaN</td>\n",
              "      <td>hls.ca</td>\n",
              "      <td>hls</td>\n",
              "    </tr>\n",
              "    <tr>\n",
              "      <th>3</th>\n",
              "      <td>5f99776a07b086e558229001</td>\n",
              "      <td>http://www.bassanogrowers.ca/linkV2.html</td>\n",
              "      <td>&lt;!DOCTYPE HTML PUBLIC \"-//W3C//DTD HTML 4.01 T...</td>\n",
              "      <td>ADDITIONAL INFORMATION &amp; LINKS Bassano Grower...</td>\n",
              "      <td>bassanogrowers.ca</td>\n",
              "      <td>bassanogrowers</td>\n",
              "    </tr>\n",
              "    <tr>\n",
              "      <th>4</th>\n",
              "      <td>5f99776a07b086e558229007</td>\n",
              "      <td>http://www.colarome.com/EN/Homepage_EN.html</td>\n",
              "      <td>&lt;!DOCTYPE html PUBLIC \"-//W3C//DTD XHTML 1.0 T...</td>\n",
              "      <td>For nearly 20 years, Colarome has been develo...</td>\n",
              "      <td>colarome.com</td>\n",
              "      <td>colarome</td>\n",
              "    </tr>\n",
              "  </tbody>\n",
              "</table>\n",
              "</div>"
            ],
            "text/plain": [
              "                        _id  ...            company\n",
              "0  5f99776a07b086e558228ff2  ...       bellescafevt\n",
              "1  5f99776a07b086e558228ff3  ...  atlanticshellfish\n",
              "2  5f99776a07b086e558228ff8  ...                hls\n",
              "3  5f99776a07b086e558229001  ...     bassanogrowers\n",
              "4  5f99776a07b086e558229007  ...           colarome\n",
              "\n",
              "[5 rows x 6 columns]"
            ]
          },
          "metadata": {
            "tags": []
          },
          "execution_count": 11
        }
      ]
    },
    {
      "cell_type": "code",
      "metadata": {
        "colab": {
          "base_uri": "https://localhost:8080/",
          "height": 702
        },
        "id": "RYClLphePtDJ",
        "outputId": "c8ca6a04-3da8-4f7b-8e71-c71f290c8df2"
      },
      "source": [
        "df_test[df_test['company']=='atlanticshellfish']"
      ],
      "execution_count": 12,
      "outputs": [
        {
          "output_type": "execute_result",
          "data": {
            "text/html": [
              "<div>\n",
              "<style scoped>\n",
              "    .dataframe tbody tr th:only-of-type {\n",
              "        vertical-align: middle;\n",
              "    }\n",
              "\n",
              "    .dataframe tbody tr th {\n",
              "        vertical-align: top;\n",
              "    }\n",
              "\n",
              "    .dataframe thead th {\n",
              "        text-align: right;\n",
              "    }\n",
              "</style>\n",
              "<table border=\"1\" class=\"dataframe\">\n",
              "  <thead>\n",
              "    <tr style=\"text-align: right;\">\n",
              "      <th></th>\n",
              "      <th>_id</th>\n",
              "      <th>downloaded_link</th>\n",
              "      <th>HTML</th>\n",
              "      <th>TextContent</th>\n",
              "      <th>website</th>\n",
              "      <th>company</th>\n",
              "    </tr>\n",
              "  </thead>\n",
              "  <tbody>\n",
              "    <tr>\n",
              "      <th>1</th>\n",
              "      <td>5f99776a07b086e558228ff3</td>\n",
              "      <td>http://www.atlanticshellfish.com/contact.html</td>\n",
              "      <td>&lt;!DOCTYPE html&gt;\\n&lt;html lang=\"en\"&gt;\\n\\t&lt;head&gt;&lt;sc...</td>\n",
              "      <td>Home About Products Red Head Select South Lak...</td>\n",
              "      <td>atlanticshellfish.com</td>\n",
              "      <td>atlanticshellfish</td>\n",
              "    </tr>\n",
              "    <tr>\n",
              "      <th>13</th>\n",
              "      <td>5f99776a07b086e55822902a</td>\n",
              "      <td>http://www.atlanticshellfish.com/tuxedo.html</td>\n",
              "      <td>&lt;!DOCTYPE html&gt;\\n&lt;html lang=\"en\"&gt;\\n\\t&lt;head&gt;&lt;sc...</td>\n",
              "      <td>Home About Products Red Head Select South Lak...</td>\n",
              "      <td>atlanticshellfish.com</td>\n",
              "      <td>atlanticshellfish</td>\n",
              "    </tr>\n",
              "    <tr>\n",
              "      <th>41</th>\n",
              "      <td>5f99776b07b086e558229094</td>\n",
              "      <td>http://www.atlanticshellfish.com/malpeque.html</td>\n",
              "      <td>&lt;!DOCTYPE html&gt;\\n&lt;html lang=\"en\"&gt;\\n\\t&lt;head&gt;&lt;sc...</td>\n",
              "      <td>Home About Products Red Head Select South Lak...</td>\n",
              "      <td>atlanticshellfish.com</td>\n",
              "      <td>atlanticshellfish</td>\n",
              "    </tr>\n",
              "    <tr>\n",
              "      <th>73</th>\n",
              "      <td>5f99776c07b086e5582290eb</td>\n",
              "      <td>http://www.atlanticshellfish.com/shipwreck-sel...</td>\n",
              "      <td>&lt;!DOCTYPE html&gt;\\n&lt;html lang=\"en\"&gt;\\n\\t&lt;head&gt;&lt;sc...</td>\n",
              "      <td>Home About Products Red Head Select South Lak...</td>\n",
              "      <td>atlanticshellfish.com</td>\n",
              "      <td>atlanticshellfish</td>\n",
              "    </tr>\n",
              "    <tr>\n",
              "      <th>137</th>\n",
              "      <td>5f99776c07b086e55822918d</td>\n",
              "      <td>http://www.atlanticshellfish.com/south-lake-se...</td>\n",
              "      <td>&lt;!DOCTYPE html&gt;\\n&lt;html lang=\"en\"&gt;\\n\\t&lt;head&gt;&lt;sc...</td>\n",
              "      <td>Home About Products Red Head Select South Lak...</td>\n",
              "      <td>atlanticshellfish.com</td>\n",
              "      <td>atlanticshellfish</td>\n",
              "    </tr>\n",
              "    <tr>\n",
              "      <th>162</th>\n",
              "      <td>5f99776d07b086e5582291ce</td>\n",
              "      <td>http://www.atlanticshellfish.com/products.html</td>\n",
              "      <td>&lt;!DOCTYPE html&gt;\\n&lt;html lang=\"en\"&gt;\\n\\t&lt;head&gt;&lt;sc...</td>\n",
              "      <td>Home About Products Red Head Select South Lak...</td>\n",
              "      <td>atlanticshellfish.com</td>\n",
              "      <td>atlanticshellfish</td>\n",
              "    </tr>\n",
              "    <tr>\n",
              "      <th>259</th>\n",
              "      <td>5f99776e07b086e5582292cb</td>\n",
              "      <td>http://www.atlanticshellfish.com/savage-blonde...</td>\n",
              "      <td>&lt;!DOCTYPE html&gt;\\n&lt;html lang=\"en\"&gt;\\n\\t&lt;head&gt;&lt;sc...</td>\n",
              "      <td>Home About Products Red Head Select South Lak...</td>\n",
              "      <td>atlanticshellfish.com</td>\n",
              "      <td>atlanticshellfish</td>\n",
              "    </tr>\n",
              "    <tr>\n",
              "      <th>302</th>\n",
              "      <td>5f99776e07b086e558229339</td>\n",
              "      <td>http://www.atlanticshellfish.com/red-head-sele...</td>\n",
              "      <td>&lt;!DOCTYPE html&gt;\\n&lt;html lang=\"en\"&gt;\\n\\t&lt;head&gt;&lt;sc...</td>\n",
              "      <td>Home About Products Red Head Select South Lak...</td>\n",
              "      <td>atlanticshellfish.com</td>\n",
              "      <td>atlanticshellfish</td>\n",
              "    </tr>\n",
              "    <tr>\n",
              "      <th>517</th>\n",
              "      <td>5f99777007b086e558229516</td>\n",
              "      <td>http://www.atlanticshellfish.com/about.html</td>\n",
              "      <td>&lt;!DOCTYPE html&gt;\\n&lt;html lang=\"en\"&gt;\\n\\t&lt;head&gt;&lt;sc...</td>\n",
              "      <td>Home About Products Red Head Select South Lak...</td>\n",
              "      <td>atlanticshellfish.com</td>\n",
              "      <td>atlanticshellfish</td>\n",
              "    </tr>\n",
              "    <tr>\n",
              "      <th>21443</th>\n",
              "      <td>5f99781707b086e5582346e5</td>\n",
              "      <td>http://www.atlanticshellfish.com/</td>\n",
              "      <td>&lt;!DOCTYPE html&gt;\\n&lt;html lang=\"en\"&gt;\\n\\t&lt;head&gt;&lt;sc...</td>\n",
              "      <td>Home About Products Red Head Select South Lak...</td>\n",
              "      <td>atlanticshellfish.com</td>\n",
              "      <td>atlanticshellfish</td>\n",
              "    </tr>\n",
              "  </tbody>\n",
              "</table>\n",
              "</div>"
            ],
            "text/plain": [
              "                            _id  ...            company\n",
              "1      5f99776a07b086e558228ff3  ...  atlanticshellfish\n",
              "13     5f99776a07b086e55822902a  ...  atlanticshellfish\n",
              "41     5f99776b07b086e558229094  ...  atlanticshellfish\n",
              "73     5f99776c07b086e5582290eb  ...  atlanticshellfish\n",
              "137    5f99776c07b086e55822918d  ...  atlanticshellfish\n",
              "162    5f99776d07b086e5582291ce  ...  atlanticshellfish\n",
              "259    5f99776e07b086e5582292cb  ...  atlanticshellfish\n",
              "302    5f99776e07b086e558229339  ...  atlanticshellfish\n",
              "517    5f99777007b086e558229516  ...  atlanticshellfish\n",
              "21443  5f99781707b086e5582346e5  ...  atlanticshellfish\n",
              "\n",
              "[10 rows x 6 columns]"
            ]
          },
          "metadata": {
            "tags": []
          },
          "execution_count": 12
        }
      ]
    },
    {
      "cell_type": "code",
      "metadata": {
        "colab": {
          "base_uri": "https://localhost:8080/"
        },
        "id": "KapF8PJJQVfb",
        "outputId": "89df92f6-009f-4e13-8c21-596e2b03730b"
      },
      "source": [
        "#df_mini = df_test[:10]\n",
        "#df_mini.shape"
      ],
      "execution_count": null,
      "outputs": [
        {
          "output_type": "execute_result",
          "data": {
            "text/plain": [
              "(10, 6)"
            ]
          },
          "metadata": {
            "tags": []
          },
          "execution_count": 14
        }
      ]
    },
    {
      "cell_type": "code",
      "metadata": {
        "colab": {
          "base_uri": "https://localhost:8080/"
        },
        "id": "MmxyUtVhVwt6",
        "outputId": "1fe2ee15-ca10-4d84-f596-b578df92928b"
      },
      "source": [
        "#df_test[df_test['company']=='atlanticshellfish']\n",
        "company_list = df_test['company'].values\n",
        "len(company_list)\n",
        "for i in company_list:\n",
        "  if (i == 'atlanticshellfish'):\n",
        "    print(i);  "
      ],
      "execution_count": 13,
      "outputs": [
        {
          "output_type": "stream",
          "text": [
            "atlanticshellfish\n",
            "atlanticshellfish\n",
            "atlanticshellfish\n",
            "atlanticshellfish\n",
            "atlanticshellfish\n",
            "atlanticshellfish\n",
            "atlanticshellfish\n",
            "atlanticshellfish\n",
            "atlanticshellfish\n",
            "atlanticshellfish\n"
          ],
          "name": "stdout"
        }
      ]
    },
    {
      "cell_type": "code",
      "metadata": {
        "colab": {
          "base_uri": "https://localhost:8080/"
        },
        "id": "biSXlxK2Xt0a",
        "outputId": "9e627751-7dd1-417e-b111-affa0a11319f"
      },
      "source": [
        "#rem_dup_list = set(company_list)\n",
        "#len(rem_dup_list)"
      ],
      "execution_count": null,
      "outputs": [
        {
          "output_type": "execute_result",
          "data": {
            "text/plain": [
              "3013"
            ]
          },
          "metadata": {
            "tags": []
          },
          "execution_count": 41
        }
      ]
    },
    {
      "cell_type": "code",
      "metadata": {
        "colab": {
          "base_uri": "https://localhost:8080/"
        },
        "id": "Zb96mNwUXN5J",
        "outputId": "e3560726-a0c1-49c3-8478-a41a480b5ac6"
      },
      "source": [
        "company_list = list(dict.fromkeys(company_list))\n",
        "len(company_list)\n",
        "#for i in company_list:\n",
        " # if (i == 'atlanticshellfish'):\n",
        "  #  print(i);  "
      ],
      "execution_count": 14,
      "outputs": [
        {
          "output_type": "execute_result",
          "data": {
            "text/plain": [
              "3013"
            ]
          },
          "metadata": {
            "tags": []
          },
          "execution_count": 14
        }
      ]
    },
    {
      "cell_type": "code",
      "metadata": {
        "colab": {
          "base_uri": "https://localhost:8080/",
          "height": 921
        },
        "id": "7OzxA3sTnh_V",
        "outputId": "7f679858-04ec-47bf-952d-38fdea62930f"
      },
      "source": [
        "df_test.dropna(0)"
      ],
      "execution_count": 15,
      "outputs": [
        {
          "output_type": "execute_result",
          "data": {
            "text/html": [
              "<div>\n",
              "<style scoped>\n",
              "    .dataframe tbody tr th:only-of-type {\n",
              "        vertical-align: middle;\n",
              "    }\n",
              "\n",
              "    .dataframe tbody tr th {\n",
              "        vertical-align: top;\n",
              "    }\n",
              "\n",
              "    .dataframe thead th {\n",
              "        text-align: right;\n",
              "    }\n",
              "</style>\n",
              "<table border=\"1\" class=\"dataframe\">\n",
              "  <thead>\n",
              "    <tr style=\"text-align: right;\">\n",
              "      <th></th>\n",
              "      <th>_id</th>\n",
              "      <th>downloaded_link</th>\n",
              "      <th>HTML</th>\n",
              "      <th>TextContent</th>\n",
              "      <th>website</th>\n",
              "      <th>company</th>\n",
              "    </tr>\n",
              "  </thead>\n",
              "  <tbody>\n",
              "    <tr>\n",
              "      <th>0</th>\n",
              "      <td>5f99776a07b086e558228ff2</td>\n",
              "      <td>http://www.bellescafevt.com/location.html</td>\n",
              "      <td>&lt;!DOCTYPE html&gt;\\n&lt;html class=\"nojs html css_ve...</td>\n",
              "      <td>Home Menu Catering Special Deals Location Bel...</td>\n",
              "      <td>bellescafevt.com</td>\n",
              "      <td>bellescafevt</td>\n",
              "    </tr>\n",
              "    <tr>\n",
              "      <th>1</th>\n",
              "      <td>5f99776a07b086e558228ff3</td>\n",
              "      <td>http://www.atlanticshellfish.com/contact.html</td>\n",
              "      <td>&lt;!DOCTYPE html&gt;\\n&lt;html lang=\"en\"&gt;\\n\\t&lt;head&gt;&lt;sc...</td>\n",
              "      <td>Home About Products Red Head Select South Lak...</td>\n",
              "      <td>atlanticshellfish.com</td>\n",
              "      <td>atlanticshellfish</td>\n",
              "    </tr>\n",
              "    <tr>\n",
              "      <th>3</th>\n",
              "      <td>5f99776a07b086e558229001</td>\n",
              "      <td>http://www.bassanogrowers.ca/linkV2.html</td>\n",
              "      <td>&lt;!DOCTYPE HTML PUBLIC \"-//W3C//DTD HTML 4.01 T...</td>\n",
              "      <td>ADDITIONAL INFORMATION &amp; LINKS Bassano Grower...</td>\n",
              "      <td>bassanogrowers.ca</td>\n",
              "      <td>bassanogrowers</td>\n",
              "    </tr>\n",
              "    <tr>\n",
              "      <th>4</th>\n",
              "      <td>5f99776a07b086e558229007</td>\n",
              "      <td>http://www.colarome.com/EN/Homepage_EN.html</td>\n",
              "      <td>&lt;!DOCTYPE html PUBLIC \"-//W3C//DTD XHTML 1.0 T...</td>\n",
              "      <td>For nearly 20 years, Colarome has been develo...</td>\n",
              "      <td>colarome.com</td>\n",
              "      <td>colarome</td>\n",
              "    </tr>\n",
              "    <tr>\n",
              "      <th>5</th>\n",
              "      <td>5f99776a07b086e55822900b</td>\n",
              "      <td>http://www.bpltd.ca/include/privacy-policy.htm</td>\n",
              "      <td>&lt;!DOCTYPE html PUBLIC \"-//W3C//DTD XHTML 1.0 T...</td>\n",
              "      <td>Bridgewater Pharmasave - Privacy Policy Home ...</td>\n",
              "      <td>bpltd.ca</td>\n",
              "      <td>bpltd</td>\n",
              "    </tr>\n",
              "    <tr>\n",
              "      <th>...</th>\n",
              "      <td>...</td>\n",
              "      <td>...</td>\n",
              "      <td>...</td>\n",
              "      <td>...</td>\n",
              "      <td>...</td>\n",
              "      <td>...</td>\n",
              "    </tr>\n",
              "    <tr>\n",
              "      <th>78025</th>\n",
              "      <td>5f997af707b086e5582534be</td>\n",
              "      <td>https://waterloobrewing.com/pages/brewery</td>\n",
              "      <td>&lt;!doctype html&gt;\\n&lt;!--[if lt IE 7]&gt;&lt;html class=...</td>\n",
              "      <td>Our Store/Home Delivery + - Beer Store Home D...</td>\n",
              "      <td>waterloobrewing.com</td>\n",
              "      <td>waterloobrewing</td>\n",
              "    </tr>\n",
              "    <tr>\n",
              "      <th>78026</th>\n",
              "      <td>5f997af707b086e5582534c0</td>\n",
              "      <td>https://sharpesfoodmarket.ca/feed/</td>\n",
              "      <td>&lt;?xml version=\"1.0\" encoding=\"UTF-8\"?&gt;&lt;rss ver...</td>\n",
              "      <td>https://sharpesfoodmarket.ca Fresh Thinking S...</td>\n",
              "      <td>sharpesfoodmarket.ca</td>\n",
              "      <td>sharpesfoodmarket</td>\n",
              "    </tr>\n",
              "    <tr>\n",
              "      <th>78027</th>\n",
              "      <td>5f997af707b086e5582534c2</td>\n",
              "      <td>http://prairielivestock.ca/by-pro-feeds/</td>\n",
              "      <td>&lt;!DOCTYPE html PUBLIC \"-//W3C//DTD XHTML 1.0 T...</td>\n",
              "      <td>Menu Home Our People + Our People Management ...</td>\n",
              "      <td>prairielivestock.ca</td>\n",
              "      <td>prairielivestock</td>\n",
              "    </tr>\n",
              "    <tr>\n",
              "      <th>78028</th>\n",
              "      <td>5f997af707b086e5582534cb</td>\n",
              "      <td>https://opam-mb.com/certification/</td>\n",
              "      <td>&lt;!DOCTYPE html&gt;\\n&lt;html lang=\"en-CA\"&gt;\\n&lt;head&gt;\\n...</td>\n",
              "      <td>Request Membership Package Contact Us About C...</td>\n",
              "      <td>opam-mb.com</td>\n",
              "      <td>opam-mb</td>\n",
              "    </tr>\n",
              "    <tr>\n",
              "      <th>78029</th>\n",
              "      <td>5f997af707b086e5582534cd</td>\n",
              "      <td>http://www.eloraroadmeats.ca</td>\n",
              "      <td>&lt;!DOCTYPE html PUBLIC \"-//W3C//DTD XHTML 1.0 T...</td>\n",
              "      <td>WELCOME TO ELORA ROAD MEATS Elora Road Meats ...</td>\n",
              "      <td>eloraroadmeats.ca</td>\n",
              "      <td>eloraroadmeats</td>\n",
              "    </tr>\n",
              "  </tbody>\n",
              "</table>\n",
              "<p>77727 rows × 6 columns</p>\n",
              "</div>"
            ],
            "text/plain": [
              "                            _id  ...            company\n",
              "0      5f99776a07b086e558228ff2  ...       bellescafevt\n",
              "1      5f99776a07b086e558228ff3  ...  atlanticshellfish\n",
              "3      5f99776a07b086e558229001  ...     bassanogrowers\n",
              "4      5f99776a07b086e558229007  ...           colarome\n",
              "5      5f99776a07b086e55822900b  ...              bpltd\n",
              "...                         ...  ...                ...\n",
              "78025  5f997af707b086e5582534be  ...    waterloobrewing\n",
              "78026  5f997af707b086e5582534c0  ...  sharpesfoodmarket\n",
              "78027  5f997af707b086e5582534c2  ...   prairielivestock\n",
              "78028  5f997af707b086e5582534cb  ...            opam-mb\n",
              "78029  5f997af707b086e5582534cd  ...     eloraroadmeats\n",
              "\n",
              "[77727 rows x 6 columns]"
            ]
          },
          "metadata": {
            "tags": []
          },
          "execution_count": 15
        }
      ]
    },
    {
      "cell_type": "code",
      "metadata": {
        "id": "RXZd0MgUobDG"
      },
      "source": [
        "df_test['TextContent'] = df_test['TextContent'].astype(str)"
      ],
      "execution_count": 16,
      "outputs": []
    },
    {
      "cell_type": "code",
      "metadata": {
        "colab": {
          "base_uri": "https://localhost:8080/",
          "height": 415
        },
        "id": "soe5t0qVmB_K",
        "outputId": "6299c96d-de96-4d96-c094-8c974ba449e1"
      },
      "source": [
        "new_df = df_test.copy(deep=True)\n",
        "new_df['TextContent'] = new_df[['company','TextContent']].groupby(['company'])['TextContent'].transform(lambda x: ','.join(x))  \n",
        "new_df[['company','TextContent']].drop_duplicates()"
      ],
      "execution_count": 17,
      "outputs": [
        {
          "output_type": "execute_result",
          "data": {
            "text/html": [
              "<div>\n",
              "<style scoped>\n",
              "    .dataframe tbody tr th:only-of-type {\n",
              "        vertical-align: middle;\n",
              "    }\n",
              "\n",
              "    .dataframe tbody tr th {\n",
              "        vertical-align: top;\n",
              "    }\n",
              "\n",
              "    .dataframe thead th {\n",
              "        text-align: right;\n",
              "    }\n",
              "</style>\n",
              "<table border=\"1\" class=\"dataframe\">\n",
              "  <thead>\n",
              "    <tr style=\"text-align: right;\">\n",
              "      <th></th>\n",
              "      <th>company</th>\n",
              "      <th>TextContent</th>\n",
              "    </tr>\n",
              "  </thead>\n",
              "  <tbody>\n",
              "    <tr>\n",
              "      <th>0</th>\n",
              "      <td>bellescafevt</td>\n",
              "      <td>Home Menu Catering Special Deals Location Bel...</td>\n",
              "    </tr>\n",
              "    <tr>\n",
              "      <th>1</th>\n",
              "      <td>atlanticshellfish</td>\n",
              "      <td>Home About Products Red Head Select South Lak...</td>\n",
              "    </tr>\n",
              "    <tr>\n",
              "      <th>2</th>\n",
              "      <td>hls</td>\n",
              "      <td>nan, Home HEARTLAND LIVESTOCK For us, being su...</td>\n",
              "    </tr>\n",
              "    <tr>\n",
              "      <th>3</th>\n",
              "      <td>bassanogrowers</td>\n",
              "      <td>ADDITIONAL INFORMATION &amp; LINKS Bassano Grower...</td>\n",
              "    </tr>\n",
              "    <tr>\n",
              "      <th>4</th>\n",
              "      <td>colarome</td>\n",
              "      <td>For nearly 20 years, Colarome has been develo...</td>\n",
              "    </tr>\n",
              "    <tr>\n",
              "      <th>...</th>\n",
              "      <td>...</td>\n",
              "      <td>...</td>\n",
              "    </tr>\n",
              "    <tr>\n",
              "      <th>77899</th>\n",
              "      <td>teavana</td>\n",
              "      <td>Our Teas Craft Iced Tea Sachets Our Story Whe...</td>\n",
              "    </tr>\n",
              "    <tr>\n",
              "      <th>77901</th>\n",
              "      <td>csmpa.net</td>\n",
              "      <td>Welcome Guest  [ Sign-in | Register ] Home | ...</td>\n",
              "    </tr>\n",
              "    <tr>\n",
              "      <th>77956</th>\n",
              "      <td>honeywellaidc</td>\n",
              "      <td>Partner Login About Us toggle menu Learn more...</td>\n",
              "    </tr>\n",
              "    <tr>\n",
              "      <th>77963</th>\n",
              "      <td>olsensmeatandproduce</td>\n",
              "      <td>Menu Olsen's Home Services Budget Specials Gi...</td>\n",
              "    </tr>\n",
              "    <tr>\n",
              "      <th>77985</th>\n",
              "      <td>quinoa</td>\n",
              "      <td>About Ingredient Products Retail Products Gro...</td>\n",
              "    </tr>\n",
              "  </tbody>\n",
              "</table>\n",
              "<p>3013 rows × 2 columns</p>\n",
              "</div>"
            ],
            "text/plain": [
              "                    company                                        TextContent\n",
              "0              bellescafevt   Home Menu Catering Special Deals Location Bel...\n",
              "1         atlanticshellfish   Home About Products Red Head Select South Lak...\n",
              "2                       hls  nan, Home HEARTLAND LIVESTOCK For us, being su...\n",
              "3            bassanogrowers   ADDITIONAL INFORMATION & LINKS Bassano Grower...\n",
              "4                  colarome   For nearly 20 years, Colarome has been develo...\n",
              "...                     ...                                                ...\n",
              "77899               teavana   Our Teas Craft Iced Tea Sachets Our Story Whe...\n",
              "77901             csmpa.net   Welcome Guest  [ Sign-in | Register ] Home | ...\n",
              "77956         honeywellaidc   Partner Login About Us toggle menu Learn more...\n",
              "77963  olsensmeatandproduce   Menu Olsen's Home Services Budget Specials Gi...\n",
              "77985                quinoa   About Ingredient Products Retail Products Gro...\n",
              "\n",
              "[3013 rows x 2 columns]"
            ]
          },
          "metadata": {
            "tags": []
          },
          "execution_count": 17
        }
      ]
    },
    {
      "cell_type": "code",
      "metadata": {
        "colab": {
          "base_uri": "https://localhost:8080/",
          "height": 166
        },
        "id": "WfX56o8lPMRF",
        "outputId": "d6908ae7-bf46-4ba7-d6c2-77c0ab5288e4"
      },
      "source": [
        "#new_df['TextContent'].str.lower()\n"
      ],
      "execution_count": null,
      "outputs": [
        {
          "output_type": "error",
          "ename": "NameError",
          "evalue": "ignored",
          "traceback": [
            "\u001b[0;31m---------------------------------------------------------------------------\u001b[0m",
            "\u001b[0;31mNameError\u001b[0m                                 Traceback (most recent call last)",
            "\u001b[0;32m<ipython-input-1-9ffeae891ba7>\u001b[0m in \u001b[0;36m<module>\u001b[0;34m()\u001b[0m\n\u001b[0;32m----> 1\u001b[0;31m \u001b[0mnew_df\u001b[0m\u001b[0;34m[\u001b[0m\u001b[0;34m'TextContent'\u001b[0m\u001b[0;34m]\u001b[0m\u001b[0;34m.\u001b[0m\u001b[0mstr\u001b[0m\u001b[0;34m.\u001b[0m\u001b[0mlower\u001b[0m\u001b[0;34m(\u001b[0m\u001b[0;34m)\u001b[0m\u001b[0;34m\u001b[0m\u001b[0;34m\u001b[0m\u001b[0m\n\u001b[0m",
            "\u001b[0;31mNameError\u001b[0m: name 'new_df' is not defined"
          ]
        }
      ]
    },
    {
      "cell_type": "code",
      "metadata": {
        "colab": {
          "base_uri": "https://localhost:8080/"
        },
        "id": "oJK2wugRhN7e",
        "outputId": "dd018278-f9b3-45d4-9280-a711b4e8a357"
      },
      "source": [
        "df_mini = new_df[:20]\n",
        "df_mini['company']"
      ],
      "execution_count": 18,
      "outputs": [
        {
          "output_type": "execute_result",
          "data": {
            "text/plain": [
              "0               bellescafevt\n",
              "1          atlanticshellfish\n",
              "2                        hls\n",
              "3             bassanogrowers\n",
              "4                   colarome\n",
              "5                      bpltd\n",
              "6                     belpar\n",
              "7                 1fish2fish\n",
              "8             creativeplanco\n",
              "9     canadabreadfoodservice\n",
              "10             europeanmeats\n",
              "11            excelsiorfoods\n",
              "12              activepharma\n",
              "13         atlanticshellfish\n",
              "14                  bona-dea\n",
              "15                 agmdgroup\n",
              "16                  brulerie\n",
              "17                dts8coffee\n",
              "18         hawkesblueberries\n",
              "19              bastoscanada\n",
              "Name: company, dtype: object"
            ]
          },
          "metadata": {
            "tags": []
          },
          "execution_count": 18
        }
      ]
    },
    {
      "cell_type": "code",
      "metadata": {
        "colab": {
          "base_uri": "https://localhost:8080/"
        },
        "id": "qPlsoHFUzx4e",
        "outputId": "307bdfd8-d8ec-4521-8416-9e725db65297"
      },
      "source": [
        "type(df_mini['TextContent'][0])"
      ],
      "execution_count": 24,
      "outputs": [
        {
          "output_type": "execute_result",
          "data": {
            "text/plain": [
              "str"
            ]
          },
          "metadata": {
            "tags": []
          },
          "execution_count": 24
        }
      ]
    },
    {
      "cell_type": "code",
      "metadata": {
        "id": "GmACx5b8jkOv"
      },
      "source": [
        "import matplotlib.pyplot as plt\n",
        "import re\n",
        "import string\n",
        "from textblob import TextBlob\n",
        "import nltk\n",
        "from nltk.stem import WordNetLemmatizer\n",
        "from nltk.corpus import stopwords\n",
        "import numpy as np"
      ],
      "execution_count": 25,
      "outputs": []
    },
    {
      "cell_type": "code",
      "metadata": {
        "colab": {
          "base_uri": "https://localhost:8080/"
        },
        "id": "nT7dGQz1j5vZ",
        "outputId": "c5c87a79-20fe-4ac6-dcab-2976f9b5f072"
      },
      "source": [
        "nltk.download('stopwords')\n",
        "nltk.download('wordnet')"
      ],
      "execution_count": 26,
      "outputs": [
        {
          "output_type": "stream",
          "text": [
            "[nltk_data] Downloading package stopwords to /root/nltk_data...\n",
            "[nltk_data]   Unzipping corpora/stopwords.zip.\n",
            "[nltk_data] Downloading package wordnet to /root/nltk_data...\n",
            "[nltk_data]   Unzipping corpora/wordnet.zip.\n"
          ],
          "name": "stdout"
        },
        {
          "output_type": "execute_result",
          "data": {
            "text/plain": [
              "True"
            ]
          },
          "metadata": {
            "tags": []
          },
          "execution_count": 26
        }
      ]
    },
    {
      "cell_type": "code",
      "metadata": {
        "colab": {
          "base_uri": "https://localhost:8080/"
        },
        "id": "KdB9k4SXtdLi",
        "outputId": "a0f4d937-33fa-45b2-e2b9-6333a46c7270"
      },
      "source": [
        "df_mini.dtypes"
      ],
      "execution_count": 27,
      "outputs": [
        {
          "output_type": "execute_result",
          "data": {
            "text/plain": [
              "_id                object\n",
              "downloaded_link    object\n",
              "HTML               object\n",
              "TextContent        object\n",
              "website            object\n",
              "company            object\n",
              "dtype: object"
            ]
          },
          "metadata": {
            "tags": []
          },
          "execution_count": 27
        }
      ]
    },
    {
      "cell_type": "code",
      "metadata": {
        "colab": {
          "base_uri": "https://localhost:8080/"
        },
        "id": "D_MFfuoPnqZS",
        "outputId": "a947a579-26a7-44bc-8d2f-77863d12daaa"
      },
      "source": [
        "belpar = df_mini.iloc[6][3]\n",
        "print(belpar)"
      ],
      "execution_count": 30,
      "outputs": [
        {
          "output_type": "stream",
          "text": [
            " storefix@belpar.com (604) 581-5291 Home Company Services Products Blog Contact Us Request a Quote Request a Quote Products Categories Products > Custom Millwork Fabrication > Custom Store Fixture Fabrication > Point Of Sale Checkouts > Bakery Display Units > Produce Display Units > Floral Display Units > Wine and Liquor Displays > Meat, Seafood, & Deli > Custom Display Units > Residential Cabinetry and Counter-Tops CONTACT US! If you would like more information about any of our products, email us or give us a call storefix@belpar.com 1(888) 423-5727 Produce Display #13 © Bel-Par Industries LTD. All Rights Reserved Web Design and Development by Web Masters Corp. Home Company Services Products Blog Contact Us TOP, storefix@belpar.com (604) 581-5291 Home Company Services Products Blog Contact Us Request a Quote Request a Quote Products Categories Products > Custom Millwork Fabrication > Custom Store Fixture Fabrication > Point Of Sale Checkouts > Bakery Display Units > Produce Display Units > Floral Display Units > Wine and Liquor Displays > Meat, Seafood, & Deli > Custom Display Units > Residential Cabinetry and Counter-Tops CONTACT US! If you would like more information about any of our products, email us or give us a call storefix@belpar.com 1(888) 423-5727 Produce Display #2 © Bel-Par Industries LTD. All Rights Reserved Web Design and Development by Web Masters Corp. Home Company Services Products Blog Contact Us TOP, storefix@belpar.com (604) 581-5291 Home Company Services Products Blog Contact Us Request a Quote Request a Quote Products Categories Products > Custom Millwork Fabrication > Custom Store Fixture Fabrication > Point Of Sale Checkouts > Bakery Display Units > Produce Display Units > Floral Display Units > Wine and Liquor Displays > Meat, Seafood, & Deli > Custom Display Units > Residential Cabinetry and Counter-Tops CONTACT US! If you would like more information about any of our products, email us or give us a call storefix@belpar.com 1(888) 423-5727 Kitchen (Hertco Pic 9) © Bel-Par Industries LTD. All Rights Reserved Web Design and Development by Web Masters Corp. Home Company Services Products Blog Contact Us TOP, storefix@belpar.com (604) 581-5291 Home Company Services Products Blog Contact Us Request a Quote Request a Quote Products Categories Products > Custom Millwork Fabrication > Custom Store Fixture Fabrication > Point Of Sale Checkouts > Bakery Display Units > Produce Display Units > Floral Display Units > Wine and Liquor Displays > Meat, Seafood, & Deli > Custom Display Units > Residential Cabinetry and Counter-Tops CONTACT US! If you would like more information about any of our products, email us or give us a call storefix@belpar.com 1(888) 423-5727 Kitchen (Hertco Pic 1) Kitchen (Hertco Pic 2) Kitchen (Hertco Pic 3) Kitchen (Hertco Pic 4) Kitchen (Hertco Pic 5) Kitchen (Hertco Pic 6) Kitchen (Hertco Pic 7) Kitchen (Hertco Pic 8) Kitchen (Hertco Pic 9) Kitchen (Hertco Pic 10) Kitchen (Hertco Pic 11) Kitchen (Hertco Pic 12) Residential Bar (Hertco Pic 13) Residential Bar (Hertco Pic 14) Residential Bar (Hertco Pic 15) Vanity (Hertco Pic 16) Vanity (Hertco Pic 17) © Bel-Par Industries LTD. All Rights Reserved Web Design and Development by Web Masters Corp. Home Company Services Products Blog Contact Us TOP, storefix@belpar.com (604) 581-5291 Home Company Services Products Blog Contact Us Request a Quote Request a Quote Products Categories Products > Custom Millwork Fabrication > Custom Store Fixture Fabrication > Point Of Sale Checkouts > Bakery Display Units > Produce Display Units > Floral Display Units > Wine and Liquor Displays > Meat, Seafood, & Deli > Custom Display Units > Residential Cabinetry and Counter-Tops CONTACT US! If you would like more information about any of our products, email us or give us a call storefix@belpar.com 1(888) 423-5727 SB-350 Adjustable Height Full Size Single Belt Checkout The SB-350 Adjustable Height Full Size Single Belt Checkout (124\" long) was ergonomically designed with customers, business owners, and employee's in mind. The adjustable work height and foot rest greatly reduces worker fatigue and back related injuries. Also with this unit being adjustable height it is very wheelchair access friendly. The adjustable height system installed in these checkouts are pressure sensitive smart. This means is if the unit is accidentally lowered onto an obstruction (example: hand baskets), the system will recognize this, stop, and automatically lift up a few inches allowing the cashier to remove the obstruction. This checkout utilizes a 52\" front belt system, scanner area, and two bagging wells. The SB-350 comes with a Cash Stand which includes a two locking drawers, lower doors, and security panel. STANDARD FEATURES: - Electronically Controlled Adjustable Height System - Pressure Sensitive - Ergonomic Adustable Working Deck Height Which Travels 32\" to 40\" - One Cash Stand with Two Locking Drawers, Lower Doors, and Security Panel - Durable Corlon Top Surface Material - High Pressure Laminate Exterior Finishing (Customer's Choice) - Two Ply PVC Endless Black Belt - Belt Clean Out Tray - Automatic Electric Eye Belt System - Certified to CSA and NRTL/C Safety Standards - Two Bag Wells with One Pull Up Shelf - Heavy Duty Exterior Bumper Protection - Aluminum Angles Applied to all Exposed Corners - Exterior Edges wrapped in Durable Black T-Molding - Grocery Divider Rails - One Year Warranty Parts & Labour * PDF Download SB-350 Schematics * © Bel-Par Industries LTD. All Rights Reserved Web Design and Development by Web Masters Corp. Home Company Services Products Blog Contact Us TOP, storefix@belpar.com (604) 581-5291 Home Company Services Products Blog Contact Us Request a Quote Request a Quote Content Categories Products > Custom Millwork Fabrication > Custom Store Fixture Fabrication > Point Of Sale Checkouts > Bakery Display Units > Produce Display Units > Floral Display Units > Wine and Liquor Displays > Meat, Seafood, & Deli > Custom Display Units > Residential Cabinetry and Counter-Tops CONTACT US! If you would like more information about any of our products, email us or give us a call storefix@belpar.com 1(888) 423-5727 Heading 2 Lorem ipsum dolor sit amet, consectetur adipisicing elit. Voluptatum, repellat, a. Repellat, soluta fuga commodi consequatur optio itaque, nisi aut voluptatem neque quaerat perferendis fugit ab nulla ex nostrum quasi ipsum molestias modi totam eligendi pariatur accusantium natus officiis? Voluptate veniam in, reicien. Subheading Lorem ipsum dolor sit amet, consectetur adipisicing elit. Laborum consequuntur ex repellat delectus quas quia illum sed non, praesentium atque, omnis aliquid odit doloremque tempore harum cum aperiam hic deserunt? Ullam nihil libero sed voluptatibus at voluptatum consectetur incidunt cumque quas asperiores voluptate atque, eius laboriosam et nisi dolor mollitia soluta similique eligendi dignissimos Subheading Dicta quam, ratione! Tempora perspiciatis natus beatae! Possimus dolor in voluptatibus. Impedit soluta delectus maxime provident corporis totam nihil sed dolores, odit quae esse, veniam, explicabo suscipit laboriosam et veritatis accusamus. Iure vero hic omnis magnam dolores culpa sit rem natus, consequatur earum autem provident voluptatem, quidem aspernatur quaerat iusto ad quos odio alias blanditiis nulla praesentium perspiciatis a. Quam corporis, dignissimos recusandae aperiam dolorum repudiandae rerum itaque et, voluptatibus maxime obcaecati nam. © Bel-Par Industries LTD. All Rights Reserved Web Design and Development by Web Masters Corp. Home Company Services Products Blog Contact Us TOP, storefix@belpar.com (604) 581-5291 Home Company Services Products Blog Contact Us Request a Quote Request a Quote Products Categories Products > Custom Millwork Fabrication > Custom Store Fixture Fabrication > Point Of Sale Checkouts > Bakery Display Units > Produce Display Units > Floral Display Units > Wine and Liquor Displays > Meat, Seafood, & Deli > Custom Display Units > Residential Cabinetry and Counter-Tops CONTACT US! If you would like more information about any of our products, email us or give us a call storefix@belpar.com 1(888) 423-5727 Produce Display #6 © Bel-Par Industries LTD. All Rights Reserved Web Design and Development by Web Masters Corp. Home Company Services Products Blog Contact Us TOP, storefix@belpar.com (604) 581-5291 Home Company Services Products Blog Contact Us Request a Quote Request a Quote Products Categories Products > Custom Millwork Fabrication > Custom Store Fixture Fabrication > Point Of Sale Checkouts > Bakery Display Units > Produce Display Units > Floral Display Units > Wine and Liquor Displays > Meat, Seafood, & Deli > Custom Display Units > Residential Cabinetry and Counter-Tops CONTACT US! If you would like more information about any of our products, email us or give us a call storefix@belpar.com 1(888) 423-5727 WINE & LIQUOR DISPLAY UNITS - PDF DOWNLOAD - DISPLAY #1 Wine and Liquor Display #2 Wine and Liquor Display #3 Wine and Liquor Display #4 Wine and Liquor Display #5 Wine and Liquor Display #6 Wine and Liquor Display #7 Wine and Liquor Display #8 Wine and Liquor Display #9 Wine and Liquor Display #10 Wine and Liquor Display #11 Wine and Liquor Display #12 Wine and Liquor Display #13 Wine and Liquor Display #14 Wine and Liquor Display #15 Wine and Liquor Display #16 Wine and Liquor Display #17 Wine and Liquor Display #18 Wine and Liquor Display #19 Wine and Liquor Display #20 Wine and Liquor Display #21 Wine and Liquor Display #22 Wine and Liquor Display #23 Wine and Liquor Display #24 Wine and Liquor Display #25 Wine and Liquor Display #26 Wine and Liquor Display #27 Wine and Liquor Display #28 Wine and Liquor Display #29 Wine and Liquor Display #30 Wine and Liquor Display #31 Wine and Liquor Display #32 © Bel-Par Industries LTD. All Rights Reserved Web Design and Development by Web Masters Corp. Home Company Services Products Blog Contact Us TOP, storefix@belpar.com (604) 581-5291 Home Company Services Products Blog Contact Us Request a Quote Request a Quote Products Categories Products > Custom Millwork Fabrication > Custom Store Fixture Fabrication > Point Of Sale Checkouts > Bakery Display Units > Produce Display Units > Floral Display Units > Wine and Liquor Displays > Meat, Seafood, & Deli > Custom Display Units > Residential Cabinetry and Counter-Tops CONTACT US! If you would like more information about any of our products, email us or give us a call storefix@belpar.com 1(888) 423-5727 FLORAL DISPLAY UNITS - PDF DOWNLOAD - DISPLAY #1 Floral Display #2 Floral Display #3 Floral Display #4 Floral Display #5 Floral Display #6 Floral Display #7 Floral Display #8 Floral Display #9 Floral Display #10 Floral Display #11 Floral Display #12 Floral Display #13 Floral Display #14 Floral Display #15 Floral Display #16 Floral Display #17 Floral Display #18 Floral Display #19 Floral Display #20 Floral Display #21 Floral Display #22 Floral Display #23 Floral Display #24 Floral Display #25 Floral Display #26 Floral Display #27 Floral Display #28 Floral Display #29 © Bel-Par Industries LTD. All Rights Reserved Web Design and Development by Web Masters Corp. Home Company Services Products Blog Contact Us TOP, storefix@belpar.com (604) 581-5291 Home Company Services Products Blog Contact Us Request a Quote Request a Quote Products Categories Products > Custom Millwork Fabrication > Custom Store Fixture Fabrication > Point Of Sale Checkouts > Bakery Display Units > Produce Display Units > Floral Display Units > Wine and Liquor Displays > Meat, Seafood, & Deli > Custom Display Units > Residential Cabinetry and Counter-Tops CONTACT US! If you would like more information about any of our products, email us or give us a call storefix@belpar.com 1(888) 423-5727 Custom Bakery Shelving Unit Custom Wet Produce Table Custom Dry Produce Table Custom Dry Produce Table Custom Tilt Top Table Custom Jewelry Case Custom Two Tier Produce Table Custom Table with Roll Out Bin Custom Bakery Display © Bel-Par Industries LTD. All Rights Reserved Web Design and Development by Web Masters Corp. Home Company Services Products Blog Contact Us TOP, storefix@belpar.com (604) 581-5291 Home Company Services Products Blog Contact Us Request a Quote Request a Quote Products Categories Products > Custom Millwork Fabrication > Custom Store Fixture Fabrication > Point Of Sale Checkouts > Bakery Display Units > Produce Display Units > Floral Display Units > Wine and Liquor Displays > Meat, Seafood, & Deli > Custom Display Units > Residential Cabinetry and Counter-Tops CONTACT US! If you would like more information about any of our products, email us or give us a call storefix@belpar.com 1(888) 423-5727 BAKERY DISPLAY UNITS - PDF DOWNLOAD - DISPLAY #1 Bakery Display #2 Bakery Display #3 Bakery Display #4 Bakery Display #5 Bakery Display #6 Bakery Display #7 Bakery Display #8 Bakery Display #9 Bakery Display #10 Bakery Display #11 Bakery Display #12 Bakery Display #13 Bakery Display #14 Bakery Display #15 Bakery Display #16 Bakery Display #17 Bakery Display #18 Bakery Display #19 Bakery Display #20 Bakery Display #21 Bakery Display #22 Bakery Display #23 © Bel-Par Industries LTD. All Rights Reserved Web Design and Development by Web Masters Corp. Home Company Services Products Blog Contact Us TOP, storefix@belpar.com (604) 581-5291 Home Company Services Products Blog Contact Us Request a Quote Request a Quote Products Categories Products > Custom Millwork Fabrication > Custom Store Fixture Fabrication > Point Of Sale Checkouts > Bakery Display Units > Produce Display Units > Floral Display Units > Wine and Liquor Displays > Meat, Seafood, & Deli > Custom Display Units > Residential Cabinetry and Counter-Tops CONTACT US! If you would like more information about any of our products, email us or give us a call storefix@belpar.com 1(888) 423-5727 Custom Store Fixture (Bottle Return Unit) Custom Store Fixture (Soup Counter) Custom Store Fixture (End Isle Displays) Custom Store Fixture (Recycling Bin) Custom Store Fixture (Custom Cabinets) Custom Store Fixture (End Isle Displays) Custom Store Fixture (Custom Cabinets) Custom Store Fixture (End Isle Displays) Custom Store Fixture (Produce Tables) Custom Store Fixture (End Isle Displays) Custom Store Fixture (Shelving Displays) Custom Store Fixture (Customer Service Counter) Custom Store Fixture (Customer Service Counter) Custom Store Fixture (Newspaper/Magazine Display) Custom Store Fixture (Demo Display Unit) Custom Store Fixture (Demo Display Unit) Custom Store Fixture (End Isle Demo Display) Custom Store Fixture (End Isle Demo Display) Custom Store Fixture (Coffee Counter) Custom Store Fixture (Railing Display) Custom Store Fixture (Snack Counter) Custom Store Fixture (Curved Lighting Display) Custom Store Fixture (Curved Display Counter) Custom Store Fixture (Back Coffee Counter) Custom Store Fixture (Kitchen Prep Cabinets) Custom Store Fixture (Lighting Bulkhead) Custom Store Fixture (Deli/Coffee Seating Area) Custom Store Fixture (Bakery Display) Custom Store Fixture (Merchandise Wall Displays) Custom Store Fixture (Merchandise Wall Displays) Custom Store Fixture (Merchandise Wall Displays) Custom Store Fixture (Shelving Displays) Custom Store Fixture (Shelving Displays) Custom Store Fixture (Shelving Displays) Custom Store Fixture (Display Cabinets) Custom Store Fixture (Display Cabinets) Custom Store Fixture (Flower Displays) Custom Store Fixture (Flower Displays) Custom Store Fixture (Checkout Lanes) Custom Store Fixture (Checkout Lanes) Custom Store Fixture (Checkout Lanes) Custom Cashier Counter Custom Cashier Counter Custom Cashier Counter © Bel-Par Industries LTD. All Rights Reserved Web Design and Development by Web Masters Corp. Home Company Services Products Blog Contact Us TOP, storefix@belpar.com (604) 581-5291 Home Company Services Products Blog Contact Us Request a Quote Request a Quote Products Categories Products > Custom Millwork Fabrication > Custom Store Fixture Fabrication > Point Of Sale Checkouts > Bakery Display Units > Produce Display Units > Floral Display Units > Wine and Liquor Displays > Meat, Seafood, & Deli > Custom Display Units > Residential Cabinetry and Counter-Tops CONTACT US! If you would like more information about any of our products, email us or give us a call storefix@belpar.com 1(888) 423-5727 Custom Millwork (Cosmetic Display) Custom Millwork (Product Display Stand) Custom Millwork (Product Display Case) Custom Millwork (Perfume Displays) Custom Millwork (Cosmetic Vendor Displays) Custom Millwork (Reception Counter) Custom Millwork (Cosmetic Vendor Displays) Custom Millwork (Cosmetic Vendor Displays) Custom Millwork (Cosmetic Vendor Displays) Custom Millwork (Cosmetic Vendor Displays) Custom Millwork (Cosmetic Vendor Displays) Custom Millwork (Cabinets) Custom Millwork (Cabinets) Custom Millwork (Cabinets) Custom Millwork (Cabinets) Library Shelving Library Shelving Office Kitchen Office Kitchen Office Kitchen Office Kitchen Back Counter Sink Unit Office Storage Cabinets Office Coffee Prep Counter Window Seating Area Window Seating Area Custom Millwork (Showcase Display) Custom Millwork (Staff-Room Kitchen #1) Custom Millwork (Patient Care Facility Room#1) Custom Millwork (Patient Care Facility Room #2) Custom Millwork (Staff-Room Office) Custom Millwork (Patient Care Facility Room #3) Custom Millwork (Fireplace/Living Room) Custom Millwork (Staff-Room Kitchen #2) Custom Millwork (Staff-Room Office) Custom Millwork (Staff-Room Office) Custom Millwork (Solid Surface Vanity Top) © Bel-Par Industries LTD. All Rights Reserved Web Design and Development by Web Masters Corp. Home Company Services Products Blog Contact Us TOP, storefix@belpar.com (604) 581-5291 Home Company Services Products Blog Contact Us Request a Quote Request a Quote Products Categories Products > Custom Millwork Fabrication > Custom Store Fixture Fabrication > Point Of Sale Checkouts > Bakery Display Units > Produce Display Units > Floral Display Units > Wine and Liquor Displays > Meat, Seafood, & Deli > Custom Display Units > Residential Cabinetry and Counter-Tops CONTACT US! If you would like more information about any of our products, email us or give us a call storefix@belpar.com 1(888) 423-5727 Custom Millwork Fabrication Custom Store Fixture Fabrication Point Of Sale Checkouts Bakery Display Units Produce Display Units Floral Display Units Wine and Liquor Displays Meat, Seafood, & Deli Custom Display Units Residential Cabinetry and Counter-Tops © Bel-Par Industries LTD. All Rights Reserved Web Design and Development by Web Masters Corp. Home Company Services Products Blog Contact Us TOP, storefix@belpar.com (604) 581-5291 Home Company Services Products Blog Contact Us Request a Quote Request a Quote Products Categories Products > Custom Millwork Fabrication > Custom Store Fixture Fabrication > Point Of Sale Checkouts > Bakery Display Units > Produce Display Units > Floral Display Units > Wine and Liquor Displays > Meat, Seafood, & Deli > Custom Display Units > Residential Cabinetry and Counter-Tops CONTACT US! If you would like more information about any of our products, email us or give us a call storefix@belpar.com 1(888) 423-5727 MEAT, SEAFOOD, & DELI - PDF DOWNLOAD - DISPLAY #1 Meat, Seafood, & Deli #2 Meat, Seafood, & Deli #3 Meat, Seafood, & Deli #4 Meat, Seafood, & Deli #5 Meat, Seafood, & Deli #6 Meat, Seafood, & Deli #8 Meat, Seafood, & Deli #9 Meat, Seafood, & Deli #10 Meat, Seafood, & Deli #11 Meat, Seafood, & Deli #12 Meat, Seafood, & Deli #13 Meat, Seafood, & Deli #14 Meat, Seafood, & Deli #15 Meat, Seafood, & Deli #16 Meat, Seafood, & Deli #17 Meat, Seafood, & Deli #18 Meat, Seafood, & Deli #19 Meat, Seafood, & Deli #20 Meat, Seafood, & Deli #21 Meat, Seafood, & Deli #22 Meat, Seafood, & Deli #23 Meat, Seafood, & Deli #24 Meat, Seafood, & Deli #25 Meat, Seafood, & Deli #26 Meat, Seafood, & Deli #27 Meat, Seafood, & Deli #28 Meat, Seafood, & Deli #29 Meat, Seafood, & Deli #30 Meat, Seafood, & Deli #31 Meat, Seafood, & Deli #32 Meat, Seafood, & Deli #33 Meat, Seafood, & Deli #34 Meat, Seafood, & Deli #35 Meat, Seafood, & Deli #36 Meat, Seafood, & Deli #37 Meat, Seafood, & Deli #38 Meat, Seafood, & Deli #39 Meat, Seafood, & Deli #40 Meat, Seafood, & Deli #41 © Bel-Par Industries LTD. All Rights Reserved Web Design and Development by Web Masters Corp. Home Company Services Products Blog Contact Us TOP, storefix@belpar.com (604) 581-5291 Home Company Services Products Blog Contact Us Request a Quote Request a Quote Services Services Services > What We Offer CONTACT US! If you would like more information about any of our products, email us or give us a call storefix@belpar.com 1(888) 423-5727 What We Offer Budgeting and Estimating Layout and Design Manufacturing Project Management Installation Customer Service/Support © Bel-Par Industries LTD. All Rights Reserved Web Design and Development by Web Masters Corp. Home Company Services Products Blog Contact Us TOP, storefix@belpar.com (604) 581-5291 Home Company Services Products Blog Contact Us Request a Quote Request a Quote QUOTE REQUEST CONTACT INFO 12160 103A Ave, Surrey, BC V3V 3G8 (604) 581-5291 storefix@belpar.com FIRSTNAME LASTNAME EMAIL SUBJECT MESSAGE Secure number Send © Bel-Par Industries LTD. All Rights Reserved Web Design and Development by Web Masters Corp. Home Company Services Products Blog Contact Us TOP, storefix@belpar.com (604) 581-5291 Home Company Services Products Blog Contact Us Request a Quote Request a Quote Custom Millwork Custom Millwork Fabrication and Design All Custom Millwork Fabrication and Design Get a quote Custom Store Fixtures Custom Store Fixture Fabrication & Design Custom Store Fixture Fabrication and Design Get a quote Checkouts Point Of Sale Checkouts A Variety of Point of Sale Checkouts Get a quote Display Units Standard or Custom Display Units Standard or Custom Display Units Get a quote PREV NEXT BEL-PAR STORE FIXTURES We offer our clients all across North America the following custom products: Custom Millwork Fabrication , Custom Store Fixture Fabrication , Point Of Sale Checkouts , Bakery Display Units , Produce Display Units , Floral Display Units , Wine and Liquor Displays , Meat, Seafood, & Deli , Custom Display Units . Since 1945, Bel-Par Industries has been producing quality Custom Millwork, Store Fixture Displays, and Point of Sale Checkouts. We have a team of highly skilled and knowledgeable Estimators, Project Managers, CAD Engineers/Draftsmen, and Red Seal Joiners who are commited to providing you superior products and dedicated customer service. We offer budgeting, planning, and design solutions based on your needs and can manufacture and install our quality crafted products to make your vision a reality. About Us Solutions Our solutions for your supermarket and Retail needs include: Produce Display #11 Custom Store Fixture (Checkout Lanes) Custom Millwork (Staff-Room Office) Wine and Liquor Display #31 Produce Display #9 FROM IDEA - PLAN - TO FINAL SOLUTION Bel-Par has earned the reputation of an uncompromising commitment to quality and value. Our Custom Millwork, Store Fixtures, Checkouts, and Displays have been used for every Grocery and Retail application imaginable throughout North America. Please contact us today and let us know how we can help you. GET A QUOTE © Bel-Par Industries LTD. All Rights Reserved Web Design and Development by Web Masters Corp. Home Company Services Products Blog Contact Us TOP, storefix@belpar.com (604) 581-5291 Home Company Services Products Blog Contact Us Request a Quote Request a Quote Blog List Toggle Categories Post Calendar 2020 Jan Feb Mar Apr May Jun Jul Aug Sep Oct Nov Dec Featured Articles Thinking About Custom Cabinets? Heres What You Need to Know First! May 03, 2019 CONTACT US! If you would like more information about any of our products, email us or give us a call storefix@belpar.com 1(888) 423-5727 1 2 Why Should The Layout of a Grocery Store Matter to Me? Sep 05, 2019 Truth be told, there are a lot of viable reasons why grocery stores adhere to a specific layout. It’s not just a random design - the layout of each store is designed to enhance customer experience, improve flow, maximize safety, and more. Read More What Grocery Departments Can Benefit from Custom Displays? Aug 15, 2019 Have you ever walked into a grocery store and felt a nice sense of calm because everything was laid out in the most perfect way? While the food is the reason you are taking that trip to the grocery store, what carries that food is what gives you that calming feeling. It’s no surprise that the structure is appealing to the human eye. If we see things organized and in their own unique places, it is quite satisfying. Read More Spruce Up Your Supermarket in More Ways Than One! Jul 04, 2019 Looks don’t mean everything, but when it comes to the first impression you get upon walking into a grocery store, they do say a lot. The layout and aesthetic appeal of a grocery store can help traffic navigate in a way that is cohesive with the overall flow. Stores that are overly cluttered can overwhelm and deter visitors whereas, on the other hand, stores with minimal displays may leave them feeling underwhelmed. Properly displaying items in a way that is inviting to shoppers can help put them at ease and increase the overall contentment associated with their shopping experience. Read More How Custom Store Displays Have The Power To Influence Your Business Jun 13, 2019 Have you ever walked by a store and was there something that caught your eye in the first place? That is probably due to the unique display used to showcase the product. Product placement is essential to create visual appeal and draw customer interest. It helps them envision the product just as is at their home. Read More Thinking About Custom Cabinets? Heres What You Need to Know First! May 03, 2019 In the retail and grocery industry space, competitive players are constantly looking for a niche touch to add to the consumer experience. From the second someone steps into the location to the product browsing to the purchasing process, there are many ways that a company can create a unique touch. Read More © Bel-Par Industries LTD. All Rights Reserved Web Design and Development by Web Masters Corp. Home Company Services Products Blog Contact Us TOP, storefix@belpar.com (604) 581-5291 Home Company Services Products Blog Contact Us Request a Quote Request a Quote Company Company Company > About Us CONTACT US! If you would like more information about any of our products, email us or give us a call storefix@belpar.com 1(888) 423-5727 About Us Bel-Par is a combination of Paragon Woodworks (est. 1945), a Vancouver based supermarket fixtures manufacturer, and Bell-Craft Industries (est. 1954), a custom millwork manufacturer.  They consolidated in the Surrey, BC facility in the 1960's and created the reputable company we are today. Bel-Par Industries continues the legacy of quality and service with our diversified range of products including Custom Millwork, Store Fixture Displays, and Point of Sale Checkouts.  Bel-Par customers can work alongside our qualified staff to make their visions a reality, from start to finish for all of their retail and commercial needs. We offer our clients in Greater Vancouver Area the following custom products: Custom Millwork Fabrication , Custom Store Fixture Fabrication , Point Of Sale Checkouts , Bakery Display Units , Produce Display Units , Floral Display Units , Wine and Liquor Displays , Meat, Seafood, & Deli , Custom Display Units . © Bel-Par Industries LTD. All Rights Reserved Web Design and Development by Web Masters Corp. Home Company Services Products Blog Contact Us TOP, storefix@belpar.com (604) 581-5291 Home Company Services Products Blog Contact Us Request a Quote Request a Quote Products Categories Products > Custom Millwork Fabrication > Custom Store Fixture Fabrication > Point Of Sale Checkouts > Bakery Display Units > Produce Display Units > Floral Display Units > Wine and Liquor Displays > Meat, Seafood, & Deli > Custom Display Units > Residential Cabinetry and Counter-Tops CONTACT US! If you would like more information about any of our products, email us or give us a call storefix@belpar.com 1(888) 423-5727 SB-142 Express Checkout SB-208 Single Belt Express Checkout SB-215 Full Size Single Belt Checkout SB-230 Medium Size Single Belt Checkout SB-240 Medium Size Single Belt Checkout SB-250 Adjustable Height Express Single Belt Checkout SB-350 Adjustable Height Full Size Single Belt Checkout SB-400 Single Belt Pedestal Checkout © Bel-Par Industries LTD. All Rights Reserved Web Design and Development by Web Masters Corp. Home Company Services Products Blog Contact Us TOP, storefix@belpar.com (604) 581-5291 Home Company Services Products Blog Contact Us Request a Quote Request a Quote Products Categories Products > Custom Millwork Fabrication > Custom Store Fixture Fabrication > Point Of Sale Checkouts > Bakery Display Units > Produce Display Units > Floral Display Units > Wine and Liquor Displays > Meat, Seafood, & Deli > Custom Display Units > Residential Cabinetry and Counter-Tops CONTACT US! If you would like more information about any of our products, email us or give us a call storefix@belpar.com 1(888) 423-5727 PRODUCE DISPLAY UNITS - PDF DOWNLOAD - DISPLAY #1 Produce Display #2 Produce Display #3 Produce Display #4 Produce Display #5 Produce Display #6 Produce Display #7 Produce Display #8 Produce Display #9 Produce Display #10 Produce Display #11 Produce Display #12 Produce Display #13 Produce Display #14 Produce Display #15 Produce Display #16 Produce Display #17 Produce Display #18 Produce Display #19 Produce Display #20 Produce Display #21 Produce Display #22 Produce Display #23 Produce Display #24 Produce Display #25 Produce Display #26 © Bel-Par Industries LTD. All Rights Reserved Web Design and Development by Web Masters Corp. Home Company Services Products Blog Contact Us TOP, storefix@belpar.com (604) 581-5291 Home Company Services Products Blog Contact Us Request a Quote Request a Quote Contact Us CONTACT INFO 12160 103A Ave, Surrey, BC V3V 3G8 (604) 581-5291 storefix@belpar.com FIRSTNAME LASTNAME EMAIL SUBJECT MESSAGE Secure number Send © Bel-Par Industries LTD. All Rights Reserved Web Design and Development by Web Masters Corp. Home Company Services Products Blog Contact Us TOP\n"
          ],
          "name": "stdout"
        }
      ]
    },
    {
      "cell_type": "code",
      "metadata": {
        "id": "tLj896GYoIQv"
      },
      "source": [
        "import spacy\n",
        "\n",
        "# Load English tokenizer, tagger, parser, NER and word vectors\n",
        "nlp = spacy.load(\"en_core_web_sm\")"
      ],
      "execution_count": 31,
      "outputs": []
    },
    {
      "cell_type": "code",
      "metadata": {
        "id": "HiWoulLUoNsq"
      },
      "source": [
        "# Process whole documents\n",
        "text = (df_mini['TextContent'][1])\n",
        "doc = nlp(text)"
      ],
      "execution_count": 32,
      "outputs": []
    },
    {
      "cell_type": "code",
      "metadata": {
        "colab": {
          "base_uri": "https://localhost:8080/"
        },
        "id": "AtWAsZc7oabG",
        "outputId": "07ec991a-f1f0-4b4c-da82-ec36f00672d3"
      },
      "source": [
        "# Analyze syntax\n",
        "print(\"Noun phrases:\", [chunk.text for chunk in doc.noun_chunks])\n",
        "print(\"Verbs:\", [token.lemma_ for token in doc if token.pos_ == \"VERB\"])\n",
        "\n",
        "# Find named entities, phrases and concepts\n",
        "for entity in doc.ents:\n",
        "    print(entity.text, entity.label_)"
      ],
      "execution_count": 33,
      "outputs": [
        {
          "output_type": "stream",
          "text": [
            "Noun phrases: [' Home', 'Products Red Head', 'Select', 'South Lake Select Shipwreck Select', 'Savage Blonde Tuxedo Malpeque Contact Atlantic Shellfish', 'The First Step Contact Us', 'touch', 'details', 'pricing', 'shipping', 'Compliments', 'comments', 'questions', 'required field Name', 'Last Email', '* Submit TELEPHONE NUMBER', 'FAX NUMBER', '-961-3400 902-961-3445 MAILING ADDRESS', 'PHYSICAL ADDRESS P.O. Box', '210 Morell', 'PE C0A 1S0 Canada', '306 Red Head Road Morell', 'PE \\u200bCanada', 'the names', 'Jacob Dockendorff', 'jacob@atlanticshellfish.com', 'Ashley Dumville', 'Bobby McIsaac', 'Atlantic Shellfish', 'the forefront', \"PEI's oyster industry\", 'We', 'the bar', 'we', 'it', 'Products Red Head', 'Select South Lake Select Shipwreck', 'Home', 'Products Red Head', 'Select South Lake Select Shipwreck Select Savage Blonde Tuxedo Malpeque Contact Atlantic Shellfish Tuxedo Surface', 'The Tuxedo branding', 'a result', 'the black and white shell coloring', 'the Foxley River', 'PEI oysters', 'Our Tuxedo oysters', \"your next 'black tie affair\", 'The Tuxedo', 'a premium brand oyster', 'These oysters', 'floating bags', '3-4 years', 'harvest size', 'the spring', 'summer', 'seasons', 'each bags', 'the water', 'two days', 'We', 'any predators', 'the oysters', 'the bags', 'shape', 'meat quality', 'thickness', 'the oysters', 'the bags', 'overall performance', 'Any oysters', 'our bottom cultivation sites', 'the winter', 'the bags', 'the bottom', 'site', 'the ice', 'Typically available fall/winter', 'Foxley River', 'PEI The Tuxedos shells', 'they', 'The Tuxedo meats', 'a refined combination', 'even the most discerning palate', 'Atlantic Shellfish', 'the forefront', \"PEI's oyster industry\", 'We', 'the bar', 'we', 'it', 'Products Red Head', 'Select South Lake Select Shipwreck', 'Home', 'Products Red Head', 'Select South Lake Select Shipwreck Select Savage Blonde Tuxedo Malpeque Contact Atlantic Shellfish', 'Malpeque Wild', 'The Malpeque oyster branding', 'a staple', 'the Prince Edward Island oyster industry', 'the bread', 'butter', 'meat', 'potatoes', 'oysters', 'PEI', 'Malpeques', 'a variety', 'bays', 'rivers', 'PEI', 'We', 'Malpeques', 'Choice', 'Standard', 'Commercial grades', 'These oysters', 'a small group', 'dedicated\\xa0public fishers', 'These fishers', 'the traditional oyster tongs', 'our choice', 'standard', 'commercial grade', 'The public fishery', 'a spring and fall season', 'The majority', 'these oysters', 'the spring fishing season', 'the summer', 'these same fishers', 'us', 'oysters', 'their own private leases', 'Various locations', \"St. Peter's Bay\", 'The Malpeque shells', 'Colourings', 'The Malpeque meats', 'They', 'location', 'they', 'the sweet and briny North Shore', 'PEI flavours', 'spring', 'summer', 'the fall season', 'we', 'them', 'their harvest location', 'the flavour variations', 'each river', 'bay', 'Atlantic Shellfish', 'the forefront', \"PEI's oyster industry\", 'We', 'the bar', 'we', 'it', 'Products Red Head', 'Select South Lake Select Shipwreck', 'Home', 'Products Red Head', 'Select South Lake Select Shipwreck Select', 'Savage Blonde Tuxedo Malpeque Contact Atlantic Shellfish Shipwreck', 'oysters Bottom', 'us', 'the dangers', \"Prince Edward Island's eastern point\", 'the 17th and 18th Centuries', 'more ships', 'the colliding tides', 'East Point', 'the shoreline', 'PEI', 'The tides', \"Canada's most spectacular sandy dune beaches\", \"Canada's most prized oysters\", 'Only Shipwreck Selects', 'these dangerously good waters', 'They', 'wooden boxes', 'a reminder', 'the wooden ships', 'the journey', 'These oysters', 'a small group', 'dedicated fishers', 'These fishers', 'the traditional oyster tongs', 'our Shipwreck Select oysters', 'Weather', 'these brave souls', 'more modern harvesting techniques', 'they', 'the tides', 'they', 'Typically available year round East Point', 'PEI', 'The Shipwreck Select shells', 'the tides', 'Colourings', 'The Shipwreck Select meats', 'They', 'location', 'they', 'the sweet flavours', 'the South Shore', 'the North Shore', 'Atlantic Shellfish', 'the forefront', \"PEI's oyster industry\", 'We', 'the bar', 'we', 'it', 'Products Red Head', 'Select South Lake Select Shipwreck', 'Home', 'Products Red Head', 'Select South Lake Select Shipwreck Select Savage Blonde Tuxedo Malpeque Contact Atlantic Shellfish South Lake Select Surface', 'The South Lake Select brand', 'quality', 'South Lake Select', 'our curated surface cultivated crop', 'These oysters', 'our South Lake leases', 'You', 'some variation', 'the shell', 'no mistake', 'these oysters', 'South Lake', 'South Lake Select', 'a premium brand oyster', 'These oysters', 'floating bags', '3-4 years', 'harvest size', 'the spring', 'summer', 'seasons', 'each bags', 'the water', 'two days', 'We', 'any predators', 'the oysters', 'the bags', 'shape', 'meat quality', 'thickness', 'the oysters', 'the bags', 'overall performance', 'Any oysters', 'our bottom cultivation sites', 'the winter', 'the bags', 'the bottom', 'site', 'the ice', '\\u200b Year-round Availability South Lake', 'PEI The South Lake Select shells', 'colour', 'mottled blonde, brown, black, and green colourings', 'their original source area', 'The South Lake Select meats', 'sweet and salty undertones', 'a lobster-like finish', 'Atlantic Shellfish', 'the forefront', \"PEI's oyster industry\", 'We', 'the bar', 'we', 'it', 'Products Red Head', 'Select South Lake Select Shipwreck', 'Home', 'Products Red Head', 'Select South Lake Select Shipwreck Select', 'Savage Blonde Tuxedo Malpeque Contact Atlantic Shellfish', 'The products', 'Menu Savage Blonde Red Head', 'Select Tuxedo Shipwreck Select South Lake Select Malpeque Atlantic Shellfish', 'the forefront', \"PEI's oyster industry\", 'We', 'the bar', 'we', 'it', 'Products Red Head', 'Select South Lake Select Shipwreck', 'Home', 'Products Red Head', 'Select South Lake Select Shipwreck Select', 'Savage Blonde Tuxedo Malpeque Contact Atlantic Shellfish savage blonde Surface', 'The\\xa0Savage Blonde branding', 'a bit', 'a joke', 'us', 'this oyster', 'no joke', 'Our Savage Blondes', 'Savage Harbour Bay', 'PEI', 'Savage Blondes', 'a premium brand oyster', 'These oysters', 'floating bags', '3-4 years', 'harvest size', 'the spring', 'summer', 'seasons', 'each bags', 'the water', 'two days', 'We', 'any predators', 'the oysters', 'the bags', 'shape', 'meat quality', 'thickness', 'the oysters', 'the bags', 'overall performance', 'Any oysters', 'our bottom cultivation sites', 'the winter', 'the bags', 'the bottom', 'site', 'the ice', 'year-round Savage Harbour', 'PEI', 'The Savage Blonde shells', 'we', 'some dirty blondes', 'darker brown', 'The Savage Blonde meats', 'a briny flavour', 'North Shore', 'PEI oysters', 'Atlantic Shellfish', 'the forefront', \"PEI's oyster industry\", 'We', 'the bar', 'we', 'it', 'Products Red Head', 'Select South Lake Select Shipwreck', 'Home', 'Products Red Head', 'Select South Lake Select Shipwreck Select', 'Savage Blonde Tuxedo Malpeque Contact Atlantic Shellfish Red Head Select Bottom', 'Wild', 'The Red Head Select brand', 'quality', 'Red Head Select', 'our curated bottom grown crop', 'These oysters', 'our bottom cultivation sites', 'the public fishery', 'Red Head Selects', \"Prince Edward Island's world class oysters\", 'Red Head Select', 'a premium brand oyster', 'We', 'that\\xa0each case', 'Red Head Selects', 'a unique story', 'our goal', 'that story', 'You', 'some cases', 'Wild', 'others', '\"Bottom Cultivated', 'The \"Wild\" oysters', 'a small group', 'dedicated\\xa0public fishers', 'These fishers', 'the traditional oyster tongs', 'Prince Edward Island', 'our select oysters', 'The \"Bottom Cultivated\" oysters', 'our own private leases', 'our custom designed harvesting barge', 'Imagine oysters', 'the sea floor', 'a cushion', 'high pressure water', 'landing', 'a conveyor belt', 'us', 'them', 'our barge', 'Spring/Summer/Fall Various locations', 'The Red Head Select shells', 'Colourings', 'The Red Head Select meats', 'We', 'them', 'their original harvest location', 'the flavour variations', 'each river', 'bay', 'Atlantic Shellfish', 'the forefront', \"PEI's oyster industry\", 'We', 'the bar', 'we', 'it', 'Products Red Head', 'Select South Lake Select Shipwreck', 'Home', 'Products Red Head', 'Select South Lake Select Shipwreck Select', 'Savage Blonde Tuxedo Malpeque Contact Atlantic', 'the story Atlantic Shellfish Products Inc.', 'Russell Dockendorff Jr. He', 'his reputation', 'a pioneer', 'his father', 'Russell Sr.', \"Prince Edward Island's mussel industry\", 'they', 'their lobster fleets', 'the mussel industry', 'everyone', 'they', 'their hard work', 'innovative approach', 'they', \"the 'Island Blue' mussel\", 'the world renowned phenomenon', 'it', 'the mussel company', 'the PEI Mussel King', \"Russell Jr.'s siblings - Esther\", 'Donna', 'Scott', 'Atlantic Shellfish', 'oysters', 'quahogs', 'Atlantic Shellfish', 'oysters', 'cultivated oysters', 'Management', 'Russell Jr.', 'his daughter', 'Cindy', 'son', 'Jacob', '\\u200bWe', 'our own brands', 'oysters', 'the bottom', 'off-bottom technology', 'We', 'one holding lease', 'nine bottom cultivation leases', 'bottom', 'PEI', 'We', 'partnerships', 'other growers', 'PEI', 'New Brunswick', 'Nova Scotia', 'Atlantic Shellfish', 'a consistent top quality product', 'a continually developing customer base', 'excellent service', 'Our association', 'PEI Mussel King', 'oyster and quahog sales', 'top quality', 'frozen mussels', 'Atlantic Shellfish', 'the forefront', \"PEI's oyster industry\", 'We', 'the bar', 'we', 'it', 'Atlantic Shellfish', 'the forefront', \"PEI's oyster industry\", 'We', 'the bar', 'we', 'it', 'Products Red Head', 'Select South Lake Select Shipwreck', 'Home', 'Products Red Head', 'Select South Lake Select Shipwreck Select', 'Savage Blonde Tuxedo Malpeque Contact Atlantic Shellfish Atlantic Shellfish Products Inc.', \"Processing Atlantic Canada's finest cultivated and wild oysters\", 'us', 'Facebook', 'Instagram', 'Atlantic Shellfish', 'the forefront', \"PEI's oyster industry\", 'We', 'the bar', 'we', 'it', 'Products Red Head', 'Select South Lake Select Shipwreck']\n",
            "Verbs: ['indicate', 'require', 'submit', 'face', 'go', 'innovate', 'strive', 'try', 'set', 'raise', 'cultivate', 'cultivate', 'float', 'take', 'reach', 'fall', 'turn', 'control', 'tumble', 'improve', 'shell', 'take', 'tumble', 'resize', 'inspect', 'overstock', 'grow', 'transfer', 'sink', 'remain', 'eat', 'will', 'appreciate', 'innovate', 'strive', 'try', 'set', 'raise', 'gather', 'include', 'limit', 'offer', 'harvest', 'harvest', 'use', 'search', 'divide', 'fall', 'will', 'come', 'provide', 'can', 'hold', 'filter', 'try', 'ship', 'showcase', 'innovate', 'strive', 'try', 'set', 'raise', 'cultivate', 'brand', 'remind', 'navigate', 'wreck', 'form', 'can', 'survive', 'package', 'survive', 'harvest', 'harvest', 'use', 'gather', 'permit', 'will', 'use', 'attempt', 'beat', 'leave', 'batter', 'can', 'hold', 'filter', 'innovate', 'strive', 'try', 'set', 'raise', 'cultivate', 'cultivate', 'select', 'finish', 'may', 'see', 'colour', 'make', 'embody', 'cultivate', 'float', 'take', 'reach', 'fall', 'turn', 'control', 'tumble', 'improve', 'shell', 'take', 'tumble', 'resize', 'inspect', 'overstock', 'grow', 'transfer', 'sink', 'remain', 'vary', 'mottle', 'depend', 'overflow', 'innovate', 'strive', 'try', 'set', 'raise', 'innovate', 'strive', 'try', 'set', 'raise', 'cultivate', 'develop', 'cultivate', 'cultivate', 'float', 'take', 'reach', 'fall', 'turn', 'control', 'tumble', 'improve', 'shell', 'take', 'tumble', 'resize', 'inspect', 'overstock', 'grow', 'transfer', 'sink', 'remain', 'see', 'innovate', 'strive', 'try', 'set', 'raise', 'cultivate', 'grow', 'select', 'count', 'believe', 'tell', 'pass', 'will', 'notice', 'will', 'mark', 'will', 'harvest', 'harvest', 'use', 'search', 'harvest', 'use', 'design', 'lift', 'deliver', 'fall', 'can', 'ship', 'showcase', 'innovate', 'strive', 'try', 'set', 'raise', 'Shellfish', 'found', 'build', 'sell', 'think', 'build', 'know', 'manage', 'start', 'purchase', 'grade', 'sell', 'catch', 'purchase', 'grade', 'sell', 'catch', 'expand', 'transition', 'cultivate', 'use', 'operate', 'maintain', 'hold', 'lease', 'develop', 'supply', 'develop', 'come', 'appreciate', 'compliment', 'innovate', 'strive', 'try', 'set', 'raise', 'innovate', 'strive', 'try', 'set', 'raise', 'contact', 'follow', 'innovate', 'strive', 'try', 'set', 'raise']\n",
            "Tuxedo Malpeque PERSON\n",
            "First ORDINAL\n",
            "First ORDINAL\n",
            "902 CARDINAL\n",
            "902 CARDINAL\n",
            "P.O. Box PRODUCT\n",
            "Morell ORG\n",
            "PE C0A 1S0 Canada ORG\n",
            "Red Head Road Morell PERSON\n",
            "Jacob Dockendorff PERSON\n",
            "Cindy Dockendorff PERSON\n",
            "Ashley Dumville PERSON\n",
            "Bobby McIsaac PERSON\n",
            "Atlantic Shellfish PERSON\n",
            "PEI ORG\n",
            "Tuxedo Malpeque Contact PERSON\n",
            "South Lake Select LOC\n",
            "Tuxedo Malpeque PERSON\n",
            "Tuxedo Surface PERSON\n",
            "Tuxedo PERSON\n",
            "the Foxley River LOC\n",
            "PEI ORG\n",
            "Tuxedo PERSON\n",
            "Tuxedo PERSON\n",
            "3-4 years DATE\n",
            "Every two weeks DATE\n",
            "the spring, summer DATE\n",
            "two days DATE\n",
            "Each year DATE\n",
            "winter DATE\n",
            "fall/winter DATE\n",
            "Foxley River LOC\n",
            "Tuxedo PERSON\n",
            "Atlantic Shellfish LOC\n",
            "PEI ORG\n",
            "Tuxedo Malpeque Contact PERSON\n",
            "South Lake Select LOC\n",
            "Tuxedo Malpeque PERSON\n",
            "the Prince Edward Island FAC\n",
            "PEI ORG\n",
            "Malpeque Bay LOC\n",
            "Malpeques in Choice ORG\n",
            "a spring and fall season DATE\n",
            "the spring fishing season DATE\n",
            "the summer DATE\n",
            "year DATE\n",
            "Consolidated ORG\n",
            "St. Peter's GPE\n",
            "Malpeque ORG\n",
            "Malpeque ORG\n",
            "North Shore GPE\n",
            "PEI ORG\n",
            "spring DATE\n",
            "summer DATE\n",
            "the fall season DATE\n",
            "Atlantic Shellfish LOC\n",
            "PEI ORG\n",
            "Tuxedo Malpeque Contact PERSON\n",
            "South Lake Select LOC\n",
            "Tuxedo Malpeque PERSON\n",
            "Atlantic Shellfish LOC\n",
            "Prince Edward Island's GPE\n",
            "17th ORDINAL\n",
            "18th Centuries DATE\n",
            "East LOC\n",
            "PEI ORG\n",
            "Canada GPE\n",
            "Canada GPE\n",
            "Shipwreck Select PERSON\n",
            "Weather PERSON\n",
            "year DATE\n",
            "East Point LOC\n",
            "Shipwreck Select ORG\n",
            "the South Shore LOC\n",
            "the North Shore LOC\n",
            "Atlantic Shellfish LOC\n",
            "PEI ORG\n",
            "Tuxedo Malpeque Contact PERSON\n",
            "South Lake Select LOC\n",
            "Tuxedo Malpeque PERSON\n",
            "South Lake Select Surface LOC\n",
            "The South Lake Select LOC\n",
            "South Lake Select LOC\n",
            "South Lake LOC\n",
            "South Lake LOC\n",
            "South Lake Select LOC\n",
            "3-4 years DATE\n",
            "Every two weeks DATE\n",
            "the spring, summer DATE\n",
            "two days DATE\n",
            "Each year DATE\n",
            "winter DATE\n",
            "Availability South Lake LOC\n",
            "South Lake Select LOC\n",
            "South Lake Select LOC\n",
            "Atlantic Shellfish LOC\n",
            "PEI ORG\n",
            "Tuxedo Malpeque Contact PERSON\n",
            "South Lake Select LOC\n",
            "Tuxedo Malpeque PERSON\n",
            "Menu Savage Blonde ORG\n",
            "Red Head PERSON\n",
            "South Lake Select LOC\n",
            "Malpeque Atlantic Shellfish LOC\n",
            "PEI ORG\n",
            "Tuxedo Malpeque Contact PERSON\n",
            "South Lake Select LOC\n",
            "Tuxedo Malpeque PERSON\n",
            "Atlantic Shellfish NORP\n",
            "The Savage Blonde PRODUCT\n",
            "Savage Harbour Bay LOC\n",
            "PEI ORG\n",
            "Savage Blondes  PERSON\n",
            "3-4 years DATE\n",
            "Every two weeks DATE\n",
            "the spring, summer DATE\n",
            "two days DATE\n",
            "Each year DATE\n",
            "winter DATE\n",
            "year-round DATE\n",
            "Savage Harbour WORK_OF_ART\n",
            "North Shore GPE\n",
            "PEI ORG\n",
            "Atlantic Shellfish LOC\n",
            "PEI ORG\n",
            "Tuxedo Malpeque Contact PERSON\n",
            "South Lake Select LOC\n",
            "Tuxedo Malpeque PERSON\n",
            "Red Head Select PERSON\n",
            "Red Head PERSON\n",
            "Prince Edward Island's GPE\n",
            "Red Head Select PERSON\n",
            "Red Head PERSON\n",
            "Wild WORK_OF_ART\n",
            "Bottom Cultivated WORK_OF_ART\n",
            "Prince Edward Island GPE\n",
            "Spring/Summer/Fall Various DATE\n",
            "Atlantic Shellfish NORP\n",
            "PEI ORG\n",
            "Tuxedo Malpeque Contact PERSON\n",
            "South Lake Select LOC\n",
            "Tuxedo Malpeque PERSON\n",
            "Atlantic Shellfish LOC\n",
            "Atlantic Shellfish Products Inc. ORG\n",
            "Russell Dockendorff Jr. PERSON\n",
            "Russell Sr. PERSON\n",
            "Prince Edward Island's GPE\n",
            "1979 DATE\n",
            "the 'Island Blue' ORG\n",
            "today DATE\n",
            "Today DATE\n",
            "Russell Jr.'s PERSON\n",
            "Donna PERSON\n",
            "Scott PERSON\n",
            "Atlantic Shellfish NORP\n",
            "1997 DATE\n",
            "Today DATE\n",
            "Atlantic Shellfish LOC\n",
            "Russell Jr. PERSON\n",
            "Cindy ORG\n",
            "Jacob PERSON\n",
            "one CARDINAL\n",
            "nine CARDINAL\n",
            "three CARDINAL\n",
            "PEI ORG\n",
            "PEI ORG\n",
            "New Brunswick GPE\n",
            "Nova Scotia PERSON\n",
            "Atlantic Shellfish NORP\n",
            "PEI Mussel King ORG\n",
            "Atlantic Shellfish LOC\n",
            "PEI ORG\n",
            "Atlantic Shellfish LOC\n",
            "PEI ORG\n",
            "Tuxedo Malpeque Contact PERSON\n",
            "South Lake Select LOC\n",
            "Tuxedo Malpeque PERSON\n",
            "Atlantic Canada's LOC\n",
            "Facebook ORG\n",
            "Instagram NORP\n",
            "Atlantic Shellfish LOC\n",
            "PEI ORG\n",
            "Tuxedo Malpeque PERSON\n"
          ],
          "name": "stdout"
        }
      ]
    },
    {
      "cell_type": "code",
      "metadata": {
        "id": "gh9FEaoVpAe3"
      },
      "source": [
        "# Getting the pipeline component\n",
        "ner=nlp.get_pipe(\"ner\")"
      ],
      "execution_count": 34,
      "outputs": []
    },
    {
      "cell_type": "code",
      "metadata": {
        "id": "QmkUfijkwAuX"
      },
      "source": [
        "# training data\n",
        "TRAIN_DATA = [\n",
        "              (\"Walmart is a leading e-commerce company\", {\"entities\": [(0, 7, \"ORG\")]}),\n",
        "              (\"I reached Chennai yesterday.\", {\"entities\": [(19, 28, \"GPE\")]}),\n",
        "              (\"I recently ordered a book from Amazon\", {\"entities\": [(24,32, \"ORG\")]}),\n",
        "              (\"I was driving a BMW\", {\"entities\": [(16,19, \"PRODUCT\")]}),\n",
        "              (\"I ordered this from ShopClues\", {\"entities\": [(20,29, \"ORG\")]}),\n",
        "              (\"Fridge can be ordered in Amazon \", {\"entities\": [(0,6, \"PRODUCT\")]}),\n",
        "              (\"I bought a new Washer\", {\"entities\": [(16,22, \"PRODUCT\")]}),\n",
        "              (\"I bought a old table\", {\"entities\": [(16,21, \"PRODUCT\")]}),\n",
        "              (\"I bought a fancy dress\", {\"entities\": [(18,23, \"PRODUCT\")]}),\n",
        "              (\"I rented a camera\", {\"entities\": [(12,18, \"PRODUCT\")]}),\n",
        "              (\"I rented a tent for our trip\", {\"entities\": [(12,16, \"PRODUCT\")]}),\n",
        "              (\"I rented a screwdriver from our neighbour\", {\"entities\": [(12,22, \"PRODUCT\")]}),\n",
        "              (\"I repaired my computer\", {\"entities\": [(15,23, \"PRODUCT\")]}),\n",
        "              (\"I got my clock fixed\", {\"entities\": [(16,21, \"PRODUCT\")]}),\n",
        "              (\"I got my truck fixed\", {\"entities\": [(16,21, \"PRODUCT\")]}),\n",
        "              (\"Flipkart started it's journey from zero\", {\"entities\": [(0,8, \"ORG\")]}),\n",
        "              (\"I recently ordered from Max\", {\"entities\": [(24,27, \"ORG\")]}),\n",
        "              (\"Flipkart is recognized as leader in market\",{\"entities\": [(0,8, \"ORG\")]}),\n",
        "              (\"I recently ordered from Swiggy\", {\"entities\": [(24,29, \"ORG\")]})\n",
        "              ]"
      ],
      "execution_count": 36,
      "outputs": []
    },
    {
      "cell_type": "code",
      "metadata": {
        "id": "qTpl_4S8wGcj"
      },
      "source": [
        "# Adding labels to the `ner`\n",
        "\n",
        "for _, annotations in TRAIN_DATA:\n",
        "  for ent in annotations.get(\"entities\"):\n",
        "    ner.add_label(ent[2])"
      ],
      "execution_count": 37,
      "outputs": []
    },
    {
      "cell_type": "code",
      "metadata": {
        "id": "3C-o9adjwRZZ"
      },
      "source": [
        "# Disable pipeline components you dont need to change\n",
        "pipe_exceptions = [\"ner\", \"trf_wordpiecer\", \"trf_tok2vec\"]\n",
        "unaffected_pipes = [pipe for pipe in nlp.pipe_names if pipe not in pipe_exceptions]"
      ],
      "execution_count": 38,
      "outputs": []
    },
    {
      "cell_type": "code",
      "metadata": {
        "id": "F4zFVllTw6oL",
        "colab": {
          "base_uri": "https://localhost:8080/"
        },
        "outputId": "db6bfaab-aba0-4f43-db70-861ca392cae5"
      },
      "source": [
        "# Import requirements\n",
        "import random\n",
        "from spacy.util import minibatch, compounding\n",
        "from pathlib import Path\n",
        "\n",
        "# TRAINING THE MODEL\n",
        "with nlp.disable_pipes(*unaffected_pipes):\n",
        "\n",
        "  # Training for 30 iterations\n",
        "  for iteration in range(30):\n",
        "\n",
        "    # shuufling examples  before every iteration\n",
        "    random.shuffle(TRAIN_DATA)\n",
        "    losses = {}\n",
        "    # batch up the examples using spaCy's minibatch\n",
        "    batches = minibatch(TRAIN_DATA, size=compounding(4.0, 32.0, 1.001))\n",
        "    for batch in batches:\n",
        "        texts, annotations = zip(*batch)\n",
        "        nlp.update(\n",
        "                    texts,  # batch of texts\n",
        "                    annotations,  # batch of annotations\n",
        "                    drop=0.5,  # dropout - make it harder to memorise data\n",
        "                    losses=losses,\n",
        "                )\n",
        "        print(\"Losses\", losses)"
      ],
      "execution_count": 39,
      "outputs": [
        {
          "output_type": "stream",
          "text": [
            "Losses {'ner': 4.1443203296512365}\n",
            "Losses {'ner': 5.552498093180475}\n",
            "Losses {'ner': 8.547852074567345}\n",
            "Losses {'ner': 11.168424890332972}\n",
            "Losses {'ner': 13.540121139143594}\n",
            "Losses {'ner': 5.455520459392574}\n",
            "Losses {'ner': 8.345536274941878}\n",
            "Losses {'ner': 9.87662034922505}\n",
            "Losses {'ner': 11.778926255965416}\n",
            "Losses {'ner': 14.348215825133593}\n",
            "Losses {'ner': 2.2445838587063918}\n",
            "Losses {'ner': 6.556781562341712}\n",
            "Losses {'ner': 9.699694168857604}\n",
            "Losses {'ner': 11.952288339065717}\n",
            "Losses {'ner': 12.53794430154835}\n",
            "Losses {'ner': 0.5653322242178547}\n",
            "Losses {'ner': 1.3247428952781775}\n",
            "Losses {'ner': 4.287655809068383}\n",
            "Losses {'ner': 8.44830752364578}\n",
            "Losses {'ner': 9.328417193233065}\n",
            "Losses {'ner': 3.7882690736096265}\n",
            "Losses {'ner': 10.659562679933515}\n",
            "Losses {'ner': 12.335327222409944}\n",
            "Losses {'ner': 12.359697206096428}\n",
            "Losses {'ner': 12.458595301968273}\n",
            "Losses {'ner': 4.706494650461536}\n",
            "Losses {'ner': 6.471842037171882}\n",
            "Losses {'ner': 6.613084356284162}\n",
            "Losses {'ner': 8.32755178199477}\n",
            "Losses {'ner': 8.97848683916527}\n",
            "Losses {'ner': 3.338065156558514}\n",
            "Losses {'ner': 3.338331584540356}\n",
            "Losses {'ner': 5.013271571455334}\n",
            "Losses {'ner': 6.075398551472972}\n",
            "Losses {'ner': 8.042557402733848}\n",
            "Losses {'ner': 1.78513871215182}\n",
            "Losses {'ner': 3.681132978853384}\n",
            "Losses {'ner': 7.244425575750029}\n",
            "Losses {'ner': 10.742278408827588}\n",
            "Losses {'ner': 10.744888484150579}\n",
            "Losses {'ner': 3.4250292479846394}\n",
            "Losses {'ner': 4.666036619872557}\n",
            "Losses {'ner': 4.668946938978024}\n",
            "Losses {'ner': 5.090637926532935}\n",
            "Losses {'ner': 5.35172121337061}\n",
            "Losses {'ner': 0.0004528855770900009}\n",
            "Losses {'ner': 1.333971340798655}\n",
            "Losses {'ner': 2.325120955026989}\n",
            "Losses {'ner': 4.820136725399436}\n",
            "Losses {'ner': 4.875385559529164}\n",
            "Losses {'ner': 2.036362412536164}\n",
            "Losses {'ner': 4.60954036728026}\n",
            "Losses {'ner': 4.6380699565110035}\n",
            "Losses {'ner': 6.414449612441217}\n",
            "Losses {'ner': 6.415581430978347}\n",
            "Losses {'ner': 0.030235757410991937}\n",
            "Losses {'ner': 1.3357301261034866}\n",
            "Losses {'ner': 2.2245226843838157}\n",
            "Losses {'ner': 3.229451716393543}\n",
            "Losses {'ner': 3.231936419949635}\n",
            "Losses {'ner': 0.0056099165190062195}\n",
            "Losses {'ner': 3.3401884181255177}\n",
            "Losses {'ner': 3.3876596362852247}\n",
            "Losses {'ner': 3.3877802541178976}\n",
            "Losses {'ner': 3.3886196659120955}\n",
            "Losses {'ner': 0.5900551670927777}\n",
            "Losses {'ner': 0.9078517784880583}\n",
            "Losses {'ner': 1.0559210664362575}\n",
            "Losses {'ner': 2.5789315057317475}\n",
            "Losses {'ner': 4.445314928207965}\n",
            "Losses {'ner': 0.03568967466401318}\n",
            "Losses {'ner': 2.2464023856069844}\n",
            "Losses {'ner': 3.4496367854868595}\n",
            "Losses {'ner': 4.3425143206064245}\n",
            "Losses {'ner': 4.342620644933513}\n",
            "Losses {'ner': 0.13370039001847056}\n",
            "Losses {'ner': 0.1945489956985349}\n",
            "Losses {'ner': 3.6777894430687703}\n",
            "Losses {'ner': 3.7685866133803594}\n",
            "Losses {'ner': 3.768649439651876}\n",
            "Losses {'ner': 1.2791868017117878}\n",
            "Losses {'ner': 1.9627617426892385}\n",
            "Losses {'ner': 2.7969391870660587}\n",
            "Losses {'ner': 4.312985162653052}\n",
            "Losses {'ner': 5.841597798354445}\n",
            "Losses {'ner': 0.004742379463806401}\n",
            "Losses {'ner': 0.9639694531186216}\n",
            "Losses {'ner': 1.4405712505955386}\n",
            "Losses {'ner': 3.77586718499812}\n",
            "Losses {'ner': 3.776203007382553}\n",
            "Losses {'ner': 0.000597635087728296}\n",
            "Losses {'ner': 2.9412078511104625}\n",
            "Losses {'ner': 4.94243292287484}\n",
            "Losses {'ner': 4.962945113438721}\n",
            "Losses {'ner': 4.968674523584867}\n",
            "Losses {'ner': 0.0023530388276795655}\n",
            "Losses {'ner': 0.27690905012606626}\n",
            "Losses {'ner': 1.431847910430801}\n",
            "Losses {'ner': 3.3662285821509284}\n",
            "Losses {'ner': 3.3663094419689767}\n",
            "Losses {'ner': 0.06312409395559371}\n",
            "Losses {'ner': 0.23415945472416855}\n",
            "Losses {'ner': 0.24129473768918158}\n",
            "Losses {'ner': 1.9862251183964061}\n",
            "Losses {'ner': 3.9982474573789997}\n",
            "Losses {'ner': 0.002246412290331179}\n",
            "Losses {'ner': 2.2368964013414745}\n",
            "Losses {'ner': 2.237017735147787}\n",
            "Losses {'ner': 3.7776914019543666}\n",
            "Losses {'ner': 3.77769638112442}\n",
            "Losses {'ner': 0.1392264011748452}\n",
            "Losses {'ner': 0.15989891074707074}\n",
            "Losses {'ner': 0.15991875380594117}\n",
            "Losses {'ner': 2.1435705307858135}\n",
            "Losses {'ner': 3.1326334333621126}\n",
            "Losses {'ner': 9.392923718687834e-06}\n",
            "Losses {'ner': 2.674876430974198}\n",
            "Losses {'ner': 4.66830495229148}\n",
            "Losses {'ner': 4.682972153252728}\n",
            "Losses {'ner': 5.987205887127083}\n",
            "Losses {'ner': 1.2235518712830048e-06}\n",
            "Losses {'ner': 1.1405238327198626}\n",
            "Losses {'ner': 1.1515029781725075}\n",
            "Losses {'ner': 1.1515091807454023}\n",
            "Losses {'ner': 1.1515170204433733}\n",
            "Losses {'ner': 0.0381055764098619}\n",
            "Losses {'ner': 0.5825872575887319}\n",
            "Losses {'ner': 0.6653038225915258}\n",
            "Losses {'ner': 0.6759211547698247}\n",
            "Losses {'ner': 0.676083339702508}\n",
            "Losses {'ner': 0.2968801805866214}\n",
            "Losses {'ner': 0.6871174983275036}\n",
            "Losses {'ner': 0.6912262605727499}\n",
            "Losses {'ner': 0.697178966132418}\n",
            "Losses {'ner': 0.6971791656878638}\n",
            "Losses {'ner': 0.0033678258818811008}\n",
            "Losses {'ner': 0.4323569219776635}\n",
            "Losses {'ner': 0.4323573684861986}\n",
            "Losses {'ner': 1.4118208980148603}\n",
            "Losses {'ner': 1.940270946467984}\n",
            "Losses {'ner': 0.574118633470448}\n",
            "Losses {'ner': 1.1714393847120597}\n",
            "Losses {'ner': 2.1903919472250815}\n",
            "Losses {'ner': 2.3898654923754536}\n",
            "Losses {'ner': 2.409116992724198}\n",
            "Losses {'ner': 0.003743223101712583}\n",
            "Losses {'ner': 0.09136413751852658}\n",
            "Losses {'ner': 0.09140799099230586}\n",
            "Losses {'ner': 0.09536599044305967}\n",
            "Losses {'ner': 0.09577743567419228}\n"
          ],
          "name": "stdout"
        }
      ]
    },
    {
      "cell_type": "code",
      "metadata": {
        "id": "zdx85AV3xBQd",
        "colab": {
          "base_uri": "https://localhost:8080/"
        },
        "outputId": "cd65f9af-6ea5-4e8a-e538-7ca23099a161"
      },
      "source": [
        "# Testing the model\n",
        "doc = nlp(\"I was driving a Alto\")\n",
        "print(\"Entities\", [(ent.text, ent.label_) for ent in doc.ents])"
      ],
      "execution_count": 40,
      "outputs": [
        {
          "output_type": "stream",
          "text": [
            "Entities [('Alto', 'PRODUCT')]\n"
          ],
          "name": "stdout"
        }
      ]
    },
    {
      "cell_type": "code",
      "metadata": {
        "id": "OJcGd_miSi8G"
      },
      "source": [
        "# training data\n",
        "TRAIN_DATA = [\n",
        "              (\"Walmart is a leading e-commerce company\", {\"entities\": [(0, 7, \"ORG\")]}),\n",
        "              (\"He entered into partnership with the Copelands\", {\"entities\": [(16, 26, \"PARTNERSHIP\")]}),\n",
        "              (\"She offered a commercial partnership\", {\"entities\": [(16, 26, \"PARTNERSHIP\")]}),\n",
        "              (\"the state entered into partnership with private companies\", {\"entities\": [(16, 26, \"PARTNERSHIP\")]}),\n",
        "              (\"Alya entered into partnership with his father Amasa\", {\"entities\": [(16, 26, \"PARTNERSHIP\")]}),\n",
        "              (\"Avi is going to begin practice in a partnership with Stuart\", {\"entities\": [(16, 26, \"PARTNERSHIP\")]}),\n",
        "              (\"Meanwhile the king had formed an alliance with Henry VII\", {\"entities\": [(16, 26, \"PARTNERSHIP\")]}),\n",
        "              (\"Subsequently, however, they entered into an alliance\", {\"entities\": [(16, 26, \"PARTNERSHIP\")]}),\n",
        "              (\"Stan wants to form formal alliance with parties of the state\", {\"entities\": [(16, 26, \"PARTNERSHIP\")]}),\n",
        "              (\"It was important for contracting an alliance with England\", {\"entities\": [(16, 26, \"PARTNERSHIP\")]}),\n",
        "              (\"His career began by collaboration with other authors\", {\"entities\": [(16, 26, \"PARTNERSHIP\")]}),\n",
        "              (\"In 1912, in collaboration with his wife, he published his book\", {\"entities\": [(16, 26, \"PARTNERSHIP\")]}),\n",
        "              (\"James launched his fashion brand in collaboration with Jules Flammermont\", {\"entities\": [(16, 26, \"PARTNERSHIP\")]}),\n",
        "              (\"Venice grew out of the collaboration of numerous nameless artists\", {\"entities\": [(16, 26, \"PARTNERSHIP\")]}),\n",
        "              (\"He was assisted in important affairs by the advice and collaboration of the College of Cardinals\", {\"entities\": [(16, 26, \"PARTNERSHIP\")]}),\n",
        "              (\"An intimate collaboration with England and France was crucial\", {\"entities\": [(16, 26, \"PARTNERSHIP\")]}),\n",
        "              (\"he did very useful work in collaboration with the provincial estates\", {\"entities\": [(16, 26, \"PARTNERSHIP\")]}),\n",
        "              (\"Marla produced this magnificent work in collaboration with 22 professors\", {\"entities\": [(16, 26, \"PARTNERSHIP\")]}),\n",
        "              (\"During his exile he continued his active collaboration on publishers\", {\"entities\": [(16, 26, \"PARTNERSHIP\")]}),\n",
        "              (\"They were the bond of union between Church and state\", {\"entities\": [(16, 26, \"PARTNERSHIP\")]}),\n",
        "              (\"Betty Crocker partnered with Hershey’s to include chocolate syrup in its signature brownie recipe\", {\"entities\": [(16, 26, \"PARTNERSHIP\")]}),\n",
        "              (\"There’s something brilliant about that co-branded product\", {\"entities\": [(16, 26, \"PARTNERSHIP\")]}),\n",
        "              (\"success of one brand brings success to its partner brand\", {\"entities\": [(16, 26, \"PARTNERSHIP\")]}),\n",
        "              (\"Co-branding can be an effective way to build business\", {\"entities\": [(16, 26, \"PARTNERSHIP\")]}),\n",
        "              (\"There are a ton of great examples of co-branding partnerships out there\", {\"entities\": [(16, 26, \"PARTNERSHIP\")]}),\n",
        "              (\"GoPro and Red Bull have collaborated on many events and projects together\", {\"entities\": [(16, 26, \"PARTNERSHIP\")]}),\n",
        "              (\"perhaps the biggest collaboration stunt they’ve done was in 2002\", {\"entities\": [(16, 26, \"PARTNERSHIP\")]}),\n",
        "              (\"Customers could coordinate paint colors with Pottery Barn furniture for a mutually beneficial partnership\", {\"entities\": [(16, 26, \"PARTNERSHIP\")]}),\n",
        "              (\"Casper and West Elm partnered so shoppers could try out the comfy mattress before purchasing\", {\"entities\": [(16, 26, \"PARTNERSHIP\")]}),\n",
        "              (\"In their partnership, BMW created a sports car model called the BMW i8, while Louis Vuitton designed an exclusive bag\", {\"entities\": [(16, 26, \"PARTNERSHIP\")]}),\n",
        "              (\"This collaboration with BMW i epitomises our shared values of creativity, technological innovation and style\", {\"entities\": [(16, 26, \"PARTNERSHIP\")]}),\n",
        "              (\"Music-streaming app Spotify partnered with ride-hailing app Uber\", {\"entities\": [(16, 26, \"PARTNERSHIP\")]}),\n",
        "              (\"This smart co-branding partnership helps fans of Uber and Spotify alike enjoy better experiences thanks to the app\", {\"entities\": [(16, 26, \"PARTNERSHIP\")]}),\n",
        "              (\"Sometimes, co-branding partnerships aren’t just cool projects between two companies\", {\"entities\": [(16, 26, \"PARTNERSHIP\")]}),\n",
        "              (\" Airbnb's newest partner is Flipboard\", {\"entities\": [(16, 26, \"PARTNERSHIP\")]}),\n",
        "              (\"Airbnb recently teamed up with Flipboard to get more customers\", {\"entities\": [(16, 26, \"PARTNERSHIP\")]}),\n",
        "              (\"This partnership shows how businesses can connect their customers \", {\"entities\": [(16, 26, \"PARTNERSHIP\")]}),\n",
        "              (\"they partnered with the folks at BuzzFeed to set up and publish articles\", {\"entities\": [(16, 26, \"PARTNERSHIP\")]}),\n",
        "              (\"H&M has traditionally paired with high-end fashion brands to offer exclusive branded items\", {\"entities\": [(16, 26, \"PARTNERSHIP\")]}),\n",
        "              (\"Lucasfilm, partnered with CoverGirl to capture a broader audience to get fans\", {\"entities\": [(16, 26, \"PARTNERSHIP\")]}),\n",
        "              (\"This co-branding partnership was a win for both brand\", {\"entities\": [(16, 26, \"PARTNERSHIP\")]}),\n",
        "              (\"If you have the chance to partner for a not-for-profit cause, it can pay off in multiple ways\", {\"entities\": [(16, 26, \"PARTNERSHIP\")]}),\n",
        "              (\"Target partnered with UNICEF on a campaign\", {\"entities\": [(16, 26, \"PARTNERSHIP\")]}),\n",
        "              (\"Nike and technology giant Apple have been working together\", {\"entities\": [(16, 26, \"PARTNERSHIP\")]}),\n",
        "              (\"The co-branding partnership started\", {\"entities\": [(16, 26, \"PARTNERSHIP\")]}),\n",
        "              (\"The partnership has evolved\", {\"entities\": [(16, 26, \"PARTNERSHIP\")]}),\n",
        "              (\"We also develop partnerships with other growers in PEI\", {\"entities\": [(16, 26, \"PARTNERSHIP\")]}),\n",
        "              (\"\", {\"entities\": [(16, 26, \"PARTNERSHIP\")]}),\n",
        "              (\"\", {\"entities\": [(16, 26, \"PARTNERSHIP\")]}),\n",
        "              (\"\", {\"entities\": [(16, 26, \"PARTNERSHIP\")]}),\n",
        "              (\"\", {\"entities\": [(16, 26, \"PARTNERSHIP\")]}),\n",
        "              (\"\", {\"entities\": [(16, 26, \"PARTNERSHIP\")]}),\n",
        "              (\"\", {\"entities\": [(16, 26, \"PARTNERSHIP\")]}),\n",
        "              (\"\", {\"entities\": [(16, 26, \"PARTNERSHIP\")]}),\n",
        "              (\"\", {\"entities\": [(16, 26, \"PARTNERSHIP\")]}),\n",
        "              (\"\", {\"entities\": [(16, 26, \"PARTNERSHIP\")]}),\n",
        "              (\"\", {\"entities\": [(16, 26, \"PARTNERSHIP\")]}),\n",
        "              (\"\", {\"entities\": [(16, 26, \"PARTNERSHIP\")]}),\n",
        "              (\"\", {\"entities\": [(16, 26, \"PARTNERSHIP\")]}),\n",
        "              (\"\", {\"entities\": [(16, 26, \"PARTNERSHIP\")]}),\n",
        "              (\"\", {\"entities\": [(16, 26, \"PARTNERSHIP\")]}),\n",
        "              (\"\", {\"entities\": [(16, 26, \"PARTNERSHIP\")]}),\n",
        "              (\"\", {\"entities\": [(16, 26, \"PARTNERSHIP\")]}),\n",
        "              (\"\", {\"entities\": [(16, 26, \"PARTNERSHIP\")]}),\n",
        "              (\"\", {\"entities\": [(16, 26, \"PARTNERSHIP\")]}),\n",
        "              (\"\", {\"entities\": [(16, 26, \"PARTNERSHIP\")]}),\n",
        "              (\"\", {\"entities\": [(16, 26, \"PARTNERSHIP\")]}),\n",
        "              (\"\", {\"entities\": [(16, 26, \"PARTNERSHIP\")]}),\n",
        "              (\"\", {\"entities\": [(16, 26, \"PARTNERSHIP\")]}),\n",
        "              (\"\", {\"entities\": [(16, 26, \"PARTNERSHIP\")]}),\n",
        "              (\"\", {\"entities\": [(16, 26, \"PARTNERSHIP\")]}),\n",
        "              (\"\", {\"entities\": [(16, 26, \"PARTNERSHIP\")]}),\n",
        "              (\"\", {\"entities\": [(16, 26, \"PARTNERSHIP\")]}),\n",
        "              (\"\", {\"entities\": [(16, 26, \"PARTNERSHIP\")]}),\n",
        "              (\"\", {\"entities\": [(16, 26, \"PARTNERSHIP\")]}),\n",
        "              (\"\", {\"entities\": [(16, 26, \"PARTNERSHIP\")]}),\n",
        "              (\"\", {\"entities\": [(16, 26, \"PARTNERSHIP\")]}),\n",
        "              (\"\", {\"entities\": [(16, 26, \"PARTNERSHIP\")]}),\n",
        "              (\"\", {\"entities\": [(16, 26, \"PARTNERSHIP\")]}),\n",
        "              (\"\", {\"entities\": [(16, 26, \"PARTNERSHIP\")]}),\n",
        "              (\"\", {\"entities\": [(16, 26, \"PARTNERSHIP\")]}),\n",
        "              (\"\", {\"entities\": [(16, 26, \"PARTNERSHIP\")]}),\n",
        "              (\"\", {\"entities\": [(16, 26, \"PARTNERSHIP\")]}),\n",
        "              (\"\", {\"entities\": [(16, 26, \"PARTNERSHIP\")]}),\n",
        "              (\"\", {\"entities\": [(16, 26, \"PARTNERSHIP\")]}),\n",
        "              (\"\", {\"entities\": [(16, 26, \"PARTNERSHIP\")]}),\n",
        "              (\"\", {\"entities\": [(16, 26, \"PARTNERSHIP\")]}),\n",
        "              (\"\", {\"entities\": [(16, 26, \"PARTNERSHIP\")]}),\n",
        "              (\"\", {\"entities\": [(16, 26, \"PARTNERSHIP\")]}),\n",
        "              (\"\", {\"entities\": [(16, 26, \"PARTNERSHIP\")]}),\n",
        "              (\"\", {\"entities\": [(16, 26, \"PARTNERSHIP\")]}),\n",
        "              (\"\", {\"entities\": [(16, 26, \"PARTNERSHIP\")]}),\n",
        "              (\"\", {\"entities\": [(16, 26, \"PARTNERSHIP\")]}),\n",
        "              (\"\", {\"entities\": [(16, 26, \"PARTNERSHIP\")]}),\n",
        "              (\"\", {\"entities\": [(16, 26, \"PARTNERSHIP\")]}),\n",
        "              (\"\", {\"entities\": [(16, 26, \"PARTNERSHIP\")]}),\n",
        "              (\"\", {\"entities\": [(16, 26, \"PARTNERSHIP\")]}),\n",
        "              (\"\", {\"entities\": [(16, 26, \"PARTNERSHIP\")]}),\n",
        "              (\"\", {\"entities\": [(16, 26, \"PARTNERSHIP\")]}),\n",
        "              (\"\", {\"entities\": [(16, 26, \"PARTNERSHIP\")]}),\n",
        "              (\"\", {\"entities\": [(16, 26, \"PARTNERSHIP\")]}),\n",
        "              (\"\", {\"entities\": [(16, 26, \"PARTNERSHIP\")]}),\n",
        "              (\"\", {\"entities\": [(16, 26, \"PARTNERSHIP\")]}),\n",
        "              (\"\", {\"entities\": [(16, 26, \"PARTNERSHIP\")]}),\n",
        "              (\"\", {\"entities\": [(16, 26, \"PARTNERSHIP\")]}),\n",
        "              (\"\", {\"entities\": [(16, 26, \"PARTNERSHIP\")]}),\n",
        "              (\"\", {\"entities\": [(16, 26, \"PARTNERSHIP\")]}),\n",
        "              (\"\", {\"entities\": [(16, 26, \"PARTNERSHIP\")]}),\n",
        "              (\"\", {\"entities\": [(16, 26, \"PARTNERSHIP\")]}),\n",
        "              (\"\", {\"entities\": [(16, 26, \"PARTNERSHIP\")]}),\n",
        "              (\"\", {\"entities\": [(16, 26, \"PARTNERSHIP\")]}),\n",
        "              (\"\", {\"entities\": [(16, 26, \"PARTNERSHIP\")]}),\n",
        "              (\"\", {\"entities\": [(16, 26, \"PARTNERSHIP\")]}),\n",
        "              (\"\", {\"entities\": [(16, 26, \"PARTNERSHIP\")]}),\n",
        "              (\"\", {\"entities\": [(16, 26, \"PARTNERSHIP\")]}),\n",
        "              (\"\", {\"entities\": [(16, 26, \"PARTNERSHIP\")]}),\n",
        "              (\"\", {\"entities\": [(16, 26, \"PARTNERSHIP\")]}),\n",
        "              (\"\", {\"entities\": [(16, 26, \"PARTNERSHIP\")]}),\n",
        "              (\"\", {\"entities\": [(16, 26, \"PARTNERSHIP\")]}),\n",
        "              (\"\", {\"entities\": [(16, 26, \"PARTNERSHIP\")]}),\n",
        "              (\"\", {\"entities\": [(16, 26, \"PARTNERSHIP\")]}),\n",
        "              (\"\", {\"entities\": [(16, 26, \"PARTNERSHIP\")]}),\n",
        "              (\"\", {\"entities\": [(16, 26, \"PARTNERSHIP\")]}),\n",
        "              (\"\", {\"entities\": [(16, 26, \"PARTNERSHIP\")]}),\n",
        "              (\"\", {\"entities\": [(16, 26, \"PARTNERSHIP\")]}),\n",
        "              (\"\", {\"entities\": [(16, 26, \"PARTNERSHIP\")]}),\n",
        "              (\"\", {\"entities\": [(16, 26, \"PARTNERSHIP\")]}),\n",
        "              (\"\", {\"entities\": [(16, 26, \"PARTNERSHIP\")]}),\n",
        "              (\"\", {\"entities\": [(16, 26, \"PARTNERSHIP\")]}),\n",
        "              (\"\", {\"entities\": [(16, 26, \"PARTNERSHIP\")]}),\n",
        "              (\"\", {\"entities\": [(16, 26, \"PARTNERSHIP\")]}),\n",
        "              (\"\", {\"entities\": [(16, 26, \"PARTNERSHIP\")]}),\n",
        "              (\"\", {\"entities\": [(16, 26, \"PARTNERSHIP\")]}),\n",
        "              (\"\", {\"entities\": [(16, 26, \"PARTNERSHIP\")]}),\n",
        "              (\"\", {\"entities\": [(16, 26, \"PARTNERSHIP\")]}),\n",
        "              (\"\", {\"entities\": [(16, 26, \"PARTNERSHIP\")]}),\n",
        "              (\"\", {\"entities\": [(16, 26, \"PARTNERSHIP\")]}),\n",
        "              (\"\", {\"entities\": [(16, 26, \"PARTNERSHIP\")]}),\n",
        "              (\"\", {\"entities\": [(16, 26, \"PARTNERSHIP\")]}),\n",
        "              (\"\", {\"entities\": [(16, 26, \"PARTNERSHIP\")]}),\n",
        "              (\"\", {\"entities\": [(16, 26, \"PARTNERSHIP\")]}),\n",
        "              (\"\", {\"entities\": [(16, 26, \"PARTNERSHIP\")]}),\n",
        "              (\"\", {\"entities\": [(16, 26, \"PARTNERSHIP\")]}),\n",
        "              (\"\", {\"entities\": [(16, 26, \"PARTNERSHIP\")]}),\n",
        "              (\"\", {\"entities\": [(16, 26, \"PARTNERSHIP\")]}),\n",
        "              (\"\", {\"entities\": [(16, 26, \"PARTNERSHIP\")]}),\n",
        "              (\"\", {\"entities\": [(16, 26, \"PARTNERSHIP\")]}),\n",
        "\n",
        "\n",
        "\n",
        "              "
      ],
      "execution_count": null,
      "outputs": []
    },
    {
      "cell_type": "code",
      "metadata": {
        "id": "vzvkZ9EwxP5q"
      },
      "source": [
        "# Save the  model to directory\n",
        "output_dir = Path('/content/')\n",
        "nlp.to_disk(output_dir)\n",
        "print(\"Saved model to\", output_dir)\n",
        "\n",
        "# Load the saved model and predict\n",
        "print(\"Loading from\", output_dir)\n",
        "nlp_updated = spacy.load(output_dir)\n",
        "doc = nlp_updated(\"Fridge can be ordered in FlipKart\" )\n",
        "print(\"Entities\", [(ent.text, ent.label_) for ent in doc.ents])"
      ],
      "execution_count": null,
      "outputs": []
    }
  ]
}