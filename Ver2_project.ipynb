{
  "nbformat": 4,
  "nbformat_minor": 0,
  "metadata": {
    "colab": {
      "name": "Ver2_project.ipynb",
      "provenance": [],
      "collapsed_sections": [],
      "machine_shape": "hm",
      "authorship_tag": "ABX9TyO5DEZ+xQq7WP6/NQxUImYI",
      "include_colab_link": true
    },
    "kernelspec": {
      "display_name": "Python 3",
      "name": "python3"
    },
    "language_info": {
      "name": "python"
    }
  },
  "cells": [
    {
      "cell_type": "markdown",
      "metadata": {
        "id": "view-in-github",
        "colab_type": "text"
      },
      "source": [
        "<a href=\"https://colab.research.google.com/github/avrinderKaur/master/blob/master/Ver2_project.ipynb\" target=\"_parent\"><img src=\"https://colab.research.google.com/assets/colab-badge.svg\" alt=\"Open In Colab\"/></a>"
      ]
    },
    {
      "cell_type": "code",
      "metadata": {
        "id": "zUD25DnsLN_Q"
      },
      "source": [
        "from google.colab import drive"
      ],
      "execution_count": 2,
      "outputs": []
    },
    {
      "cell_type": "code",
      "metadata": {
        "colab": {
          "base_uri": "https://localhost:8080/"
        },
        "id": "IXHJX5j3LSeZ",
        "outputId": "44f7a34d-f990-48be-d582-5c4a3c8b1286"
      },
      "source": [
        "drive.mount('/content/drive')"
      ],
      "execution_count": 3,
      "outputs": [
        {
          "output_type": "stream",
          "text": [
            "Drive already mounted at /content/drive; to attempt to forcibly remount, call drive.mount(\"/content/drive\", force_remount=True).\n"
          ],
          "name": "stdout"
        }
      ]
    },
    {
      "cell_type": "code",
      "metadata": {
        "id": "MIxeMA-0LZCH"
      },
      "source": [
        "import pandas as pd"
      ],
      "execution_count": 4,
      "outputs": []
    },
    {
      "cell_type": "code",
      "metadata": {
        "colab": {
          "base_uri": "https://localhost:8080/"
        },
        "id": "Eh0CezlKLil2",
        "outputId": "7dc0fa0c-a847-4e13-f66f-84dce10fe94e"
      },
      "source": [
        "cd /content/drive/MyDrive/RPwinter2021"
      ],
      "execution_count": 5,
      "outputs": [
        {
          "output_type": "stream",
          "text": [
            "/content/drive/MyDrive/RPwinter2021\n"
          ],
          "name": "stdout"
        }
      ]
    },
    {
      "cell_type": "code",
      "metadata": {
        "colab": {
          "base_uri": "https://localhost:8080/",
          "height": 204
        },
        "id": "zomxUkGELmGl",
        "outputId": "43f7ce4f-7062-4c50-a076-b28192b549e9"
      },
      "source": [
        "df=pd.read_csv('dataset_agri.csv')\n",
        "df.head()"
      ],
      "execution_count": 6,
      "outputs": [
        {
          "output_type": "execute_result",
          "data": {
            "text/html": [
              "<div>\n",
              "<style scoped>\n",
              "    .dataframe tbody tr th:only-of-type {\n",
              "        vertical-align: middle;\n",
              "    }\n",
              "\n",
              "    .dataframe tbody tr th {\n",
              "        vertical-align: top;\n",
              "    }\n",
              "\n",
              "    .dataframe thead th {\n",
              "        text-align: right;\n",
              "    }\n",
              "</style>\n",
              "<table border=\"1\" class=\"dataframe\">\n",
              "  <thead>\n",
              "    <tr style=\"text-align: right;\">\n",
              "      <th></th>\n",
              "      <th>_id</th>\n",
              "      <th>downloaded_link</th>\n",
              "      <th>HTML</th>\n",
              "      <th>TextContent</th>\n",
              "      <th>website</th>\n",
              "    </tr>\n",
              "  </thead>\n",
              "  <tbody>\n",
              "    <tr>\n",
              "      <th>0</th>\n",
              "      <td>5f99776a07b086e558228ff2</td>\n",
              "      <td>http://www.bellescafevt.com/location.html</td>\n",
              "      <td>&lt;!DOCTYPE html&gt;\\n&lt;html class=\"nojs html css_ve...</td>\n",
              "      <td>\\nHome\\nMenu\\nCatering\\nSpecial Deals\\nLocatio...</td>\n",
              "      <td>bellescafevt.com</td>\n",
              "    </tr>\n",
              "    <tr>\n",
              "      <th>1</th>\n",
              "      <td>5f99776a07b086e558228ff3</td>\n",
              "      <td>http://www.atlanticshellfish.com/contact.html</td>\n",
              "      <td>&lt;!DOCTYPE html&gt;\\n&lt;html lang=\"en\"&gt;\\n\\t&lt;head&gt;&lt;sc...</td>\n",
              "      <td>\\nHome\\nAbout\\nProducts\\nRed Head Select\\nSout...</td>\n",
              "      <td>atlanticshellfish.com</td>\n",
              "    </tr>\n",
              "    <tr>\n",
              "      <th>2</th>\n",
              "      <td>5f99776a07b086e558228ff8</td>\n",
              "      <td>http://www.hls.ca</td>\n",
              "      <td>&lt;!doctype html&gt;\\r\\n&lt;html lang=\"en-US\"&gt;\\r\\n&lt;hea...</td>\n",
              "      <td>NaN</td>\n",
              "      <td>hls.ca</td>\n",
              "    </tr>\n",
              "    <tr>\n",
              "      <th>3</th>\n",
              "      <td>5f99776a07b086e558229001</td>\n",
              "      <td>http://www.bassanogrowers.ca/linkV2.html</td>\n",
              "      <td>&lt;!DOCTYPE HTML PUBLIC \"-//W3C//DTD HTML 4.01 T...</td>\n",
              "      <td>\\nADDITIONAL INFORMATION\\n&amp; LINKS\\nBassano Gro...</td>\n",
              "      <td>bassanogrowers.ca</td>\n",
              "    </tr>\n",
              "    <tr>\n",
              "      <th>4</th>\n",
              "      <td>5f99776a07b086e558229007</td>\n",
              "      <td>http://www.colarome.com/EN/Homepage_EN.html</td>\n",
              "      <td>&lt;!DOCTYPE html PUBLIC \"-//W3C//DTD XHTML 1.0 T...</td>\n",
              "      <td>\\nFor nearly 20 years,\\nColarome has been deve...</td>\n",
              "      <td>colarome.com</td>\n",
              "    </tr>\n",
              "  </tbody>\n",
              "</table>\n",
              "</div>"
            ],
            "text/plain": [
              "                        _id  ...                website\n",
              "0  5f99776a07b086e558228ff2  ...       bellescafevt.com\n",
              "1  5f99776a07b086e558228ff3  ...  atlanticshellfish.com\n",
              "2  5f99776a07b086e558228ff8  ...                 hls.ca\n",
              "3  5f99776a07b086e558229001  ...      bassanogrowers.ca\n",
              "4  5f99776a07b086e558229007  ...           colarome.com\n",
              "\n",
              "[5 rows x 5 columns]"
            ]
          },
          "metadata": {
            "tags": []
          },
          "execution_count": 6
        }
      ]
    },
    {
      "cell_type": "code",
      "metadata": {
        "colab": {
          "base_uri": "https://localhost:8080/",
          "height": 419
        },
        "id": "isRauNrpH3RH",
        "outputId": "486b2369-b2bc-4b1d-8117-52f4d950fbc6"
      },
      "source": [
        "nan_values = df[df['TextContent'].isnull()]\n",
        "nan_values"
      ],
      "execution_count": 7,
      "outputs": [
        {
          "output_type": "execute_result",
          "data": {
            "text/html": [
              "<div>\n",
              "<style scoped>\n",
              "    .dataframe tbody tr th:only-of-type {\n",
              "        vertical-align: middle;\n",
              "    }\n",
              "\n",
              "    .dataframe tbody tr th {\n",
              "        vertical-align: top;\n",
              "    }\n",
              "\n",
              "    .dataframe thead th {\n",
              "        text-align: right;\n",
              "    }\n",
              "</style>\n",
              "<table border=\"1\" class=\"dataframe\">\n",
              "  <thead>\n",
              "    <tr style=\"text-align: right;\">\n",
              "      <th></th>\n",
              "      <th>_id</th>\n",
              "      <th>downloaded_link</th>\n",
              "      <th>HTML</th>\n",
              "      <th>TextContent</th>\n",
              "      <th>website</th>\n",
              "    </tr>\n",
              "  </thead>\n",
              "  <tbody>\n",
              "    <tr>\n",
              "      <th>2</th>\n",
              "      <td>5f99776a07b086e558228ff8</td>\n",
              "      <td>http://www.hls.ca</td>\n",
              "      <td>&lt;!doctype html&gt;\\r\\n&lt;html lang=\"en-US\"&gt;\\r\\n&lt;hea...</td>\n",
              "      <td>NaN</td>\n",
              "      <td>hls.ca</td>\n",
              "    </tr>\n",
              "    <tr>\n",
              "      <th>126</th>\n",
              "      <td>5f99776c07b086e558229174</td>\n",
              "      <td>http://www.dts8coffee.com/Online_classifieds.c...</td>\n",
              "      <td>&lt;!DOCTYPE html&gt;&lt;html&gt;&lt;head&gt;&lt;script type=\"text/...</td>\n",
              "      <td>NaN</td>\n",
              "      <td>dts8coffee.com</td>\n",
              "    </tr>\n",
              "    <tr>\n",
              "      <th>181</th>\n",
              "      <td>5f99776d07b086e5582291ff</td>\n",
              "      <td>http://www.phoeniciagroup.com/fr/default.aspx</td>\n",
              "      <td>\\r\\n&lt;!DOCTYPE HTML PUBLIC \"-//W3C//DTD HTML 4....</td>\n",
              "      <td>NaN</td>\n",
              "      <td>phoeniciagroup.com</td>\n",
              "    </tr>\n",
              "    <tr>\n",
              "      <th>267</th>\n",
              "      <td>5f99776e07b086e5582292df</td>\n",
              "      <td>http://www.peijuiceworks.ca/Commercial.html</td>\n",
              "      <td>&lt;!DOCTYPE html PUBLIC \"-//W3C//DTD XHTML 1.0 S...</td>\n",
              "      <td>NaN</td>\n",
              "      <td>peijuiceworks.ca</td>\n",
              "    </tr>\n",
              "    <tr>\n",
              "      <th>271</th>\n",
              "      <td>5f99776e07b086e5582292e9</td>\n",
              "      <td>http://www.igloolikhotel.com/InnsNorth-locatio...</td>\n",
              "      <td>&lt;html&gt;\\n&lt;head&gt;\\n&lt;title&gt;Inns North Locations&lt;/t...</td>\n",
              "      <td>NaN</td>\n",
              "      <td>igloolikhotel.com</td>\n",
              "    </tr>\n",
              "    <tr>\n",
              "      <th>...</th>\n",
              "      <td>...</td>\n",
              "      <td>...</td>\n",
              "      <td>...</td>\n",
              "      <td>...</td>\n",
              "      <td>...</td>\n",
              "    </tr>\n",
              "    <tr>\n",
              "      <th>76977</th>\n",
              "      <td>5f997ae507b086e558252b68</td>\n",
              "      <td>http://evista.hoplog.com:40890/evista/</td>\n",
              "      <td>&lt;html&gt;\\r\\n&lt;script type=\"text/javascript\"&gt;locat...</td>\n",
              "      <td>NaN</td>\n",
              "      <td>hoplog.com</td>\n",
              "    </tr>\n",
              "    <tr>\n",
              "      <th>77089</th>\n",
              "      <td>5f997ae707b086e558252c62</td>\n",
              "      <td>http://nview.hoplog.com:30890/evista/</td>\n",
              "      <td>&lt;html&gt;\\r\\n&lt;script type=\"text/javascript\"&gt;locat...</td>\n",
              "      <td>NaN</td>\n",
              "      <td>hoplog.com</td>\n",
              "    </tr>\n",
              "    <tr>\n",
              "      <th>77205</th>\n",
              "      <td>5f997ae907b086e558252d7b</td>\n",
              "      <td>http://www.horizonagro.com/binextension.shtml</td>\n",
              "      <td>&lt;!DOCTYPE html PUBLIC \"-//W3C//DTD XHTML 1.0 S...</td>\n",
              "      <td>NaN</td>\n",
              "      <td>horizonagro.com</td>\n",
              "    </tr>\n",
              "    <tr>\n",
              "      <th>77244</th>\n",
              "      <td>5f997aea07b086e558252ddf</td>\n",
              "      <td>http://eidnetsp.eidnet.org/sp.html</td>\n",
              "      <td>&lt;!DOCTYPE html&gt;\\n&lt;html&gt;\\n\\t&lt;head&gt;\\n\\t\\t&lt;meta n...</td>\n",
              "      <td>NaN</td>\n",
              "      <td>eidnet.org</td>\n",
              "    </tr>\n",
              "    <tr>\n",
              "      <th>77273</th>\n",
              "      <td>5f997aea07b086e558252e1a</td>\n",
              "      <td>http://www.uap.ca</td>\n",
              "      <td>&lt;html&gt;\\r\\n&lt;head&gt;\\r\\n&lt;title&gt;UAP | Canada's Crop...</td>\n",
              "      <td>NaN</td>\n",
              "      <td>uap.ca</td>\n",
              "    </tr>\n",
              "  </tbody>\n",
              "</table>\n",
              "<p>303 rows × 5 columns</p>\n",
              "</div>"
            ],
            "text/plain": [
              "                            _id  ...             website\n",
              "2      5f99776a07b086e558228ff8  ...              hls.ca\n",
              "126    5f99776c07b086e558229174  ...      dts8coffee.com\n",
              "181    5f99776d07b086e5582291ff  ...  phoeniciagroup.com\n",
              "267    5f99776e07b086e5582292df  ...    peijuiceworks.ca\n",
              "271    5f99776e07b086e5582292e9  ...   igloolikhotel.com\n",
              "...                         ...  ...                 ...\n",
              "76977  5f997ae507b086e558252b68  ...          hoplog.com\n",
              "77089  5f997ae707b086e558252c62  ...          hoplog.com\n",
              "77205  5f997ae907b086e558252d7b  ...     horizonagro.com\n",
              "77244  5f997aea07b086e558252ddf  ...          eidnet.org\n",
              "77273  5f997aea07b086e558252e1a  ...              uap.ca\n",
              "\n",
              "[303 rows x 5 columns]"
            ]
          },
          "metadata": {
            "tags": []
          },
          "execution_count": 7
        }
      ]
    },
    {
      "cell_type": "code",
      "metadata": {
        "colab": {
          "base_uri": "https://localhost:8080/"
        },
        "id": "1qhwl9gZIHpl",
        "outputId": "bae2c91b-87a0-45da-bc09-eb3ef7deaba4"
      },
      "source": [
        "df['TextContent'][2]"
      ],
      "execution_count": 8,
      "outputs": [
        {
          "output_type": "execute_result",
          "data": {
            "text/plain": [
              "nan"
            ]
          },
          "metadata": {
            "tags": []
          },
          "execution_count": 8
        }
      ]
    },
    {
      "cell_type": "code",
      "metadata": {
        "colab": {
          "base_uri": "https://localhost:8080/"
        },
        "id": "pSe3kqm-Ly0j",
        "outputId": "7766d33f-8d39-4a07-eb62-406364897d3c"
      },
      "source": [
        "df.shape"
      ],
      "execution_count": 9,
      "outputs": [
        {
          "output_type": "execute_result",
          "data": {
            "text/plain": [
              "(78030, 5)"
            ]
          },
          "metadata": {
            "tags": []
          },
          "execution_count": 9
        }
      ]
    },
    {
      "cell_type": "code",
      "metadata": {
        "colab": {
          "base_uri": "https://localhost:8080/"
        },
        "id": "BaKZDTjzNDV8",
        "outputId": "2f8ff9d9-2de9-41b1-9409-4d13474f6a0b"
      },
      "source": [
        "df=df[df['downloaded_link'].str.contains('about-us|about|our-|story|what-is|who-we|our story|')]\n",
        "df.shape"
      ],
      "execution_count": 10,
      "outputs": [
        {
          "output_type": "execute_result",
          "data": {
            "text/plain": [
              "(78030, 5)"
            ]
          },
          "metadata": {
            "tags": []
          },
          "execution_count": 10
        }
      ]
    },
    {
      "cell_type": "code",
      "metadata": {
        "id": "BiUPAckKOf_Z"
      },
      "source": [
        "df_test = df\n",
        "df_test['company'] = df_test['website'].str.replace(r'.ca$', '')\n",
        "df_test['company'] = df_test['company'].str.replace(r'.com$', '')"
      ],
      "execution_count": 11,
      "outputs": []
    },
    {
      "cell_type": "code",
      "metadata": {
        "id": "sSkpvRp5PIW8"
      },
      "source": [
        "df_test['TextContent']=df_test['TextContent'].str.replace('\\n', ' ')"
      ],
      "execution_count": 12,
      "outputs": []
    },
    {
      "cell_type": "code",
      "metadata": {
        "colab": {
          "base_uri": "https://localhost:8080/",
          "height": 204
        },
        "id": "GV_S8KvTPb1H",
        "outputId": "ed6da428-8247-46be-d41a-9b8293774a09"
      },
      "source": [
        "df_test.head()"
      ],
      "execution_count": 13,
      "outputs": [
        {
          "output_type": "execute_result",
          "data": {
            "text/html": [
              "<div>\n",
              "<style scoped>\n",
              "    .dataframe tbody tr th:only-of-type {\n",
              "        vertical-align: middle;\n",
              "    }\n",
              "\n",
              "    .dataframe tbody tr th {\n",
              "        vertical-align: top;\n",
              "    }\n",
              "\n",
              "    .dataframe thead th {\n",
              "        text-align: right;\n",
              "    }\n",
              "</style>\n",
              "<table border=\"1\" class=\"dataframe\">\n",
              "  <thead>\n",
              "    <tr style=\"text-align: right;\">\n",
              "      <th></th>\n",
              "      <th>_id</th>\n",
              "      <th>downloaded_link</th>\n",
              "      <th>HTML</th>\n",
              "      <th>TextContent</th>\n",
              "      <th>website</th>\n",
              "      <th>company</th>\n",
              "    </tr>\n",
              "  </thead>\n",
              "  <tbody>\n",
              "    <tr>\n",
              "      <th>0</th>\n",
              "      <td>5f99776a07b086e558228ff2</td>\n",
              "      <td>http://www.bellescafevt.com/location.html</td>\n",
              "      <td>&lt;!DOCTYPE html&gt;\\n&lt;html class=\"nojs html css_ve...</td>\n",
              "      <td>Home Menu Catering Special Deals Location Bel...</td>\n",
              "      <td>bellescafevt.com</td>\n",
              "      <td>bellescafevt</td>\n",
              "    </tr>\n",
              "    <tr>\n",
              "      <th>1</th>\n",
              "      <td>5f99776a07b086e558228ff3</td>\n",
              "      <td>http://www.atlanticshellfish.com/contact.html</td>\n",
              "      <td>&lt;!DOCTYPE html&gt;\\n&lt;html lang=\"en\"&gt;\\n\\t&lt;head&gt;&lt;sc...</td>\n",
              "      <td>Home About Products Red Head Select South Lak...</td>\n",
              "      <td>atlanticshellfish.com</td>\n",
              "      <td>atlanticshellfish</td>\n",
              "    </tr>\n",
              "    <tr>\n",
              "      <th>2</th>\n",
              "      <td>5f99776a07b086e558228ff8</td>\n",
              "      <td>http://www.hls.ca</td>\n",
              "      <td>&lt;!doctype html&gt;\\r\\n&lt;html lang=\"en-US\"&gt;\\r\\n&lt;hea...</td>\n",
              "      <td>NaN</td>\n",
              "      <td>hls.ca</td>\n",
              "      <td>hls</td>\n",
              "    </tr>\n",
              "    <tr>\n",
              "      <th>3</th>\n",
              "      <td>5f99776a07b086e558229001</td>\n",
              "      <td>http://www.bassanogrowers.ca/linkV2.html</td>\n",
              "      <td>&lt;!DOCTYPE HTML PUBLIC \"-//W3C//DTD HTML 4.01 T...</td>\n",
              "      <td>ADDITIONAL INFORMATION &amp; LINKS Bassano Grower...</td>\n",
              "      <td>bassanogrowers.ca</td>\n",
              "      <td>bassanogrowers</td>\n",
              "    </tr>\n",
              "    <tr>\n",
              "      <th>4</th>\n",
              "      <td>5f99776a07b086e558229007</td>\n",
              "      <td>http://www.colarome.com/EN/Homepage_EN.html</td>\n",
              "      <td>&lt;!DOCTYPE html PUBLIC \"-//W3C//DTD XHTML 1.0 T...</td>\n",
              "      <td>For nearly 20 years, Colarome has been develo...</td>\n",
              "      <td>colarome.com</td>\n",
              "      <td>colarome</td>\n",
              "    </tr>\n",
              "  </tbody>\n",
              "</table>\n",
              "</div>"
            ],
            "text/plain": [
              "                        _id  ...            company\n",
              "0  5f99776a07b086e558228ff2  ...       bellescafevt\n",
              "1  5f99776a07b086e558228ff3  ...  atlanticshellfish\n",
              "2  5f99776a07b086e558228ff8  ...                hls\n",
              "3  5f99776a07b086e558229001  ...     bassanogrowers\n",
              "4  5f99776a07b086e558229007  ...           colarome\n",
              "\n",
              "[5 rows x 6 columns]"
            ]
          },
          "metadata": {
            "tags": []
          },
          "execution_count": 13
        }
      ]
    },
    {
      "cell_type": "code",
      "metadata": {
        "colab": {
          "base_uri": "https://localhost:8080/",
          "height": 419
        },
        "id": "KbV_nBz9HiMS",
        "outputId": "a139c042-9503-4388-82a0-fc02f9d972f8"
      },
      "source": [
        "nan_values = df_test[df_test['TextContent'].isna()]\n",
        "nan_values"
      ],
      "execution_count": 14,
      "outputs": [
        {
          "output_type": "execute_result",
          "data": {
            "text/html": [
              "<div>\n",
              "<style scoped>\n",
              "    .dataframe tbody tr th:only-of-type {\n",
              "        vertical-align: middle;\n",
              "    }\n",
              "\n",
              "    .dataframe tbody tr th {\n",
              "        vertical-align: top;\n",
              "    }\n",
              "\n",
              "    .dataframe thead th {\n",
              "        text-align: right;\n",
              "    }\n",
              "</style>\n",
              "<table border=\"1\" class=\"dataframe\">\n",
              "  <thead>\n",
              "    <tr style=\"text-align: right;\">\n",
              "      <th></th>\n",
              "      <th>_id</th>\n",
              "      <th>downloaded_link</th>\n",
              "      <th>HTML</th>\n",
              "      <th>TextContent</th>\n",
              "      <th>website</th>\n",
              "      <th>company</th>\n",
              "    </tr>\n",
              "  </thead>\n",
              "  <tbody>\n",
              "    <tr>\n",
              "      <th>2</th>\n",
              "      <td>5f99776a07b086e558228ff8</td>\n",
              "      <td>http://www.hls.ca</td>\n",
              "      <td>&lt;!doctype html&gt;\\r\\n&lt;html lang=\"en-US\"&gt;\\r\\n&lt;hea...</td>\n",
              "      <td>NaN</td>\n",
              "      <td>hls.ca</td>\n",
              "      <td>hls</td>\n",
              "    </tr>\n",
              "    <tr>\n",
              "      <th>126</th>\n",
              "      <td>5f99776c07b086e558229174</td>\n",
              "      <td>http://www.dts8coffee.com/Online_classifieds.c...</td>\n",
              "      <td>&lt;!DOCTYPE html&gt;&lt;html&gt;&lt;head&gt;&lt;script type=\"text/...</td>\n",
              "      <td>NaN</td>\n",
              "      <td>dts8coffee.com</td>\n",
              "      <td>dts8coffee</td>\n",
              "    </tr>\n",
              "    <tr>\n",
              "      <th>181</th>\n",
              "      <td>5f99776d07b086e5582291ff</td>\n",
              "      <td>http://www.phoeniciagroup.com/fr/default.aspx</td>\n",
              "      <td>\\r\\n&lt;!DOCTYPE HTML PUBLIC \"-//W3C//DTD HTML 4....</td>\n",
              "      <td>NaN</td>\n",
              "      <td>phoeniciagroup.com</td>\n",
              "      <td>phoeniciagroup</td>\n",
              "    </tr>\n",
              "    <tr>\n",
              "      <th>267</th>\n",
              "      <td>5f99776e07b086e5582292df</td>\n",
              "      <td>http://www.peijuiceworks.ca/Commercial.html</td>\n",
              "      <td>&lt;!DOCTYPE html PUBLIC \"-//W3C//DTD XHTML 1.0 S...</td>\n",
              "      <td>NaN</td>\n",
              "      <td>peijuiceworks.ca</td>\n",
              "      <td>peijuiceworks</td>\n",
              "    </tr>\n",
              "    <tr>\n",
              "      <th>271</th>\n",
              "      <td>5f99776e07b086e5582292e9</td>\n",
              "      <td>http://www.igloolikhotel.com/InnsNorth-locatio...</td>\n",
              "      <td>&lt;html&gt;\\n&lt;head&gt;\\n&lt;title&gt;Inns North Locations&lt;/t...</td>\n",
              "      <td>NaN</td>\n",
              "      <td>igloolikhotel.com</td>\n",
              "      <td>igloolikhotel</td>\n",
              "    </tr>\n",
              "    <tr>\n",
              "      <th>...</th>\n",
              "      <td>...</td>\n",
              "      <td>...</td>\n",
              "      <td>...</td>\n",
              "      <td>...</td>\n",
              "      <td>...</td>\n",
              "      <td>...</td>\n",
              "    </tr>\n",
              "    <tr>\n",
              "      <th>76977</th>\n",
              "      <td>5f997ae507b086e558252b68</td>\n",
              "      <td>http://evista.hoplog.com:40890/evista/</td>\n",
              "      <td>&lt;html&gt;\\r\\n&lt;script type=\"text/javascript\"&gt;locat...</td>\n",
              "      <td>NaN</td>\n",
              "      <td>hoplog.com</td>\n",
              "      <td>hoplog</td>\n",
              "    </tr>\n",
              "    <tr>\n",
              "      <th>77089</th>\n",
              "      <td>5f997ae707b086e558252c62</td>\n",
              "      <td>http://nview.hoplog.com:30890/evista/</td>\n",
              "      <td>&lt;html&gt;\\r\\n&lt;script type=\"text/javascript\"&gt;locat...</td>\n",
              "      <td>NaN</td>\n",
              "      <td>hoplog.com</td>\n",
              "      <td>hoplog</td>\n",
              "    </tr>\n",
              "    <tr>\n",
              "      <th>77205</th>\n",
              "      <td>5f997ae907b086e558252d7b</td>\n",
              "      <td>http://www.horizonagro.com/binextension.shtml</td>\n",
              "      <td>&lt;!DOCTYPE html PUBLIC \"-//W3C//DTD XHTML 1.0 S...</td>\n",
              "      <td>NaN</td>\n",
              "      <td>horizonagro.com</td>\n",
              "      <td>horizonagro</td>\n",
              "    </tr>\n",
              "    <tr>\n",
              "      <th>77244</th>\n",
              "      <td>5f997aea07b086e558252ddf</td>\n",
              "      <td>http://eidnetsp.eidnet.org/sp.html</td>\n",
              "      <td>&lt;!DOCTYPE html&gt;\\n&lt;html&gt;\\n\\t&lt;head&gt;\\n\\t\\t&lt;meta n...</td>\n",
              "      <td>NaN</td>\n",
              "      <td>eidnet.org</td>\n",
              "      <td>eidnet.org</td>\n",
              "    </tr>\n",
              "    <tr>\n",
              "      <th>77273</th>\n",
              "      <td>5f997aea07b086e558252e1a</td>\n",
              "      <td>http://www.uap.ca</td>\n",
              "      <td>&lt;html&gt;\\r\\n&lt;head&gt;\\r\\n&lt;title&gt;UAP | Canada's Crop...</td>\n",
              "      <td>NaN</td>\n",
              "      <td>uap.ca</td>\n",
              "      <td>uap</td>\n",
              "    </tr>\n",
              "  </tbody>\n",
              "</table>\n",
              "<p>303 rows × 6 columns</p>\n",
              "</div>"
            ],
            "text/plain": [
              "                            _id  ...         company\n",
              "2      5f99776a07b086e558228ff8  ...             hls\n",
              "126    5f99776c07b086e558229174  ...      dts8coffee\n",
              "181    5f99776d07b086e5582291ff  ...  phoeniciagroup\n",
              "267    5f99776e07b086e5582292df  ...   peijuiceworks\n",
              "271    5f99776e07b086e5582292e9  ...   igloolikhotel\n",
              "...                         ...  ...             ...\n",
              "76977  5f997ae507b086e558252b68  ...          hoplog\n",
              "77089  5f997ae707b086e558252c62  ...          hoplog\n",
              "77205  5f997ae907b086e558252d7b  ...     horizonagro\n",
              "77244  5f997aea07b086e558252ddf  ...      eidnet.org\n",
              "77273  5f997aea07b086e558252e1a  ...             uap\n",
              "\n",
              "[303 rows x 6 columns]"
            ]
          },
          "metadata": {
            "tags": []
          },
          "execution_count": 14
        }
      ]
    },
    {
      "cell_type": "code",
      "metadata": {
        "colab": {
          "base_uri": "https://localhost:8080/",
          "height": 359
        },
        "id": "RYClLphePtDJ",
        "outputId": "999f752f-c54d-4792-a797-188f8d552e74"
      },
      "source": [
        "df_test[df_test['company']=='atlanticshellfish']"
      ],
      "execution_count": 15,
      "outputs": [
        {
          "output_type": "execute_result",
          "data": {
            "text/html": [
              "<div>\n",
              "<style scoped>\n",
              "    .dataframe tbody tr th:only-of-type {\n",
              "        vertical-align: middle;\n",
              "    }\n",
              "\n",
              "    .dataframe tbody tr th {\n",
              "        vertical-align: top;\n",
              "    }\n",
              "\n",
              "    .dataframe thead th {\n",
              "        text-align: right;\n",
              "    }\n",
              "</style>\n",
              "<table border=\"1\" class=\"dataframe\">\n",
              "  <thead>\n",
              "    <tr style=\"text-align: right;\">\n",
              "      <th></th>\n",
              "      <th>_id</th>\n",
              "      <th>downloaded_link</th>\n",
              "      <th>HTML</th>\n",
              "      <th>TextContent</th>\n",
              "      <th>website</th>\n",
              "      <th>company</th>\n",
              "    </tr>\n",
              "  </thead>\n",
              "  <tbody>\n",
              "    <tr>\n",
              "      <th>1</th>\n",
              "      <td>5f99776a07b086e558228ff3</td>\n",
              "      <td>http://www.atlanticshellfish.com/contact.html</td>\n",
              "      <td>&lt;!DOCTYPE html&gt;\\n&lt;html lang=\"en\"&gt;\\n\\t&lt;head&gt;&lt;sc...</td>\n",
              "      <td>Home About Products Red Head Select South Lak...</td>\n",
              "      <td>atlanticshellfish.com</td>\n",
              "      <td>atlanticshellfish</td>\n",
              "    </tr>\n",
              "    <tr>\n",
              "      <th>13</th>\n",
              "      <td>5f99776a07b086e55822902a</td>\n",
              "      <td>http://www.atlanticshellfish.com/tuxedo.html</td>\n",
              "      <td>&lt;!DOCTYPE html&gt;\\n&lt;html lang=\"en\"&gt;\\n\\t&lt;head&gt;&lt;sc...</td>\n",
              "      <td>Home About Products Red Head Select South Lak...</td>\n",
              "      <td>atlanticshellfish.com</td>\n",
              "      <td>atlanticshellfish</td>\n",
              "    </tr>\n",
              "    <tr>\n",
              "      <th>41</th>\n",
              "      <td>5f99776b07b086e558229094</td>\n",
              "      <td>http://www.atlanticshellfish.com/malpeque.html</td>\n",
              "      <td>&lt;!DOCTYPE html&gt;\\n&lt;html lang=\"en\"&gt;\\n\\t&lt;head&gt;&lt;sc...</td>\n",
              "      <td>Home About Products Red Head Select South Lak...</td>\n",
              "      <td>atlanticshellfish.com</td>\n",
              "      <td>atlanticshellfish</td>\n",
              "    </tr>\n",
              "    <tr>\n",
              "      <th>73</th>\n",
              "      <td>5f99776c07b086e5582290eb</td>\n",
              "      <td>http://www.atlanticshellfish.com/shipwreck-sel...</td>\n",
              "      <td>&lt;!DOCTYPE html&gt;\\n&lt;html lang=\"en\"&gt;\\n\\t&lt;head&gt;&lt;sc...</td>\n",
              "      <td>Home About Products Red Head Select South Lak...</td>\n",
              "      <td>atlanticshellfish.com</td>\n",
              "      <td>atlanticshellfish</td>\n",
              "    </tr>\n",
              "    <tr>\n",
              "      <th>137</th>\n",
              "      <td>5f99776c07b086e55822918d</td>\n",
              "      <td>http://www.atlanticshellfish.com/south-lake-se...</td>\n",
              "      <td>&lt;!DOCTYPE html&gt;\\n&lt;html lang=\"en\"&gt;\\n\\t&lt;head&gt;&lt;sc...</td>\n",
              "      <td>Home About Products Red Head Select South Lak...</td>\n",
              "      <td>atlanticshellfish.com</td>\n",
              "      <td>atlanticshellfish</td>\n",
              "    </tr>\n",
              "    <tr>\n",
              "      <th>162</th>\n",
              "      <td>5f99776d07b086e5582291ce</td>\n",
              "      <td>http://www.atlanticshellfish.com/products.html</td>\n",
              "      <td>&lt;!DOCTYPE html&gt;\\n&lt;html lang=\"en\"&gt;\\n\\t&lt;head&gt;&lt;sc...</td>\n",
              "      <td>Home About Products Red Head Select South Lak...</td>\n",
              "      <td>atlanticshellfish.com</td>\n",
              "      <td>atlanticshellfish</td>\n",
              "    </tr>\n",
              "    <tr>\n",
              "      <th>259</th>\n",
              "      <td>5f99776e07b086e5582292cb</td>\n",
              "      <td>http://www.atlanticshellfish.com/savage-blonde...</td>\n",
              "      <td>&lt;!DOCTYPE html&gt;\\n&lt;html lang=\"en\"&gt;\\n\\t&lt;head&gt;&lt;sc...</td>\n",
              "      <td>Home About Products Red Head Select South Lak...</td>\n",
              "      <td>atlanticshellfish.com</td>\n",
              "      <td>atlanticshellfish</td>\n",
              "    </tr>\n",
              "    <tr>\n",
              "      <th>302</th>\n",
              "      <td>5f99776e07b086e558229339</td>\n",
              "      <td>http://www.atlanticshellfish.com/red-head-sele...</td>\n",
              "      <td>&lt;!DOCTYPE html&gt;\\n&lt;html lang=\"en\"&gt;\\n\\t&lt;head&gt;&lt;sc...</td>\n",
              "      <td>Home About Products Red Head Select South Lak...</td>\n",
              "      <td>atlanticshellfish.com</td>\n",
              "      <td>atlanticshellfish</td>\n",
              "    </tr>\n",
              "    <tr>\n",
              "      <th>517</th>\n",
              "      <td>5f99777007b086e558229516</td>\n",
              "      <td>http://www.atlanticshellfish.com/about.html</td>\n",
              "      <td>&lt;!DOCTYPE html&gt;\\n&lt;html lang=\"en\"&gt;\\n\\t&lt;head&gt;&lt;sc...</td>\n",
              "      <td>Home About Products Red Head Select South Lak...</td>\n",
              "      <td>atlanticshellfish.com</td>\n",
              "      <td>atlanticshellfish</td>\n",
              "    </tr>\n",
              "    <tr>\n",
              "      <th>21443</th>\n",
              "      <td>5f99781707b086e5582346e5</td>\n",
              "      <td>http://www.atlanticshellfish.com/</td>\n",
              "      <td>&lt;!DOCTYPE html&gt;\\n&lt;html lang=\"en\"&gt;\\n\\t&lt;head&gt;&lt;sc...</td>\n",
              "      <td>Home About Products Red Head Select South Lak...</td>\n",
              "      <td>atlanticshellfish.com</td>\n",
              "      <td>atlanticshellfish</td>\n",
              "    </tr>\n",
              "  </tbody>\n",
              "</table>\n",
              "</div>"
            ],
            "text/plain": [
              "                            _id  ...            company\n",
              "1      5f99776a07b086e558228ff3  ...  atlanticshellfish\n",
              "13     5f99776a07b086e55822902a  ...  atlanticshellfish\n",
              "41     5f99776b07b086e558229094  ...  atlanticshellfish\n",
              "73     5f99776c07b086e5582290eb  ...  atlanticshellfish\n",
              "137    5f99776c07b086e55822918d  ...  atlanticshellfish\n",
              "162    5f99776d07b086e5582291ce  ...  atlanticshellfish\n",
              "259    5f99776e07b086e5582292cb  ...  atlanticshellfish\n",
              "302    5f99776e07b086e558229339  ...  atlanticshellfish\n",
              "517    5f99777007b086e558229516  ...  atlanticshellfish\n",
              "21443  5f99781707b086e5582346e5  ...  atlanticshellfish\n",
              "\n",
              "[10 rows x 6 columns]"
            ]
          },
          "metadata": {
            "tags": []
          },
          "execution_count": 15
        }
      ]
    },
    {
      "cell_type": "code",
      "metadata": {
        "colab": {
          "base_uri": "https://localhost:8080/"
        },
        "id": "MmxyUtVhVwt6",
        "outputId": "5f6ecd8c-dc0b-44bb-cb05-2bacc657097c"
      },
      "source": [
        "#df_test[df_test['company']=='atlanticshellfish']\n",
        "company_list = df_test['company'].values\n",
        "len(company_list)\n",
        "for i in company_list:\n",
        "  if (i == 'atlanticshellfish'):\n",
        "    print(i);  "
      ],
      "execution_count": 16,
      "outputs": [
        {
          "output_type": "stream",
          "text": [
            "atlanticshellfish\n",
            "atlanticshellfish\n",
            "atlanticshellfish\n",
            "atlanticshellfish\n",
            "atlanticshellfish\n",
            "atlanticshellfish\n",
            "atlanticshellfish\n",
            "atlanticshellfish\n",
            "atlanticshellfish\n",
            "atlanticshellfish\n"
          ],
          "name": "stdout"
        }
      ]
    },
    {
      "cell_type": "code",
      "metadata": {
        "colab": {
          "base_uri": "https://localhost:8080/"
        },
        "id": "Zb96mNwUXN5J",
        "outputId": "ca1e8fa3-0984-4ab2-8ac5-1bea28f9df63"
      },
      "source": [
        "company_list = list(dict.fromkeys(company_list))\n",
        "len(company_list)"
      ],
      "execution_count": 17,
      "outputs": [
        {
          "output_type": "execute_result",
          "data": {
            "text/plain": [
              "3013"
            ]
          },
          "metadata": {
            "tags": []
          },
          "execution_count": 17
        }
      ]
    },
    {
      "cell_type": "code",
      "metadata": {
        "colab": {
          "base_uri": "https://localhost:8080/",
          "height": 419
        },
        "id": "7OzxA3sTnh_V",
        "outputId": "8f24db44-c967-476a-d8cb-ad1f5d0c2035"
      },
      "source": [
        "df_test.dropna(0)"
      ],
      "execution_count": 18,
      "outputs": [
        {
          "output_type": "execute_result",
          "data": {
            "text/html": [
              "<div>\n",
              "<style scoped>\n",
              "    .dataframe tbody tr th:only-of-type {\n",
              "        vertical-align: middle;\n",
              "    }\n",
              "\n",
              "    .dataframe tbody tr th {\n",
              "        vertical-align: top;\n",
              "    }\n",
              "\n",
              "    .dataframe thead th {\n",
              "        text-align: right;\n",
              "    }\n",
              "</style>\n",
              "<table border=\"1\" class=\"dataframe\">\n",
              "  <thead>\n",
              "    <tr style=\"text-align: right;\">\n",
              "      <th></th>\n",
              "      <th>_id</th>\n",
              "      <th>downloaded_link</th>\n",
              "      <th>HTML</th>\n",
              "      <th>TextContent</th>\n",
              "      <th>website</th>\n",
              "      <th>company</th>\n",
              "    </tr>\n",
              "  </thead>\n",
              "  <tbody>\n",
              "    <tr>\n",
              "      <th>0</th>\n",
              "      <td>5f99776a07b086e558228ff2</td>\n",
              "      <td>http://www.bellescafevt.com/location.html</td>\n",
              "      <td>&lt;!DOCTYPE html&gt;\\n&lt;html class=\"nojs html css_ve...</td>\n",
              "      <td>Home Menu Catering Special Deals Location Bel...</td>\n",
              "      <td>bellescafevt.com</td>\n",
              "      <td>bellescafevt</td>\n",
              "    </tr>\n",
              "    <tr>\n",
              "      <th>1</th>\n",
              "      <td>5f99776a07b086e558228ff3</td>\n",
              "      <td>http://www.atlanticshellfish.com/contact.html</td>\n",
              "      <td>&lt;!DOCTYPE html&gt;\\n&lt;html lang=\"en\"&gt;\\n\\t&lt;head&gt;&lt;sc...</td>\n",
              "      <td>Home About Products Red Head Select South Lak...</td>\n",
              "      <td>atlanticshellfish.com</td>\n",
              "      <td>atlanticshellfish</td>\n",
              "    </tr>\n",
              "    <tr>\n",
              "      <th>3</th>\n",
              "      <td>5f99776a07b086e558229001</td>\n",
              "      <td>http://www.bassanogrowers.ca/linkV2.html</td>\n",
              "      <td>&lt;!DOCTYPE HTML PUBLIC \"-//W3C//DTD HTML 4.01 T...</td>\n",
              "      <td>ADDITIONAL INFORMATION &amp; LINKS Bassano Grower...</td>\n",
              "      <td>bassanogrowers.ca</td>\n",
              "      <td>bassanogrowers</td>\n",
              "    </tr>\n",
              "    <tr>\n",
              "      <th>4</th>\n",
              "      <td>5f99776a07b086e558229007</td>\n",
              "      <td>http://www.colarome.com/EN/Homepage_EN.html</td>\n",
              "      <td>&lt;!DOCTYPE html PUBLIC \"-//W3C//DTD XHTML 1.0 T...</td>\n",
              "      <td>For nearly 20 years, Colarome has been develo...</td>\n",
              "      <td>colarome.com</td>\n",
              "      <td>colarome</td>\n",
              "    </tr>\n",
              "    <tr>\n",
              "      <th>5</th>\n",
              "      <td>5f99776a07b086e55822900b</td>\n",
              "      <td>http://www.bpltd.ca/include/privacy-policy.htm</td>\n",
              "      <td>&lt;!DOCTYPE html PUBLIC \"-//W3C//DTD XHTML 1.0 T...</td>\n",
              "      <td>Bridgewater Pharmasave - Privacy Policy Home ...</td>\n",
              "      <td>bpltd.ca</td>\n",
              "      <td>bpltd</td>\n",
              "    </tr>\n",
              "    <tr>\n",
              "      <th>...</th>\n",
              "      <td>...</td>\n",
              "      <td>...</td>\n",
              "      <td>...</td>\n",
              "      <td>...</td>\n",
              "      <td>...</td>\n",
              "      <td>...</td>\n",
              "    </tr>\n",
              "    <tr>\n",
              "      <th>78025</th>\n",
              "      <td>5f997af707b086e5582534be</td>\n",
              "      <td>https://waterloobrewing.com/pages/brewery</td>\n",
              "      <td>&lt;!doctype html&gt;\\n&lt;!--[if lt IE 7]&gt;&lt;html class=...</td>\n",
              "      <td>Our Store/Home Delivery + - Beer Store Home D...</td>\n",
              "      <td>waterloobrewing.com</td>\n",
              "      <td>waterloobrewing</td>\n",
              "    </tr>\n",
              "    <tr>\n",
              "      <th>78026</th>\n",
              "      <td>5f997af707b086e5582534c0</td>\n",
              "      <td>https://sharpesfoodmarket.ca/feed/</td>\n",
              "      <td>&lt;?xml version=\"1.0\" encoding=\"UTF-8\"?&gt;&lt;rss ver...</td>\n",
              "      <td>https://sharpesfoodmarket.ca Fresh Thinking S...</td>\n",
              "      <td>sharpesfoodmarket.ca</td>\n",
              "      <td>sharpesfoodmarket</td>\n",
              "    </tr>\n",
              "    <tr>\n",
              "      <th>78027</th>\n",
              "      <td>5f997af707b086e5582534c2</td>\n",
              "      <td>http://prairielivestock.ca/by-pro-feeds/</td>\n",
              "      <td>&lt;!DOCTYPE html PUBLIC \"-//W3C//DTD XHTML 1.0 T...</td>\n",
              "      <td>Menu Home Our People + Our People Management ...</td>\n",
              "      <td>prairielivestock.ca</td>\n",
              "      <td>prairielivestock</td>\n",
              "    </tr>\n",
              "    <tr>\n",
              "      <th>78028</th>\n",
              "      <td>5f997af707b086e5582534cb</td>\n",
              "      <td>https://opam-mb.com/certification/</td>\n",
              "      <td>&lt;!DOCTYPE html&gt;\\n&lt;html lang=\"en-CA\"&gt;\\n&lt;head&gt;\\n...</td>\n",
              "      <td>Request Membership Package Contact Us About C...</td>\n",
              "      <td>opam-mb.com</td>\n",
              "      <td>opam-mb</td>\n",
              "    </tr>\n",
              "    <tr>\n",
              "      <th>78029</th>\n",
              "      <td>5f997af707b086e5582534cd</td>\n",
              "      <td>http://www.eloraroadmeats.ca</td>\n",
              "      <td>&lt;!DOCTYPE html PUBLIC \"-//W3C//DTD XHTML 1.0 T...</td>\n",
              "      <td>WELCOME TO ELORA ROAD MEATS Elora Road Meats ...</td>\n",
              "      <td>eloraroadmeats.ca</td>\n",
              "      <td>eloraroadmeats</td>\n",
              "    </tr>\n",
              "  </tbody>\n",
              "</table>\n",
              "<p>77727 rows × 6 columns</p>\n",
              "</div>"
            ],
            "text/plain": [
              "                            _id  ...            company\n",
              "0      5f99776a07b086e558228ff2  ...       bellescafevt\n",
              "1      5f99776a07b086e558228ff3  ...  atlanticshellfish\n",
              "3      5f99776a07b086e558229001  ...     bassanogrowers\n",
              "4      5f99776a07b086e558229007  ...           colarome\n",
              "5      5f99776a07b086e55822900b  ...              bpltd\n",
              "...                         ...  ...                ...\n",
              "78025  5f997af707b086e5582534be  ...    waterloobrewing\n",
              "78026  5f997af707b086e5582534c0  ...  sharpesfoodmarket\n",
              "78027  5f997af707b086e5582534c2  ...   prairielivestock\n",
              "78028  5f997af707b086e5582534cb  ...            opam-mb\n",
              "78029  5f997af707b086e5582534cd  ...     eloraroadmeats\n",
              "\n",
              "[77727 rows x 6 columns]"
            ]
          },
          "metadata": {
            "tags": []
          },
          "execution_count": 18
        }
      ]
    },
    {
      "cell_type": "code",
      "metadata": {
        "id": "RXZd0MgUobDG"
      },
      "source": [
        "df_test['TextContent'] = df_test['TextContent'].astype(str)"
      ],
      "execution_count": 19,
      "outputs": []
    },
    {
      "cell_type": "code",
      "metadata": {
        "colab": {
          "base_uri": "https://localhost:8080/",
          "height": 35
        },
        "id": "iXXDKxAQuelT",
        "outputId": "5b86524d-b501-4eb4-e1be-0880fa80b6b5"
      },
      "source": [
        "df_test['downloaded_link'][7]"
      ],
      "execution_count": 20,
      "outputs": [
        {
          "output_type": "execute_result",
          "data": {
            "application/vnd.google.colaboratory.intrinsic+json": {
              "type": "string"
            },
            "text/plain": [
              "'http://www.1fish2fish.ca/specials.php'"
            ]
          },
          "metadata": {
            "tags": []
          },
          "execution_count": 20
        }
      ]
    },
    {
      "cell_type": "code",
      "metadata": {
        "id": "soe5t0qVmB_K"
      },
      "source": [
        "new_df = df_test.copy(deep=True)\n",
        "new_df['TextContent'] = new_df[['company','TextContent', 'downloaded_link']].groupby(['company'])['TextContent'].transform(lambda x: ','.join(x))  \n",
        "updated_df = new_df[['company','TextContent']].drop_duplicates()"
      ],
      "execution_count": 21,
      "outputs": []
    },
    {
      "cell_type": "code",
      "metadata": {
        "colab": {
          "base_uri": "https://localhost:8080/",
          "height": 419
        },
        "id": "oJuUup7kMKBE",
        "outputId": "5fdb55fa-bca4-4f3a-9209-1dae8b738712"
      },
      "source": [
        "updated_df"
      ],
      "execution_count": 22,
      "outputs": [
        {
          "output_type": "execute_result",
          "data": {
            "text/html": [
              "<div>\n",
              "<style scoped>\n",
              "    .dataframe tbody tr th:only-of-type {\n",
              "        vertical-align: middle;\n",
              "    }\n",
              "\n",
              "    .dataframe tbody tr th {\n",
              "        vertical-align: top;\n",
              "    }\n",
              "\n",
              "    .dataframe thead th {\n",
              "        text-align: right;\n",
              "    }\n",
              "</style>\n",
              "<table border=\"1\" class=\"dataframe\">\n",
              "  <thead>\n",
              "    <tr style=\"text-align: right;\">\n",
              "      <th></th>\n",
              "      <th>company</th>\n",
              "      <th>TextContent</th>\n",
              "    </tr>\n",
              "  </thead>\n",
              "  <tbody>\n",
              "    <tr>\n",
              "      <th>0</th>\n",
              "      <td>bellescafevt</td>\n",
              "      <td>Home Menu Catering Special Deals Location Bel...</td>\n",
              "    </tr>\n",
              "    <tr>\n",
              "      <th>1</th>\n",
              "      <td>atlanticshellfish</td>\n",
              "      <td>Home About Products Red Head Select South Lak...</td>\n",
              "    </tr>\n",
              "    <tr>\n",
              "      <th>2</th>\n",
              "      <td>hls</td>\n",
              "      <td>nan, Home HEARTLAND LIVESTOCK For us, being su...</td>\n",
              "    </tr>\n",
              "    <tr>\n",
              "      <th>3</th>\n",
              "      <td>bassanogrowers</td>\n",
              "      <td>ADDITIONAL INFORMATION &amp; LINKS Bassano Grower...</td>\n",
              "    </tr>\n",
              "    <tr>\n",
              "      <th>4</th>\n",
              "      <td>colarome</td>\n",
              "      <td>For nearly 20 years, Colarome has been develo...</td>\n",
              "    </tr>\n",
              "    <tr>\n",
              "      <th>...</th>\n",
              "      <td>...</td>\n",
              "      <td>...</td>\n",
              "    </tr>\n",
              "    <tr>\n",
              "      <th>77899</th>\n",
              "      <td>teavana</td>\n",
              "      <td>Our Teas Craft Iced Tea Sachets Our Story Whe...</td>\n",
              "    </tr>\n",
              "    <tr>\n",
              "      <th>77901</th>\n",
              "      <td>csmpa.net</td>\n",
              "      <td>Welcome Guest  [ Sign-in | Register ] Home | ...</td>\n",
              "    </tr>\n",
              "    <tr>\n",
              "      <th>77956</th>\n",
              "      <td>honeywellaidc</td>\n",
              "      <td>Partner Login About Us toggle menu Learn more...</td>\n",
              "    </tr>\n",
              "    <tr>\n",
              "      <th>77963</th>\n",
              "      <td>olsensmeatandproduce</td>\n",
              "      <td>Menu Olsen's Home Services Budget Specials Gi...</td>\n",
              "    </tr>\n",
              "    <tr>\n",
              "      <th>77985</th>\n",
              "      <td>quinoa</td>\n",
              "      <td>About Ingredient Products Retail Products Gro...</td>\n",
              "    </tr>\n",
              "  </tbody>\n",
              "</table>\n",
              "<p>3013 rows × 2 columns</p>\n",
              "</div>"
            ],
            "text/plain": [
              "                    company                                        TextContent\n",
              "0              bellescafevt   Home Menu Catering Special Deals Location Bel...\n",
              "1         atlanticshellfish   Home About Products Red Head Select South Lak...\n",
              "2                       hls  nan, Home HEARTLAND LIVESTOCK For us, being su...\n",
              "3            bassanogrowers   ADDITIONAL INFORMATION & LINKS Bassano Grower...\n",
              "4                  colarome   For nearly 20 years, Colarome has been develo...\n",
              "...                     ...                                                ...\n",
              "77899               teavana   Our Teas Craft Iced Tea Sachets Our Story Whe...\n",
              "77901             csmpa.net   Welcome Guest  [ Sign-in | Register ] Home | ...\n",
              "77956         honeywellaidc   Partner Login About Us toggle menu Learn more...\n",
              "77963  olsensmeatandproduce   Menu Olsen's Home Services Budget Specials Gi...\n",
              "77985                quinoa   About Ingredient Products Retail Products Gro...\n",
              "\n",
              "[3013 rows x 2 columns]"
            ]
          },
          "metadata": {
            "tags": []
          },
          "execution_count": 22
        }
      ]
    },
    {
      "cell_type": "code",
      "metadata": {
        "colab": {
          "base_uri": "https://localhost:8080/"
        },
        "id": "qB6bCdYLI_bY",
        "outputId": "83e0fc95-4a0c-46d2-fb8c-1da05137c168"
      },
      "source": [
        "updated_df['TextContent'].isnull()"
      ],
      "execution_count": 23,
      "outputs": [
        {
          "output_type": "execute_result",
          "data": {
            "text/plain": [
              "0        False\n",
              "1        False\n",
              "2        False\n",
              "3        False\n",
              "4        False\n",
              "         ...  \n",
              "77899    False\n",
              "77901    False\n",
              "77956    False\n",
              "77963    False\n",
              "77985    False\n",
              "Name: TextContent, Length: 3013, dtype: bool"
            ]
          },
          "metadata": {
            "tags": []
          },
          "execution_count": 23
        }
      ]
    },
    {
      "cell_type": "code",
      "metadata": {
        "colab": {
          "base_uri": "https://localhost:8080/",
          "height": 419
        },
        "id": "n9ns7gHjLbrF",
        "outputId": "125d361e-641b-4c8b-cf17-969ce0ec2a36"
      },
      "source": [
        "updated_df = updated_df.reset_index(drop=True)\n",
        "updated_df"
      ],
      "execution_count": 24,
      "outputs": [
        {
          "output_type": "execute_result",
          "data": {
            "text/html": [
              "<div>\n",
              "<style scoped>\n",
              "    .dataframe tbody tr th:only-of-type {\n",
              "        vertical-align: middle;\n",
              "    }\n",
              "\n",
              "    .dataframe tbody tr th {\n",
              "        vertical-align: top;\n",
              "    }\n",
              "\n",
              "    .dataframe thead th {\n",
              "        text-align: right;\n",
              "    }\n",
              "</style>\n",
              "<table border=\"1\" class=\"dataframe\">\n",
              "  <thead>\n",
              "    <tr style=\"text-align: right;\">\n",
              "      <th></th>\n",
              "      <th>company</th>\n",
              "      <th>TextContent</th>\n",
              "    </tr>\n",
              "  </thead>\n",
              "  <tbody>\n",
              "    <tr>\n",
              "      <th>0</th>\n",
              "      <td>bellescafevt</td>\n",
              "      <td>Home Menu Catering Special Deals Location Bel...</td>\n",
              "    </tr>\n",
              "    <tr>\n",
              "      <th>1</th>\n",
              "      <td>atlanticshellfish</td>\n",
              "      <td>Home About Products Red Head Select South Lak...</td>\n",
              "    </tr>\n",
              "    <tr>\n",
              "      <th>2</th>\n",
              "      <td>hls</td>\n",
              "      <td>nan, Home HEARTLAND LIVESTOCK For us, being su...</td>\n",
              "    </tr>\n",
              "    <tr>\n",
              "      <th>3</th>\n",
              "      <td>bassanogrowers</td>\n",
              "      <td>ADDITIONAL INFORMATION &amp; LINKS Bassano Grower...</td>\n",
              "    </tr>\n",
              "    <tr>\n",
              "      <th>4</th>\n",
              "      <td>colarome</td>\n",
              "      <td>For nearly 20 years, Colarome has been develo...</td>\n",
              "    </tr>\n",
              "    <tr>\n",
              "      <th>...</th>\n",
              "      <td>...</td>\n",
              "      <td>...</td>\n",
              "    </tr>\n",
              "    <tr>\n",
              "      <th>3008</th>\n",
              "      <td>teavana</td>\n",
              "      <td>Our Teas Craft Iced Tea Sachets Our Story Whe...</td>\n",
              "    </tr>\n",
              "    <tr>\n",
              "      <th>3009</th>\n",
              "      <td>csmpa.net</td>\n",
              "      <td>Welcome Guest  [ Sign-in | Register ] Home | ...</td>\n",
              "    </tr>\n",
              "    <tr>\n",
              "      <th>3010</th>\n",
              "      <td>honeywellaidc</td>\n",
              "      <td>Partner Login About Us toggle menu Learn more...</td>\n",
              "    </tr>\n",
              "    <tr>\n",
              "      <th>3011</th>\n",
              "      <td>olsensmeatandproduce</td>\n",
              "      <td>Menu Olsen's Home Services Budget Specials Gi...</td>\n",
              "    </tr>\n",
              "    <tr>\n",
              "      <th>3012</th>\n",
              "      <td>quinoa</td>\n",
              "      <td>About Ingredient Products Retail Products Gro...</td>\n",
              "    </tr>\n",
              "  </tbody>\n",
              "</table>\n",
              "<p>3013 rows × 2 columns</p>\n",
              "</div>"
            ],
            "text/plain": [
              "                   company                                        TextContent\n",
              "0             bellescafevt   Home Menu Catering Special Deals Location Bel...\n",
              "1        atlanticshellfish   Home About Products Red Head Select South Lak...\n",
              "2                      hls  nan, Home HEARTLAND LIVESTOCK For us, being su...\n",
              "3           bassanogrowers   ADDITIONAL INFORMATION & LINKS Bassano Grower...\n",
              "4                 colarome   For nearly 20 years, Colarome has been develo...\n",
              "...                    ...                                                ...\n",
              "3008               teavana   Our Teas Craft Iced Tea Sachets Our Story Whe...\n",
              "3009             csmpa.net   Welcome Guest  [ Sign-in | Register ] Home | ...\n",
              "3010         honeywellaidc   Partner Login About Us toggle menu Learn more...\n",
              "3011  olsensmeatandproduce   Menu Olsen's Home Services Budget Specials Gi...\n",
              "3012                quinoa   About Ingredient Products Retail Products Gro...\n",
              "\n",
              "[3013 rows x 2 columns]"
            ]
          },
          "metadata": {
            "tags": []
          },
          "execution_count": 24
        }
      ]
    },
    {
      "cell_type": "code",
      "metadata": {
        "id": "5gqmYT1VqVld"
      },
      "source": [
        "updated_df.to_csv('updated_df.csv')"
      ],
      "execution_count": 25,
      "outputs": []
    },
    {
      "cell_type": "code",
      "metadata": {
        "colab": {
          "base_uri": "https://localhost:8080/",
          "height": 669
        },
        "id": "oJK2wugRhN7e",
        "outputId": "96e0053b-3c78-4477-8e16-ad1b6ab47879"
      },
      "source": [
        "df_mini = updated_df[:20]\n",
        "df_mini"
      ],
      "execution_count": 26,
      "outputs": [
        {
          "output_type": "execute_result",
          "data": {
            "text/html": [
              "<div>\n",
              "<style scoped>\n",
              "    .dataframe tbody tr th:only-of-type {\n",
              "        vertical-align: middle;\n",
              "    }\n",
              "\n",
              "    .dataframe tbody tr th {\n",
              "        vertical-align: top;\n",
              "    }\n",
              "\n",
              "    .dataframe thead th {\n",
              "        text-align: right;\n",
              "    }\n",
              "</style>\n",
              "<table border=\"1\" class=\"dataframe\">\n",
              "  <thead>\n",
              "    <tr style=\"text-align: right;\">\n",
              "      <th></th>\n",
              "      <th>company</th>\n",
              "      <th>TextContent</th>\n",
              "    </tr>\n",
              "  </thead>\n",
              "  <tbody>\n",
              "    <tr>\n",
              "      <th>0</th>\n",
              "      <td>bellescafevt</td>\n",
              "      <td>Home Menu Catering Special Deals Location Bel...</td>\n",
              "    </tr>\n",
              "    <tr>\n",
              "      <th>1</th>\n",
              "      <td>atlanticshellfish</td>\n",
              "      <td>Home About Products Red Head Select South Lak...</td>\n",
              "    </tr>\n",
              "    <tr>\n",
              "      <th>2</th>\n",
              "      <td>hls</td>\n",
              "      <td>nan, Home HEARTLAND LIVESTOCK For us, being su...</td>\n",
              "    </tr>\n",
              "    <tr>\n",
              "      <th>3</th>\n",
              "      <td>bassanogrowers</td>\n",
              "      <td>ADDITIONAL INFORMATION &amp; LINKS Bassano Grower...</td>\n",
              "    </tr>\n",
              "    <tr>\n",
              "      <th>4</th>\n",
              "      <td>colarome</td>\n",
              "      <td>For nearly 20 years, Colarome has been develo...</td>\n",
              "    </tr>\n",
              "    <tr>\n",
              "      <th>5</th>\n",
              "      <td>bpltd</td>\n",
              "      <td>Bridgewater Pharmasave - Privacy Policy Home ...</td>\n",
              "    </tr>\n",
              "    <tr>\n",
              "      <th>6</th>\n",
              "      <td>belpar</td>\n",
              "      <td>storefix@belpar.com (604) 581-5291 Home Compa...</td>\n",
              "    </tr>\n",
              "    <tr>\n",
              "      <th>7</th>\n",
              "      <td>1fish2fish</td>\n",
              "      <td>Name: Email: 1 Fish 2 Fish home monthly speci...</td>\n",
              "    </tr>\n",
              "    <tr>\n",
              "      <th>8</th>\n",
              "      <td>creativeplanco</td>\n",
              "      <td>English Des solutions clé en main pour les ve...</td>\n",
              "    </tr>\n",
              "    <tr>\n",
              "      <th>9</th>\n",
              "      <td>canadabreadfoodservice</td>\n",
              "      <td>Home Sitemap Contact Francais Account Login |...</td>\n",
              "    </tr>\n",
              "    <tr>\n",
              "      <th>10</th>\n",
              "      <td>europeanmeats</td>\n",
              "      <td>Home About Us Products Brands Butcher's Selec...</td>\n",
              "    </tr>\n",
              "    <tr>\n",
              "      <th>11</th>\n",
              "      <td>excelsiorfoods</td>\n",
              "      <td>Welcome About Us Company History Management T...</td>\n",
              "    </tr>\n",
              "    <tr>\n",
              "      <th>12</th>\n",
              "      <td>activepharma</td>\n",
              "      <td>Home About Us Quality Products Careers Contac...</td>\n",
              "    </tr>\n",
              "    <tr>\n",
              "      <th>13</th>\n",
              "      <td>bona-dea</td>\n",
              "      <td>SPAGYRIC &amp; HOMEOPATHIC SPECIALTIES PH � NIX C...</td>\n",
              "    </tr>\n",
              "    <tr>\n",
              "      <th>14</th>\n",
              "      <td>agmdgroup</td>\n",
              "      <td>CONTACT US HOME CONTACT US kn95 masks 5 Ply F...</td>\n",
              "    </tr>\n",
              "    <tr>\n",
              "      <th>15</th>\n",
              "      <td>brulerie</td>\n",
              "      <td>Accueil Cafés Afrique Amériques Asie Mélanges...</td>\n",
              "    </tr>\n",
              "    <tr>\n",
              "      <th>16</th>\n",
              "      <td>dts8coffee</td>\n",
              "      <td>The domain dts8coffee.com may be for sale. Pl...</td>\n",
              "    </tr>\n",
              "    <tr>\n",
              "      <th>17</th>\n",
              "      <td>hawkesblueberries</td>\n",
              "      <td>Hawkes Blueberries (Steve Gibson Contracting)...</td>\n",
              "    </tr>\n",
              "    <tr>\n",
              "      <th>18</th>\n",
              "      <td>bastoscanada</td>\n",
              "      <td>FRANÇAIS À Propos Produits Nous Joindre ENGLI...</td>\n",
              "    </tr>\n",
              "    <tr>\n",
              "      <th>19</th>\n",
              "      <td>blairscatering</td>\n",
              "      <td>Skip to content Home Weddings Wedding Package...</td>\n",
              "    </tr>\n",
              "  </tbody>\n",
              "</table>\n",
              "</div>"
            ],
            "text/plain": [
              "                   company                                        TextContent\n",
              "0             bellescafevt   Home Menu Catering Special Deals Location Bel...\n",
              "1        atlanticshellfish   Home About Products Red Head Select South Lak...\n",
              "2                      hls  nan, Home HEARTLAND LIVESTOCK For us, being su...\n",
              "3           bassanogrowers   ADDITIONAL INFORMATION & LINKS Bassano Grower...\n",
              "4                 colarome   For nearly 20 years, Colarome has been develo...\n",
              "5                    bpltd   Bridgewater Pharmasave - Privacy Policy Home ...\n",
              "6                   belpar   storefix@belpar.com (604) 581-5291 Home Compa...\n",
              "7               1fish2fish   Name: Email: 1 Fish 2 Fish home monthly speci...\n",
              "8           creativeplanco   English Des solutions clé en main pour les ve...\n",
              "9   canadabreadfoodservice   Home Sitemap Contact Francais Account Login |...\n",
              "10           europeanmeats   Home About Us Products Brands Butcher's Selec...\n",
              "11          excelsiorfoods   Welcome About Us Company History Management T...\n",
              "12            activepharma   Home About Us Quality Products Careers Contac...\n",
              "13                bona-dea   SPAGYRIC & HOMEOPATHIC SPECIALTIES PH � NIX C...\n",
              "14               agmdgroup   CONTACT US HOME CONTACT US kn95 masks 5 Ply F...\n",
              "15                brulerie   Accueil Cafés Afrique Amériques Asie Mélanges...\n",
              "16              dts8coffee   The domain dts8coffee.com may be for sale. Pl...\n",
              "17       hawkesblueberries   Hawkes Blueberries (Steve Gibson Contracting)...\n",
              "18            bastoscanada   FRANÇAIS À Propos Produits Nous Joindre ENGLI...\n",
              "19          blairscatering   Skip to content Home Weddings Wedding Package..."
            ]
          },
          "metadata": {
            "tags": []
          },
          "execution_count": 26
        }
      ]
    },
    {
      "cell_type": "code",
      "metadata": {
        "id": "GRBT7OJM_j4c"
      },
      "source": [
        "find_partnership = [\"partnership\", \"partnerships\", \"partnershiped\",\"partnering\",\"associations\",\"in association\",\"joint venture\", \"alliance\", \"join hands\", \"partenered\", \"collaboration\",\"collaborated\", \"partners\",\"co-branding\",\"cobranding\", \"joint effort\", \"partner\",\"joint action\",\"become partners\", \"collaborating\",\"collaborate\"] "
      ],
      "execution_count": 27,
      "outputs": []
    },
    {
      "cell_type": "code",
      "metadata": {
        "id": "hTP0xjv7gmqG"
      },
      "source": [
        "find_partnership = [\"partner\",\"associations\",\"in association\",\"joint venture\", \"alliance\", \"join hands\", \"collaboration\", \"co-branding\",\"cobranding\", \"joint effort\", \"joint action\",\"become partners\", \"strategic alliance\"] "
      ],
      "execution_count": 28,
      "outputs": []
    },
    {
      "cell_type": "code",
      "metadata": {
        "colab": {
          "base_uri": "https://localhost:8080/"
        },
        "id": "lSCMM3HYBQjJ",
        "outputId": "00e66d5a-c9aa-4e15-ecb2-e7365d814e99"
      },
      "source": [
        "count=0\n",
        "company_list_with_keyword = []\n",
        "j=0\n",
        "temp_list = []\n",
        "for i in updated_df['TextContent']:\n",
        "  output = any(word in i for word in find_partnership)\n",
        "  count = count+1\n",
        "print(count);"
      ],
      "execution_count": 29,
      "outputs": [
        {
          "output_type": "stream",
          "text": [
            "3013\n"
          ],
          "name": "stdout"
        }
      ]
    },
    {
      "cell_type": "code",
      "metadata": {
        "colab": {
          "base_uri": "https://localhost:8080/"
        },
        "id": "eI-8wnGHY9h4",
        "outputId": "09c8fd57-55da-4bd4-f883-38e9e04b8f72"
      },
      "source": [
        "temstr = updated_df['TextContent'][1]\n",
        "for i in find_partnership:\n",
        "    if i in temstr:\n",
        "      print(i)\n",
        "\n"
      ],
      "execution_count": 30,
      "outputs": [
        {
          "output_type": "stream",
          "text": [
            "partner\n"
          ],
          "name": "stdout"
        }
      ]
    },
    {
      "cell_type": "code",
      "metadata": {
        "id": "6MdVulOFaCn3"
      },
      "source": [
        "limit = len(updated_df.index)\n",
        "temp_list_index = {}\n",
        "for i in range(limit):\n",
        "  temstr = updated_df['TextContent'][i]\n",
        "  for j in find_partnership:\n",
        "    if j in temstr:\n",
        "      temp_list_index[i] = j\n",
        "\n",
        "#re.findall(r\"([^.]*?apple[^.]*\\.)\",txt)                                                                                                                             \n",
        "#Out[4]: ['I like to eat apple.', \" Let's go buy some apples.\"]\n"
      ],
      "execution_count": 31,
      "outputs": []
    },
    {
      "cell_type": "code",
      "metadata": {
        "colab": {
          "base_uri": "https://localhost:8080/"
        },
        "id": "5L1sKDCW8jES",
        "outputId": "c8956df4-36f0-4b84-c9c2-0597271b8c58"
      },
      "source": [
        "import nltk\n",
        "nltk.download('punkt')"
      ],
      "execution_count": 32,
      "outputs": [
        {
          "output_type": "stream",
          "text": [
            "[nltk_data] Downloading package punkt to /root/nltk_data...\n",
            "[nltk_data]   Package punkt is already up-to-date!\n"
          ],
          "name": "stdout"
        },
        {
          "output_type": "execute_result",
          "data": {
            "text/plain": [
              "True"
            ]
          },
          "metadata": {
            "tags": []
          },
          "execution_count": 32
        }
      ]
    },
    {
      "cell_type": "code",
      "metadata": {
        "id": "LPGkaihyBfpl"
      },
      "source": [
        "df_sentToken = pd.DataFrame(columns=['CompanyName','ListofSentences'])\n",
        "df_sentToken['CompanyName'] = updated_df['company']"
      ],
      "execution_count": 33,
      "outputs": []
    },
    {
      "cell_type": "code",
      "metadata": {
        "colab": {
          "base_uri": "https://localhost:8080/"
        },
        "id": "Grr-NclD8ryo",
        "outputId": "b5752435-ce75-4a95-8fa5-388783803482"
      },
      "source": [
        "from nltk.tokenize.punkt import PunktSentenceTokenizer, PunktParameters\n",
        "\n",
        "sentList = []\n",
        "punkt_params = PunktParameters()\n",
        "punkt_params.abbrev_types = set(['mr', 'mrs', 'llc', 'ms', 'dr', 'ltd', 'sr', 'jr', 'st', 'u.s.a', 'p.o', 'etc', 'oz'])\n",
        "tokenizer = PunktSentenceTokenizer(punkt_params)\n",
        "i=0\n",
        "for t in updated_df['TextContent']:\n",
        "  tokens = tokenizer.tokenize(t)\n",
        "  df_sentToken['ListofSentences'][i] = tokens\n",
        "  i=i+1\n",
        "print(i)"
      ],
      "execution_count": 34,
      "outputs": [
        {
          "output_type": "stream",
          "text": [
            "3013\n"
          ],
          "name": "stdout"
        }
      ]
    },
    {
      "cell_type": "code",
      "metadata": {
        "colab": {
          "base_uri": "https://localhost:8080/",
          "height": 419
        },
        "id": "ZbB11_wgKYaj",
        "outputId": "bae4f949-4f83-4c7b-87a2-4153b467cd87"
      },
      "source": [
        "df_sentToken"
      ],
      "execution_count": 53,
      "outputs": [
        {
          "output_type": "execute_result",
          "data": {
            "text/html": [
              "<div>\n",
              "<style scoped>\n",
              "    .dataframe tbody tr th:only-of-type {\n",
              "        vertical-align: middle;\n",
              "    }\n",
              "\n",
              "    .dataframe tbody tr th {\n",
              "        vertical-align: top;\n",
              "    }\n",
              "\n",
              "    .dataframe thead th {\n",
              "        text-align: right;\n",
              "    }\n",
              "</style>\n",
              "<table border=\"1\" class=\"dataframe\">\n",
              "  <thead>\n",
              "    <tr style=\"text-align: right;\">\n",
              "      <th></th>\n",
              "      <th>CompanyName</th>\n",
              "      <th>ListofSentences</th>\n",
              "    </tr>\n",
              "  </thead>\n",
              "  <tbody>\n",
              "    <tr>\n",
              "      <th>0</th>\n",
              "      <td>bellescafevt</td>\n",
              "      <td>[ Home Menu Catering Special Deals Location Be...</td>\n",
              "    </tr>\n",
              "    <tr>\n",
              "      <th>1</th>\n",
              "      <td>atlanticshellfish</td>\n",
              "      <td>[ Home About Products Red Head Select South La...</td>\n",
              "    </tr>\n",
              "    <tr>\n",
              "      <th>2</th>\n",
              "      <td>hls</td>\n",
              "      <td>[nan, Home HEARTLAND LIVESTOCK For us, being s...</td>\n",
              "    </tr>\n",
              "    <tr>\n",
              "      <th>3</th>\n",
              "      <td>bassanogrowers</td>\n",
              "      <td>[ ADDITIONAL INFORMATION &amp; LINKS Bassano Growe...</td>\n",
              "    </tr>\n",
              "    <tr>\n",
              "      <th>4</th>\n",
              "      <td>colarome</td>\n",
              "      <td>[ For nearly 20 years, Colarome has been devel...</td>\n",
              "    </tr>\n",
              "    <tr>\n",
              "      <th>...</th>\n",
              "      <td>...</td>\n",
              "      <td>...</td>\n",
              "    </tr>\n",
              "    <tr>\n",
              "      <th>3008</th>\n",
              "      <td>teavana</td>\n",
              "      <td>[ Our Teas Craft Iced Tea Sachets Our Story Wh...</td>\n",
              "    </tr>\n",
              "    <tr>\n",
              "      <th>3009</th>\n",
              "      <td>csmpa.net</td>\n",
              "      <td>[ Welcome Guest  [ Sign-in | Register ] Home |...</td>\n",
              "    </tr>\n",
              "    <tr>\n",
              "      <th>3010</th>\n",
              "      <td>honeywellaidc</td>\n",
              "      <td>[ Partner Login About Us toggle menu Learn mor...</td>\n",
              "    </tr>\n",
              "    <tr>\n",
              "      <th>3011</th>\n",
              "      <td>olsensmeatandproduce</td>\n",
              "      <td>[ Menu Olsen's Home Services Budget Specials G...</td>\n",
              "    </tr>\n",
              "    <tr>\n",
              "      <th>3012</th>\n",
              "      <td>quinoa</td>\n",
              "      <td>[ About Ingredient Products Retail Products Gr...</td>\n",
              "    </tr>\n",
              "  </tbody>\n",
              "</table>\n",
              "<p>3013 rows × 2 columns</p>\n",
              "</div>"
            ],
            "text/plain": [
              "               CompanyName                                    ListofSentences\n",
              "0             bellescafevt  [ Home Menu Catering Special Deals Location Be...\n",
              "1        atlanticshellfish  [ Home About Products Red Head Select South La...\n",
              "2                      hls  [nan, Home HEARTLAND LIVESTOCK For us, being s...\n",
              "3           bassanogrowers  [ ADDITIONAL INFORMATION & LINKS Bassano Growe...\n",
              "4                 colarome  [ For nearly 20 years, Colarome has been devel...\n",
              "...                    ...                                                ...\n",
              "3008               teavana  [ Our Teas Craft Iced Tea Sachets Our Story Wh...\n",
              "3009             csmpa.net  [ Welcome Guest  [ Sign-in | Register ] Home |...\n",
              "3010         honeywellaidc  [ Partner Login About Us toggle menu Learn mor...\n",
              "3011  olsensmeatandproduce  [ Menu Olsen's Home Services Budget Specials G...\n",
              "3012                quinoa  [ About Ingredient Products Retail Products Gr...\n",
              "\n",
              "[3013 rows x 2 columns]"
            ]
          },
          "metadata": {
            "tags": []
          },
          "execution_count": 53
        }
      ]
    },
    {
      "cell_type": "code",
      "metadata": {
        "colab": {
          "base_uri": "https://localhost:8080/",
          "height": 49
        },
        "id": "hyDX10DRnUvZ",
        "outputId": "e628ef00-9023-43b3-97c2-2b602cfaeb9c"
      },
      "source": [
        "column_names = [\"company\",\"TextIndicatePartners\"]\n",
        "df_last = pd.DataFrame(columns = column_names)\n",
        "df_last"
      ],
      "execution_count": 77,
      "outputs": [
        {
          "output_type": "execute_result",
          "data": {
            "text/html": [
              "<div>\n",
              "<style scoped>\n",
              "    .dataframe tbody tr th:only-of-type {\n",
              "        vertical-align: middle;\n",
              "    }\n",
              "\n",
              "    .dataframe tbody tr th {\n",
              "        vertical-align: top;\n",
              "    }\n",
              "\n",
              "    .dataframe thead th {\n",
              "        text-align: right;\n",
              "    }\n",
              "</style>\n",
              "<table border=\"1\" class=\"dataframe\">\n",
              "  <thead>\n",
              "    <tr style=\"text-align: right;\">\n",
              "      <th></th>\n",
              "      <th>company</th>\n",
              "      <th>TextIndicatePartners</th>\n",
              "    </tr>\n",
              "  </thead>\n",
              "  <tbody>\n",
              "  </tbody>\n",
              "</table>\n",
              "</div>"
            ],
            "text/plain": [
              "Empty DataFrame\n",
              "Columns: [company, TextIndicatePartners]\n",
              "Index: []"
            ]
          },
          "metadata": {
            "tags": []
          },
          "execution_count": 77
        }
      ]
    },
    {
      "cell_type": "code",
      "metadata": {
        "colab": {
          "base_uri": "https://localhost:8080/",
          "height": 204
        },
        "id": "USNF017VzQId",
        "outputId": "de08e605-1426-4d8c-a8c7-34e6b54df963"
      },
      "source": [
        "df_tempcheck = df_sentToken[:5]\n",
        "df_tempcheck"
      ],
      "execution_count": 78,
      "outputs": [
        {
          "output_type": "execute_result",
          "data": {
            "text/html": [
              "<div>\n",
              "<style scoped>\n",
              "    .dataframe tbody tr th:only-of-type {\n",
              "        vertical-align: middle;\n",
              "    }\n",
              "\n",
              "    .dataframe tbody tr th {\n",
              "        vertical-align: top;\n",
              "    }\n",
              "\n",
              "    .dataframe thead th {\n",
              "        text-align: right;\n",
              "    }\n",
              "</style>\n",
              "<table border=\"1\" class=\"dataframe\">\n",
              "  <thead>\n",
              "    <tr style=\"text-align: right;\">\n",
              "      <th></th>\n",
              "      <th>CompanyName</th>\n",
              "      <th>ListofSentences</th>\n",
              "    </tr>\n",
              "  </thead>\n",
              "  <tbody>\n",
              "    <tr>\n",
              "      <th>0</th>\n",
              "      <td>bellescafevt</td>\n",
              "      <td>[ Home Menu Catering Special Deals Location Be...</td>\n",
              "    </tr>\n",
              "    <tr>\n",
              "      <th>1</th>\n",
              "      <td>atlanticshellfish</td>\n",
              "      <td>[ Home About Products Red Head Select South La...</td>\n",
              "    </tr>\n",
              "    <tr>\n",
              "      <th>2</th>\n",
              "      <td>hls</td>\n",
              "      <td>[nan, Home HEARTLAND LIVESTOCK For us, being s...</td>\n",
              "    </tr>\n",
              "    <tr>\n",
              "      <th>3</th>\n",
              "      <td>bassanogrowers</td>\n",
              "      <td>[ ADDITIONAL INFORMATION &amp; LINKS Bassano Growe...</td>\n",
              "    </tr>\n",
              "    <tr>\n",
              "      <th>4</th>\n",
              "      <td>colarome</td>\n",
              "      <td>[ For nearly 20 years, Colarome has been devel...</td>\n",
              "    </tr>\n",
              "  </tbody>\n",
              "</table>\n",
              "</div>"
            ],
            "text/plain": [
              "         CompanyName                                    ListofSentences\n",
              "0       bellescafevt  [ Home Menu Catering Special Deals Location Be...\n",
              "1  atlanticshellfish  [ Home About Products Red Head Select South La...\n",
              "2                hls  [nan, Home HEARTLAND LIVESTOCK For us, being s...\n",
              "3     bassanogrowers  [ ADDITIONAL INFORMATION & LINKS Bassano Growe...\n",
              "4           colarome  [ For nearly 20 years, Colarome has been devel..."
            ]
          },
          "metadata": {
            "tags": []
          },
          "execution_count": 78
        }
      ]
    },
    {
      "cell_type": "code",
      "metadata": {
        "colab": {
          "base_uri": "https://localhost:8080/",
          "height": 419
        },
        "id": "jCDJmVCerPku",
        "outputId": "94578f20-3b6b-48ac-b2a3-639029f48e5d"
      },
      "source": [
        "temp_sent_list = []\n",
        "columns = list(df_last)\n",
        "data = []\n",
        "for index, row in df_sentToken.iterrows():\n",
        "  for sent in row[1]:\n",
        "    for word in find_partnership:\n",
        "      if word in sent:\n",
        "        values = [row[0], sent]\n",
        "        zipped = zip(columns, values)\n",
        "        a_dictionary = dict(zipped)\n",
        "        data.append(a_dictionary)\n",
        "df_last = df_last.append(data, True)\n",
        "df_last = df_last.drop_duplicates(subset=None, keep='first', inplace=False)        \n",
        "df_last = df_last.reset_index(drop=True)\n",
        "df_last\n",
        "    "
      ],
      "execution_count": 90,
      "outputs": [
        {
          "output_type": "execute_result",
          "data": {
            "text/html": [
              "<div>\n",
              "<style scoped>\n",
              "    .dataframe tbody tr th:only-of-type {\n",
              "        vertical-align: middle;\n",
              "    }\n",
              "\n",
              "    .dataframe tbody tr th {\n",
              "        vertical-align: top;\n",
              "    }\n",
              "\n",
              "    .dataframe thead th {\n",
              "        text-align: right;\n",
              "    }\n",
              "</style>\n",
              "<table border=\"1\" class=\"dataframe\">\n",
              "  <thead>\n",
              "    <tr style=\"text-align: right;\">\n",
              "      <th></th>\n",
              "      <th>company</th>\n",
              "      <th>TextIndicatePartners</th>\n",
              "    </tr>\n",
              "  </thead>\n",
              "  <tbody>\n",
              "    <tr>\n",
              "      <th>0</th>\n",
              "      <td>atlanticshellfish</td>\n",
              "      <td>We also develop partnerships with other grower...</td>\n",
              "    </tr>\n",
              "    <tr>\n",
              "      <th>1</th>\n",
              "      <td>colarome</td>\n",
              "      <td>This transition is intended to be seamless for...</td>\n",
              "    </tr>\n",
              "    <tr>\n",
              "      <th>2</th>\n",
              "      <td>colarome</td>\n",
              "      <td>Nous tenons à vous remercier pour votre loyaut...</td>\n",
              "    </tr>\n",
              "    <tr>\n",
              "      <th>3</th>\n",
              "      <td>colarome</td>\n",
              "      <td>As the technological partner, Colarome can hel...</td>\n",
              "    </tr>\n",
              "    <tr>\n",
              "      <th>4</th>\n",
              "      <td>1fish2fish</td>\n",
              "      <td>Check them out at www.mizuna.ca Associations 1...</td>\n",
              "    </tr>\n",
              "    <tr>\n",
              "      <th>...</th>\n",
              "      <td>...</td>\n",
              "      <td>...</td>\n",
              "    </tr>\n",
              "    <tr>\n",
              "      <th>13258</th>\n",
              "      <td>zanatta</td>\n",
              "      <td>Why this policy exists This data protection po...</td>\n",
              "    </tr>\n",
              "    <tr>\n",
              "      <th>13259</th>\n",
              "      <td>hornbyorganic</td>\n",
              "      <td>Buy BC Buy BC This project is supported by the...</td>\n",
              "    </tr>\n",
              "    <tr>\n",
              "      <th>13260</th>\n",
              "      <td>hornbyorganic</td>\n",
              "      <td>Hornby Organic Energy Bars Variety Packs Gift ...</td>\n",
              "    </tr>\n",
              "    <tr>\n",
              "      <th>13261</th>\n",
              "      <td>hornbyorganic</td>\n",
              "      <td>= Buy BC Buy BC This project is supported by t...</td>\n",
              "    </tr>\n",
              "    <tr>\n",
              "      <th>13262</th>\n",
              "      <td>quinoa</td>\n",
              "      <td>We have rare insight into each harvest, made p...</td>\n",
              "    </tr>\n",
              "  </tbody>\n",
              "</table>\n",
              "<p>13263 rows × 2 columns</p>\n",
              "</div>"
            ],
            "text/plain": [
              "                 company                               TextIndicatePartners\n",
              "0      atlanticshellfish  We also develop partnerships with other grower...\n",
              "1               colarome  This transition is intended to be seamless for...\n",
              "2               colarome  Nous tenons à vous remercier pour votre loyaut...\n",
              "3               colarome  As the technological partner, Colarome can hel...\n",
              "4             1fish2fish  Check them out at www.mizuna.ca Associations 1...\n",
              "...                  ...                                                ...\n",
              "13258            zanatta  Why this policy exists This data protection po...\n",
              "13259      hornbyorganic  Buy BC Buy BC This project is supported by the...\n",
              "13260      hornbyorganic  Hornby Organic Energy Bars Variety Packs Gift ...\n",
              "13261      hornbyorganic  = Buy BC Buy BC This project is supported by t...\n",
              "13262             quinoa  We have rare insight into each harvest, made p...\n",
              "\n",
              "[13263 rows x 2 columns]"
            ]
          },
          "metadata": {
            "tags": []
          },
          "execution_count": 90
        }
      ]
    },
    {
      "cell_type": "code",
      "metadata": {
        "colab": {
          "base_uri": "https://localhost:8080/"
        },
        "id": "iHJ0c8eH9JLt",
        "outputId": "206dc585-bc58-4fc8-b2b4-87aab6dac213"
      },
      "source": [
        "len(df_last.company.unique())"
      ],
      "execution_count": 89,
      "outputs": [
        {
          "output_type": "execute_result",
          "data": {
            "text/plain": [
              "1515"
            ]
          },
          "metadata": {
            "tags": []
          },
          "execution_count": 89
        }
      ]
    },
    {
      "cell_type": "code",
      "metadata": {
        "colab": {
          "base_uri": "https://localhost:8080/",
          "height": 419
        },
        "id": "8dWZL6hsKGWE",
        "outputId": "5703a710-7074-4099-9bd2-8dd223d66258"
      },
      "source": [
        "temp_df = df_last.copy(deep=True)\n",
        "temp_df['TextIndicatePartners'] = temp_df[['company','TextIndicatePartners']].groupby(['company'])['TextIndicatePartners'].transform(lambda x: ','.join(x))  \n",
        "comp_partnersent_df= temp_df[['company','TextIndicatePartners']].drop_duplicates()\n",
        "comp_partnersent_df = comp_partnersent_df.reset_index(drop=True)\n",
        "comp_partnersent_df"
      ],
      "execution_count": 96,
      "outputs": [
        {
          "output_type": "execute_result",
          "data": {
            "text/html": [
              "<div>\n",
              "<style scoped>\n",
              "    .dataframe tbody tr th:only-of-type {\n",
              "        vertical-align: middle;\n",
              "    }\n",
              "\n",
              "    .dataframe tbody tr th {\n",
              "        vertical-align: top;\n",
              "    }\n",
              "\n",
              "    .dataframe thead th {\n",
              "        text-align: right;\n",
              "    }\n",
              "</style>\n",
              "<table border=\"1\" class=\"dataframe\">\n",
              "  <thead>\n",
              "    <tr style=\"text-align: right;\">\n",
              "      <th></th>\n",
              "      <th>company</th>\n",
              "      <th>TextIndicatePartners</th>\n",
              "    </tr>\n",
              "  </thead>\n",
              "  <tbody>\n",
              "    <tr>\n",
              "      <th>0</th>\n",
              "      <td>atlanticshellfish</td>\n",
              "      <td>We also develop partnerships with other grower...</td>\n",
              "    </tr>\n",
              "    <tr>\n",
              "      <th>1</th>\n",
              "      <td>colarome</td>\n",
              "      <td>This transition is intended to be seamless for...</td>\n",
              "    </tr>\n",
              "    <tr>\n",
              "      <th>2</th>\n",
              "      <td>1fish2fish</td>\n",
              "      <td>Check them out at www.mizuna.ca Associations 1...</td>\n",
              "    </tr>\n",
              "    <tr>\n",
              "      <th>3</th>\n",
              "      <td>creativeplanco</td>\n",
              "      <td>Détaillants-associés Divisions SMART Accessori...</td>\n",
              "    </tr>\n",
              "    <tr>\n",
              "      <th>4</th>\n",
              "      <td>canadabreadfoodservice</td>\n",
              "      <td>We may share your Personal Information with th...</td>\n",
              "    </tr>\n",
              "    <tr>\n",
              "      <th>...</th>\n",
              "      <td>...</td>\n",
              "      <td>...</td>\n",
              "    </tr>\n",
              "    <tr>\n",
              "      <th>1510</th>\n",
              "      <td>bioscript</td>\n",
              "      <td>User Accounts To access some features of our W...</td>\n",
              "    </tr>\n",
              "    <tr>\n",
              "      <th>1511</th>\n",
              "      <td>bionova</td>\n",
              "      <td>Monita Taylor TREASURER Stephen Hartlen DIRECT...</td>\n",
              "    </tr>\n",
              "    <tr>\n",
              "      <th>1512</th>\n",
              "      <td>zanatta</td>\n",
              "      <td>Why this policy exists This data protection po...</td>\n",
              "    </tr>\n",
              "    <tr>\n",
              "      <th>1513</th>\n",
              "      <td>hornbyorganic</td>\n",
              "      <td>Buy BC Buy BC This project is supported by the...</td>\n",
              "    </tr>\n",
              "    <tr>\n",
              "      <th>1514</th>\n",
              "      <td>quinoa</td>\n",
              "      <td>We have rare insight into each harvest, made p...</td>\n",
              "    </tr>\n",
              "  </tbody>\n",
              "</table>\n",
              "<p>1515 rows × 2 columns</p>\n",
              "</div>"
            ],
            "text/plain": [
              "                     company                               TextIndicatePartners\n",
              "0          atlanticshellfish  We also develop partnerships with other grower...\n",
              "1                   colarome  This transition is intended to be seamless for...\n",
              "2                 1fish2fish  Check them out at www.mizuna.ca Associations 1...\n",
              "3             creativeplanco  Détaillants-associés Divisions SMART Accessori...\n",
              "4     canadabreadfoodservice  We may share your Personal Information with th...\n",
              "...                      ...                                                ...\n",
              "1510               bioscript  User Accounts To access some features of our W...\n",
              "1511                 bionova  Monita Taylor TREASURER Stephen Hartlen DIRECT...\n",
              "1512                 zanatta  Why this policy exists This data protection po...\n",
              "1513           hornbyorganic  Buy BC Buy BC This project is supported by the...\n",
              "1514                  quinoa  We have rare insight into each harvest, made p...\n",
              "\n",
              "[1515 rows x 2 columns]"
            ]
          },
          "metadata": {
            "tags": []
          },
          "execution_count": 96
        }
      ]
    },
    {
      "cell_type": "code",
      "metadata": {
        "colab": {
          "base_uri": "https://localhost:8080/",
          "height": 69
        },
        "id": "JziS7HOSLD8x",
        "outputId": "b45161ce-e5f1-403f-c762-2a59d444c424"
      },
      "source": [
        "comp_partnersent_df['TextIndicatePartners'][1]"
      ],
      "execution_count": 97,
      "outputs": [
        {
          "output_type": "execute_result",
          "data": {
            "application/vnd.google.colaboratory.intrinsic+json": {
              "type": "string"
            },
            "text/plain": [
              "'This transition is intended to be seamless for our customers, suppliers and other business partners.,Nous tenons à vous remercier pour votre loyauté et nous réjouissons de poursuivre notre collaboration fructueuse avec vous.,As the technological partner, Colarome can help its clients to: • integrate and optimize the performance of its natural colourings in their products; • develop flavours and manufacture extracts that meet the specific needs and restrictions of each client and of each industry.'"
            ]
          },
          "metadata": {
            "tags": []
          },
          "execution_count": 97
        }
      ]
    },
    {
      "cell_type": "code",
      "metadata": {
        "id": "SeFr7AGXLf0v"
      },
      "source": [
        "comp_partnersent_df.to_csv('comp_partnersent_df.csv')"
      ],
      "execution_count": 98,
      "outputs": []
    },
    {
      "cell_type": "code",
      "metadata": {
        "colab": {
          "base_uri": "https://localhost:8080/"
        },
        "id": "UnLMl7uqdK-T",
        "outputId": "87daf15b-b061-4a8d-b0c1-95d11cb15f83"
      },
      "source": [
        "abc = df_sentToken['ListofSentences'][1]\n",
        "abc"
      ],
      "execution_count": 37,
      "outputs": [
        {
          "output_type": "execute_result",
          "data": {
            "text/plain": [
              "[' Home About Products Red Head Select South Lake Select Shipwreck Select Savage Blonde Tuxedo Malpeque Contact Atlantic Shellfish The First Step Contact Us Get in touch for details on pricing, shipping, etc. \\xa0Compliments, comments, and questions are always welcome.',\n",
              " \"Don't be shy!\",\n",
              " \"* Indicates required field Name * First Last Email * Comment * Submit TELEPHONE NUMBER & FAX NUMBER 902-961-3400 902-961-3445 MAILING ADDRESS & PHYSICAL ADDRESS P.O. Box 210 Morell, PE C0A 1S0 Canada 306 Red Head Road Morell, PE \\u200bCanada Some faces to go with the names... Jacob Dockendorff jacob@atlanticshellfish.com Cindy Dockendorff cindy@atlanticshellfish.com Ashley Dumville ashley@atlanticshellfish.com Bobby McIsaac bobby@atlanticshellfish.com Atlantic Shellfish is constantly innovating and striving to be on the forefront of PEI's oyster industry.\",\n",
              " 'We do not try to set the bar.',\n",
              " 'Instead, we constantly raise it.',\n",
              " 'Home About Products Red Head Select South Lake Select Shipwreck Select Savage Blonde Tuxedo Malpeque Contact, Home About Products Red Head Select South Lake Select Shipwreck Select Savage Blonde Tuxedo Malpeque Contact Atlantic Shellfish Tuxedo Surface cultivated The Tuxedo branding is as a result of the black and white shell coloring of the Foxley River, PEI oysters.',\n",
              " \"Our Tuxedo oysters are always dressed and ready for your next 'black tie affair'.\",\n",
              " 'The Tuxedo is a premium brand oyster.',\n",
              " 'These oysters are cultivated in floating bags and typically take 3-4 years to reach harvest size.',\n",
              " 'Every two weeks during the spring, summer and fall seasons each bags is turned out of the water for two days.',\n",
              " 'We do this to control any predators and also to tumble the oysters within the bags to improve shape, meat quality, and shell thickness.',\n",
              " 'Each year the oysters are taken out of the bags and tumbled for resizing and to inspect overall performance.',\n",
              " 'Any oysters that are overstocked or growing too slowly are transferred to one of our bottom cultivation sites.',\n",
              " 'During the winter the bags are sunk to the bottom and remain on site underneath the ice.',\n",
              " '\\u200b Typically available fall/winter.',\n",
              " \"Foxley River, PEI The Tuxedos shells are black and white and they're eaten all over.\",\n",
              " \"The Tuxedo meats are a refined combination of sweet and salty that even the most discerning palate will appreciate Atlantic Shellfish is constantly innovating and striving to be on the forefront of PEI's oyster industry.\",\n",
              " 'We do not try to set the bar.',\n",
              " 'Instead, we constantly raise it.',\n",
              " 'Home About Products Red Head Select South Lake Select Shipwreck Select Savage Blonde Tuxedo Malpeque Contact, Home About Products Red Head Select South Lake Select Shipwreck Select Savage Blonde Tuxedo Malpeque Contact Atlantic Shellfish Malpeque Wild catch The Malpeque oyster branding is a staple of the Prince Edward Island oyster industry.',\n",
              " 'These are the bread and butter or meat and potatoes of oysters on PEI.',\n",
              " 'Malpeques are gathered from a variety of bays and rivers across PEI - including, but not limited to, Malpeque Bay.',\n",
              " 'We offer Malpeques in Choice, Standard, and Commercial grades.',\n",
              " '\\u200b These oysters are harvested by a small group of dedicated\\xa0public fishers.',\n",
              " 'These fishers harvest using the traditional oyster tongs and search far and wide for our choice, standard, and commercial grade oysters.',\n",
              " 'The public fishery is divided into a spring and fall season.',\n",
              " 'The majority of these oysters will come from the spring fishing season.',\n",
              " 'During the summer these same fishers also provide us with oysters from their own private leases.',\n",
              " \"Typically available year round Various locations (Consolidated in St. Peter's Bay) The Malpeque shells are highly variable.\",\n",
              " 'Colourings can be green, blonde, brown, black, or even white.',\n",
              " 'The Malpeque meats are consistently full bodied.',\n",
              " 'They are held on location until they are able to filter in the sweet and briny North Shore, PEI flavours during spring and summer.',\n",
              " 'During the fall season we try to ship them out directly from their harvest location to showcase the flavour variations of each river or bay.',\n",
              " \"Atlantic Shellfish is constantly innovating and striving to be on the forefront of PEI's oyster industry.\",\n",
              " 'We do not try to set the bar.',\n",
              " 'Instead, we constantly raise it.',\n",
              " \"Home About Products Red Head Select South Lake Select Shipwreck Select Savage Blonde Tuxedo Malpeque Contact, Home About Products Red Head Select South Lake Select Shipwreck Select Savage Blonde Tuxedo Malpeque Contact Atlantic Shellfish Shipwreck select oysters Bottom cultivated The Shipwreck Select branding reminds us of the dangers of navigating around Prince Edward Island's eastern point.\",\n",
              " 'In the 17th and 18th Centuries more ships were wrecked in the colliding tides of East Point than anywhere else around the shoreline of PEI.',\n",
              " \"The tides have formed Canada's most spectacular sandy dune beaches but also one of Canada's most prized oysters.\",\n",
              " 'Only Shipwreck Selects can survive in these dangerously good waters.',\n",
              " \"They're packaged in wooden boxes as a reminder of all of the wooden ships that did not survive the journey.\",\n",
              " '\\u200b These oysters are harvested by a small group of dedicated fishers.',\n",
              " 'These fishers harvest using the traditional oyster tongs to gather our Shipwreck Select oysters.',\n",
              " \"Weather permitting these brave souls will\\xa0sometimes use more modern harvesting techniques as they attempt to beat the tides before they're left high and dry.\",\n",
              " 'Typically available year round East Point, PEI The Shipwreck Select shells are strong from being battered in the tides.',\n",
              " 'Colourings are predominantly green but can also be \\xa0blonde, brown, black, or even white.',\n",
              " 'The Shipwreck Select meats are consistently full bodied.',\n",
              " 'They are held on location until they are able to filter in the sweet flavours of the South Shore and also the briny flavours of the North Shore.',\n",
              " \"Atlantic Shellfish is constantly innovating and striving to be on the forefront of PEI's oyster industry.\",\n",
              " 'We do not try to set the bar.',\n",
              " 'Instead, we constantly raise it.',\n",
              " 'Home About Products Red Head Select South Lake Select Shipwreck Select Savage Blonde Tuxedo Malpeque Contact, Home About Products Red Head Select South Lake Select Shipwreck Select Savage Blonde Tuxedo Malpeque Contact Atlantic Shellfish South Lake Select Surface cultivated The South Lake Select brand is synonymous with quality.',\n",
              " 'South Lake Select are our curated surface cultivated crop.',\n",
              " 'These oysters have been carefully selected for finishing on our South Lake leases.',\n",
              " 'You may see some variation in the shell colouring but make no mistake - these oysters embody South Lake.',\n",
              " 'South Lake Select is a premium brand oyster.',\n",
              " 'These oysters are cultivated in floating bags and typically take 3-4 years to reach harvest size.',\n",
              " 'Every two weeks during the spring, summer and fall seasons each bags is turned out of the water for two days.',\n",
              " 'We do this to control any predators and also to tumble the oysters within the bags to improve shape, meat quality, and shell thickness.',\n",
              " 'Each year the oysters are taken out of the bags and tumbled for resizing and to inspect overall performance.',\n",
              " 'Any oysters that are overstocked or growing too slowly are transferred to one of our bottom cultivation sites.',\n",
              " 'During the winter the bags are sunk to the bottom and remain on site underneath the ice.',\n",
              " '\\u200b Year-round Availability South Lake, PEI The South Lake Select shells vary in colour with mottled blonde, brown, black, and green colourings depending on their original source area.',\n",
              " 'The South Lake Select meats are incredible.',\n",
              " 'Full to overflowing with sweet and salty undertones and a lobster-like finish.',\n",
              " \"Atlantic Shellfish is constantly innovating and striving to be on the forefront of PEI's oyster industry.\",\n",
              " 'We do not try to set the bar.',\n",
              " 'Instead, we constantly raise it.',\n",
              " \"Home About Products Red Head Select South Lake Select Shipwreck Select Savage Blonde Tuxedo Malpeque Contact, Home About Products Red Head Select South Lake Select Shipwreck Select Savage Blonde Tuxedo Malpeque Contact Atlantic Shellfish The products Menu Savage Blonde Red Head Select Tuxedo Shipwreck Select South Lake Select Malpeque Atlantic Shellfish is constantly innovating and striving to be on the forefront of PEI's oyster industry.\",\n",
              " 'We do not try to set the bar.',\n",
              " 'Instead, we constantly raise it.',\n",
              " 'Home About Products Red Head Select South Lake Select Shipwreck Select Savage Blonde Tuxedo Malpeque Contact, Home About Products Red Head Select South Lake Select Shipwreck Select Savage Blonde Tuxedo Malpeque Contact Atlantic Shellfish savage blonde Surface cultivated The\\xa0Savage Blonde branding\\xa0developed as a bit of a joke for us but this oyster is no joke.',\n",
              " 'Our Savage Blondes are cultivated in Savage Harbour Bay, PEI.',\n",
              " 'Savage Blondes\\xa0are a premium brand oyster.',\n",
              " 'These oysters are cultivated in floating bags and typically take 3-4 years to reach harvest size.',\n",
              " 'Every two weeks during the spring, summer and fall seasons each bags is turned out of the water for two days.',\n",
              " 'We do this to control any predators and also to tumble the oysters within the bags to improve shape, meat quality, and shell thickness.',\n",
              " 'Each year the oysters are taken out of the bags and tumbled for resizing and to inspect overall performance.',\n",
              " 'Any oysters that are overstocked or growing too slowly are transferred to one of our bottom cultivation sites.',\n",
              " 'During the winter the bags are sunk to the bottom and remain on site underneath the ice.',\n",
              " 'Typically available year-round Savage Harbour, PEI The Savage Blonde shells are usually light coloured although we do occasionally see some dirty blondes (darker brown).',\n",
              " 'The Savage Blonde meats are full and sweet with a briny flavour typical of North Shore, PEI oysters.',\n",
              " \"Atlantic Shellfish is constantly innovating and striving to be on the forefront of PEI's oyster industry.\",\n",
              " 'We do not try to set the bar.',\n",
              " 'Instead, we constantly raise it.',\n",
              " 'Home About Products Red Head Select South Lake Select Shipwreck Select Savage Blonde Tuxedo Malpeque Contact, Home About Products Red Head Select South Lake Select Shipwreck Select Savage Blonde Tuxedo Malpeque Contact Atlantic Shellfish Red Head Select Bottom cultivated or Wild The Red Head Select brand is synonymous with quality.',\n",
              " 'Red Head Select are our curated bottom grown crop.',\n",
              " 'These oysters have been carefully selected from our bottom cultivation sites as well as the public fishery.',\n",
              " \"Red Head Selects are counted among the best of Prince Edward Island's world class oysters.\",\n",
              " 'Red Head Select is a premium brand oyster.',\n",
              " 'We believe that\\xa0each case of Red Head Selects tells a unique story and our goal is to pass on as much of that story as possible.',\n",
              " 'You will notice that some cases will be marked as \"Wild\" and others will be \"Bottom Cultivated\".',\n",
              " 'The \"Wild\" oysters are harvested by a small group of dedicated\\xa0public fishers.',\n",
              " 'These fishers harvest using the traditional oyster tongs and search far and wide across Prince Edward Island for our select oysters.',\n",
              " 'The \"Bottom Cultivated\" oysters are harvested from our own private leases using our custom designed harvesting barge.',\n",
              " 'Imagine oysters being lifted from the sea floor on a cushion of high pressure water and landing onto a conveyor belt that conveniently (for us) delivers them onto our barge.',\n",
              " 'Typically available Spring/Summer/Fall Various locations The Red Head Select shells are variable.',\n",
              " 'Colourings can be green, blonde, brown, black, or even white.',\n",
              " 'The Red Head Select meats are consistently full bodied.',\n",
              " 'We often are able to ship them out directly from their original harvest location to showcase the flavour variations of each river or bay.',\n",
              " \"Atlantic Shellfish is constantly innovating and striving to be on the forefront of PEI's oyster industry.\",\n",
              " 'We do not try to set the bar.',\n",
              " 'Instead, we constantly raise it.',\n",
              " 'Home About Products Red Head Select South Lake Select Shipwreck Select Savage Blonde Tuxedo Malpeque Contact, Home About Products Red Head Select South Lake Select Shipwreck Select Savage Blonde Tuxedo Malpeque Contact Atlantic Shellfish the story Atlantic Shellfish Products Inc.',\n",
              " \"was founded by Russell Dockendorff Jr. He was building on his reputation as a pioneer, along with his father (Russell Sr.), in Prince Edward Island's mussel industry.\",\n",
              " 'When they sold their lobster fleets in 1979 to get into the mussel industry everyone thought they were crazy.',\n",
              " \"Through their hard work and innovative approach they were highly instrumental in building the 'Island Blue' mussel into the world renowned phenomenon it is today.\",\n",
              " \"Today the mussel company is known as the PEI Mussel King and is managed by Russell Jr.'s siblings - Esther, Donna, and Scott.\",\n",
              " 'Atlantic Shellfish started in 1997 by purchasing, grading and selling wild caught oysters and quahogs.',\n",
              " 'Today, Atlantic Shellfish is still purchasing, grading and selling wild caught oysters but has also expanded into cultivated oysters.',\n",
              " 'Management has transitioned from Russell Jr. to his daughter Cindy and son Jacob.',\n",
              " '\\u200bWe cultivate our own brands of oysters both on the bottom and using off-bottom technology.',\n",
              " 'We operate by maintaining one holding lease, nine bottom cultivation leases, and three off-bottom cultivation leases on PEI.',\n",
              " 'We also develop partnerships with other growers in PEI, New Brunswick, and Nova Scotia.',\n",
              " 'Atlantic Shellfish reliably supplies a consistent top quality product to a continually developing customer base that has come to appreciate excellent service.',\n",
              " 'Our association with PEI Mussel King compliments oyster and quahog sales with top quality fresh and cooked frozen mussels.',\n",
              " \"Atlantic Shellfish is constantly innovating and striving to be on the forefront of PEI's oyster industry.\",\n",
              " 'We do not try to set the bar.',\n",
              " 'Instead, we constantly raise it.',\n",
              " \"Atlantic Shellfish is constantly innovating and striving to be on the forefront of PEI's oyster industry.\",\n",
              " 'We do not try to set the bar.',\n",
              " 'Instead, we constantly raise it.',\n",
              " 'Home About Products Red Head Select South Lake Select Shipwreck Select Savage Blonde Tuxedo Malpeque Contact, Home About Products Red Head Select South Lake Select Shipwreck Select Savage Blonde Tuxedo Malpeque Contact Atlantic Shellfish Atlantic Shellfish Products Inc.',\n",
              " \"Processing Atlantic Canada's finest cultivated and wild oysters Contact Follow us on Facebook or Instagram: Atlantic Shellfish is constantly innovating and striving to be on the forefront of PEI's oyster industry.\",\n",
              " 'We do not try to set the bar.',\n",
              " 'Instead, we constantly raise it.',\n",
              " 'Home About Products Red Head Select South Lake Select Shipwreck Select Savage Blonde Tuxedo Malpeque Contact']"
            ]
          },
          "metadata": {
            "tags": []
          },
          "execution_count": 37
        }
      ]
    },
    {
      "cell_type": "code",
      "metadata": {
        "colab": {
          "base_uri": "https://localhost:8080/"
        },
        "id": "L-WpXHHmWwv5",
        "outputId": "e13a9640-6d3e-4dfa-89a9-848cb82eab1e"
      },
      "source": [
        "len(temp_list_index)"
      ],
      "execution_count": null,
      "outputs": [
        {
          "output_type": "execute_result",
          "data": {
            "text/plain": [
              "1533"
            ]
          },
          "metadata": {
            "tags": []
          },
          "execution_count": 86
        }
      ]
    },
    {
      "cell_type": "code",
      "metadata": {
        "id": "kudSwkiAk0Lk"
      },
      "source": [
        "#temp_list_index"
      ],
      "execution_count": null,
      "outputs": []
    },
    {
      "cell_type": "code",
      "metadata": {
        "colab": {
          "base_uri": "https://localhost:8080/"
        },
        "id": "DeKeIIlyk37t",
        "outputId": "4c175f43-1b52-4c2b-8339-f90a288e7b25"
      },
      "source": [
        "partnered_companies = []\n",
        "keys_list = list(temp_list_index.keys())\n",
        "df_partners = updated_df.iloc[keys_list]\n",
        "df_partners['company']"
      ],
      "execution_count": null,
      "outputs": [
        {
          "output_type": "execute_result",
          "data": {
            "text/plain": [
              "1            atlanticshellfish\n",
              "4                     colarome\n",
              "7                   1fish2fish\n",
              "8               creativeplanco\n",
              "9       canadabreadfoodservice\n",
              "                 ...          \n",
              "2982                 bioscript\n",
              "2987                   bionova\n",
              "2990                   zanatta\n",
              "3001             hornbyorganic\n",
              "3012                    quinoa\n",
              "Name: company, Length: 1533, dtype: object"
            ]
          },
          "metadata": {
            "tags": []
          },
          "execution_count": 99
        }
      ]
    },
    {
      "cell_type": "code",
      "metadata": {
        "colab": {
          "base_uri": "https://localhost:8080/",
          "height": 419
        },
        "id": "XjNTi74BYYmx",
        "outputId": "8bbd4c63-c187-43cc-c292-b449a3cd0f3d"
      },
      "source": [
        "df_partners[:150]"
      ],
      "execution_count": null,
      "outputs": [
        {
          "output_type": "execute_result",
          "data": {
            "text/html": [
              "<div>\n",
              "<style scoped>\n",
              "    .dataframe tbody tr th:only-of-type {\n",
              "        vertical-align: middle;\n",
              "    }\n",
              "\n",
              "    .dataframe tbody tr th {\n",
              "        vertical-align: top;\n",
              "    }\n",
              "\n",
              "    .dataframe thead th {\n",
              "        text-align: right;\n",
              "    }\n",
              "</style>\n",
              "<table border=\"1\" class=\"dataframe\">\n",
              "  <thead>\n",
              "    <tr style=\"text-align: right;\">\n",
              "      <th></th>\n",
              "      <th>company</th>\n",
              "      <th>TextContent</th>\n",
              "    </tr>\n",
              "  </thead>\n",
              "  <tbody>\n",
              "    <tr>\n",
              "      <th>1</th>\n",
              "      <td>atlanticshellfish</td>\n",
              "      <td>Home About Products Red Head Select South Lak...</td>\n",
              "    </tr>\n",
              "    <tr>\n",
              "      <th>4</th>\n",
              "      <td>colarome</td>\n",
              "      <td>For nearly 20 years, Colarome has been develo...</td>\n",
              "    </tr>\n",
              "    <tr>\n",
              "      <th>7</th>\n",
              "      <td>1fish2fish</td>\n",
              "      <td>Name: Email: 1 Fish 2 Fish home monthly speci...</td>\n",
              "    </tr>\n",
              "    <tr>\n",
              "      <th>8</th>\n",
              "      <td>creativeplanco</td>\n",
              "      <td>English Des solutions clé en main pour les ve...</td>\n",
              "    </tr>\n",
              "    <tr>\n",
              "      <th>9</th>\n",
              "      <td>canadabreadfoodservice</td>\n",
              "      <td>Home Sitemap Contact Francais Account Login |...</td>\n",
              "    </tr>\n",
              "    <tr>\n",
              "      <th>...</th>\n",
              "      <td>...</td>\n",
              "      <td>...</td>\n",
              "    </tr>\n",
              "    <tr>\n",
              "      <th>290</th>\n",
              "      <td>mapletonsorganic</td>\n",
              "      <td>Skip to main content Toggle navigation Maplet...</td>\n",
              "    </tr>\n",
              "    <tr>\n",
              "      <th>293</th>\n",
              "      <td>continentalimporters</td>\n",
              "      <td>Skip to content 1856 Pandora Street Vancouver...</td>\n",
              "    </tr>\n",
              "    <tr>\n",
              "      <th>294</th>\n",
              "      <td>stmarysriverassociation</td>\n",
              "      <td>Last updated 2019-02-115 St. Mary*s River Ass...</td>\n",
              "    </tr>\n",
              "    <tr>\n",
              "      <th>295</th>\n",
              "      <td>hojicha.co</td>\n",
              "      <td>Skip to content Submit Close search Just adde...</td>\n",
              "    </tr>\n",
              "    <tr>\n",
              "      <th>296</th>\n",
              "      <td>friesencompanies</td>\n",
              "      <td>Toll Free: 1-877-552-2220 Home About Our Comp...</td>\n",
              "    </tr>\n",
              "  </tbody>\n",
              "</table>\n",
              "<p>150 rows × 2 columns</p>\n",
              "</div>"
            ],
            "text/plain": [
              "                     company                                        TextContent\n",
              "1          atlanticshellfish   Home About Products Red Head Select South Lak...\n",
              "4                   colarome   For nearly 20 years, Colarome has been develo...\n",
              "7                 1fish2fish   Name: Email: 1 Fish 2 Fish home monthly speci...\n",
              "8             creativeplanco   English Des solutions clé en main pour les ve...\n",
              "9     canadabreadfoodservice   Home Sitemap Contact Francais Account Login |...\n",
              "..                       ...                                                ...\n",
              "290         mapletonsorganic   Skip to main content Toggle navigation Maplet...\n",
              "293     continentalimporters   Skip to content 1856 Pandora Street Vancouver...\n",
              "294  stmarysriverassociation   Last updated 2019-02-115 St. Mary*s River Ass...\n",
              "295               hojicha.co   Skip to content Submit Close search Just adde...\n",
              "296         friesencompanies   Toll Free: 1-877-552-2220 Home About Our Comp...\n",
              "\n",
              "[150 rows x 2 columns]"
            ]
          },
          "metadata": {
            "tags": []
          },
          "execution_count": 100
        }
      ]
    },
    {
      "cell_type": "code",
      "metadata": {
        "colab": {
          "base_uri": "https://localhost:8080/"
        },
        "id": "X4ovCt1utsz0",
        "outputId": "80d5666e-1396-4845-fa6e-919dfcb70041"
      },
      "source": [
        "check = df_partners['TextContent'][7]\n",
        "if \"partners\" in check:\n",
        "  print(\"t\")"
      ],
      "execution_count": null,
      "outputs": [
        {
          "output_type": "stream",
          "text": [
            "t\n"
          ],
          "name": "stdout"
        }
      ]
    },
    {
      "cell_type": "code",
      "metadata": {
        "id": "tqBj_rnG2_4L"
      },
      "source": [
        "#In [3]: re.findall(r\"([^.]*?apple[^.]*\\.)\",txt)                                                                                                                             \n",
        "#Out[4]: ['I like to eat apple.', \" Let's go buy some apples.\"]"
      ],
      "execution_count": null,
      "outputs": []
    },
    {
      "cell_type": "code",
      "metadata": {
        "id": "GmACx5b8jkOv"
      },
      "source": [
        "import matplotlib.pyplot as plt\n",
        "import re\n",
        "import string\n",
        "from textblob import TextBlob\n",
        "import nltk\n",
        "from nltk.stem import WordNetLemmatizer\n",
        "from nltk.corpus import stopwords\n",
        "import numpy as np"
      ],
      "execution_count": null,
      "outputs": []
    },
    {
      "cell_type": "code",
      "metadata": {
        "colab": {
          "base_uri": "https://localhost:8080/"
        },
        "id": "nT7dGQz1j5vZ",
        "outputId": "6c95ffca-46c2-4e33-8e08-351e6f14f2a6"
      },
      "source": [
        "nltk.download('stopwords')\n",
        "nltk.download('wordnet')"
      ],
      "execution_count": null,
      "outputs": [
        {
          "output_type": "stream",
          "text": [
            "[nltk_data] Downloading package stopwords to /root/nltk_data...\n",
            "[nltk_data]   Unzipping corpora/stopwords.zip.\n",
            "[nltk_data] Downloading package wordnet to /root/nltk_data...\n",
            "[nltk_data]   Unzipping corpora/wordnet.zip.\n"
          ],
          "name": "stdout"
        },
        {
          "output_type": "execute_result",
          "data": {
            "text/plain": [
              "True"
            ]
          },
          "metadata": {
            "tags": []
          },
          "execution_count": 40
        }
      ]
    },
    {
      "cell_type": "code",
      "metadata": {
        "colab": {
          "base_uri": "https://localhost:8080/"
        },
        "id": "KdB9k4SXtdLi",
        "outputId": "c327026a-b880-4b8f-f814-5d39cc683f13"
      },
      "source": [
        "df_mini.dtypes"
      ],
      "execution_count": null,
      "outputs": [
        {
          "output_type": "execute_result",
          "data": {
            "text/plain": [
              "_id                object\n",
              "downloaded_link    object\n",
              "HTML               object\n",
              "TextContent        object\n",
              "website            object\n",
              "company            object\n",
              "dtype: object"
            ]
          },
          "metadata": {
            "tags": []
          },
          "execution_count": 41
        }
      ]
    },
    {
      "cell_type": "code",
      "metadata": {
        "colab": {
          "base_uri": "https://localhost:8080/"
        },
        "id": "D_MFfuoPnqZS",
        "outputId": "386a0c7a-0ebb-4a84-ff7a-8f524fa082f8"
      },
      "source": [
        "belpar = df_mini.iloc[6][3]\n",
        "print(belpar)"
      ],
      "execution_count": null,
      "outputs": [
        {
          "output_type": "stream",
          "text": [
            " storefix@belpar.com (604) 581-5291 Home Company Services Products Blog Contact Us Request a Quote Request a Quote Products Categories Products > Custom Millwork Fabrication > Custom Store Fixture Fabrication > Point Of Sale Checkouts > Bakery Display Units > Produce Display Units > Floral Display Units > Wine and Liquor Displays > Meat, Seafood, & Deli > Custom Display Units > Residential Cabinetry and Counter-Tops CONTACT US! If you would like more information about any of our products, email us or give us a call storefix@belpar.com 1(888) 423-5727 Produce Display #13 © Bel-Par Industries LTD. All Rights Reserved Web Design and Development by Web Masters Corp. Home Company Services Products Blog Contact Us TOP, storefix@belpar.com (604) 581-5291 Home Company Services Products Blog Contact Us Request a Quote Request a Quote Products Categories Products > Custom Millwork Fabrication > Custom Store Fixture Fabrication > Point Of Sale Checkouts > Bakery Display Units > Produce Display Units > Floral Display Units > Wine and Liquor Displays > Meat, Seafood, & Deli > Custom Display Units > Residential Cabinetry and Counter-Tops CONTACT US! If you would like more information about any of our products, email us or give us a call storefix@belpar.com 1(888) 423-5727 Produce Display #2 © Bel-Par Industries LTD. All Rights Reserved Web Design and Development by Web Masters Corp. Home Company Services Products Blog Contact Us TOP, storefix@belpar.com (604) 581-5291 Home Company Services Products Blog Contact Us Request a Quote Request a Quote Products Categories Products > Custom Millwork Fabrication > Custom Store Fixture Fabrication > Point Of Sale Checkouts > Bakery Display Units > Produce Display Units > Floral Display Units > Wine and Liquor Displays > Meat, Seafood, & Deli > Custom Display Units > Residential Cabinetry and Counter-Tops CONTACT US! If you would like more information about any of our products, email us or give us a call storefix@belpar.com 1(888) 423-5727 Kitchen (Hertco Pic 9) © Bel-Par Industries LTD. All Rights Reserved Web Design and Development by Web Masters Corp. Home Company Services Products Blog Contact Us TOP, storefix@belpar.com (604) 581-5291 Home Company Services Products Blog Contact Us Request a Quote Request a Quote Products Categories Products > Custom Millwork Fabrication > Custom Store Fixture Fabrication > Point Of Sale Checkouts > Bakery Display Units > Produce Display Units > Floral Display Units > Wine and Liquor Displays > Meat, Seafood, & Deli > Custom Display Units > Residential Cabinetry and Counter-Tops CONTACT US! If you would like more information about any of our products, email us or give us a call storefix@belpar.com 1(888) 423-5727 Kitchen (Hertco Pic 1) Kitchen (Hertco Pic 2) Kitchen (Hertco Pic 3) Kitchen (Hertco Pic 4) Kitchen (Hertco Pic 5) Kitchen (Hertco Pic 6) Kitchen (Hertco Pic 7) Kitchen (Hertco Pic 8) Kitchen (Hertco Pic 9) Kitchen (Hertco Pic 10) Kitchen (Hertco Pic 11) Kitchen (Hertco Pic 12) Residential Bar (Hertco Pic 13) Residential Bar (Hertco Pic 14) Residential Bar (Hertco Pic 15) Vanity (Hertco Pic 16) Vanity (Hertco Pic 17) © Bel-Par Industries LTD. All Rights Reserved Web Design and Development by Web Masters Corp. Home Company Services Products Blog Contact Us TOP, storefix@belpar.com (604) 581-5291 Home Company Services Products Blog Contact Us Request a Quote Request a Quote Products Categories Products > Custom Millwork Fabrication > Custom Store Fixture Fabrication > Point Of Sale Checkouts > Bakery Display Units > Produce Display Units > Floral Display Units > Wine and Liquor Displays > Meat, Seafood, & Deli > Custom Display Units > Residential Cabinetry and Counter-Tops CONTACT US! If you would like more information about any of our products, email us or give us a call storefix@belpar.com 1(888) 423-5727 SB-350 Adjustable Height Full Size Single Belt Checkout The SB-350 Adjustable Height Full Size Single Belt Checkout (124\" long) was ergonomically designed with customers, business owners, and employee's in mind. The adjustable work height and foot rest greatly reduces worker fatigue and back related injuries. Also with this unit being adjustable height it is very wheelchair access friendly. The adjustable height system installed in these checkouts are pressure sensitive smart. This means is if the unit is accidentally lowered onto an obstruction (example: hand baskets), the system will recognize this, stop, and automatically lift up a few inches allowing the cashier to remove the obstruction. This checkout utilizes a 52\" front belt system, scanner area, and two bagging wells. The SB-350 comes with a Cash Stand which includes a two locking drawers, lower doors, and security panel. STANDARD FEATURES: - Electronically Controlled Adjustable Height System - Pressure Sensitive - Ergonomic Adustable Working Deck Height Which Travels 32\" to 40\" - One Cash Stand with Two Locking Drawers, Lower Doors, and Security Panel - Durable Corlon Top Surface Material - High Pressure Laminate Exterior Finishing (Customer's Choice) - Two Ply PVC Endless Black Belt - Belt Clean Out Tray - Automatic Electric Eye Belt System - Certified to CSA and NRTL/C Safety Standards - Two Bag Wells with One Pull Up Shelf - Heavy Duty Exterior Bumper Protection - Aluminum Angles Applied to all Exposed Corners - Exterior Edges wrapped in Durable Black T-Molding - Grocery Divider Rails - One Year Warranty Parts & Labour * PDF Download SB-350 Schematics * © Bel-Par Industries LTD. All Rights Reserved Web Design and Development by Web Masters Corp. Home Company Services Products Blog Contact Us TOP, storefix@belpar.com (604) 581-5291 Home Company Services Products Blog Contact Us Request a Quote Request a Quote Content Categories Products > Custom Millwork Fabrication > Custom Store Fixture Fabrication > Point Of Sale Checkouts > Bakery Display Units > Produce Display Units > Floral Display Units > Wine and Liquor Displays > Meat, Seafood, & Deli > Custom Display Units > Residential Cabinetry and Counter-Tops CONTACT US! If you would like more information about any of our products, email us or give us a call storefix@belpar.com 1(888) 423-5727 Heading 2 Lorem ipsum dolor sit amet, consectetur adipisicing elit. Voluptatum, repellat, a. Repellat, soluta fuga commodi consequatur optio itaque, nisi aut voluptatem neque quaerat perferendis fugit ab nulla ex nostrum quasi ipsum molestias modi totam eligendi pariatur accusantium natus officiis? Voluptate veniam in, reicien. Subheading Lorem ipsum dolor sit amet, consectetur adipisicing elit. Laborum consequuntur ex repellat delectus quas quia illum sed non, praesentium atque, omnis aliquid odit doloremque tempore harum cum aperiam hic deserunt? Ullam nihil libero sed voluptatibus at voluptatum consectetur incidunt cumque quas asperiores voluptate atque, eius laboriosam et nisi dolor mollitia soluta similique eligendi dignissimos Subheading Dicta quam, ratione! Tempora perspiciatis natus beatae! Possimus dolor in voluptatibus. Impedit soluta delectus maxime provident corporis totam nihil sed dolores, odit quae esse, veniam, explicabo suscipit laboriosam et veritatis accusamus. Iure vero hic omnis magnam dolores culpa sit rem natus, consequatur earum autem provident voluptatem, quidem aspernatur quaerat iusto ad quos odio alias blanditiis nulla praesentium perspiciatis a. Quam corporis, dignissimos recusandae aperiam dolorum repudiandae rerum itaque et, voluptatibus maxime obcaecati nam. © Bel-Par Industries LTD. All Rights Reserved Web Design and Development by Web Masters Corp. Home Company Services Products Blog Contact Us TOP, storefix@belpar.com (604) 581-5291 Home Company Services Products Blog Contact Us Request a Quote Request a Quote Products Categories Products > Custom Millwork Fabrication > Custom Store Fixture Fabrication > Point Of Sale Checkouts > Bakery Display Units > Produce Display Units > Floral Display Units > Wine and Liquor Displays > Meat, Seafood, & Deli > Custom Display Units > Residential Cabinetry and Counter-Tops CONTACT US! If you would like more information about any of our products, email us or give us a call storefix@belpar.com 1(888) 423-5727 Produce Display #6 © Bel-Par Industries LTD. All Rights Reserved Web Design and Development by Web Masters Corp. Home Company Services Products Blog Contact Us TOP, storefix@belpar.com (604) 581-5291 Home Company Services Products Blog Contact Us Request a Quote Request a Quote Products Categories Products > Custom Millwork Fabrication > Custom Store Fixture Fabrication > Point Of Sale Checkouts > Bakery Display Units > Produce Display Units > Floral Display Units > Wine and Liquor Displays > Meat, Seafood, & Deli > Custom Display Units > Residential Cabinetry and Counter-Tops CONTACT US! If you would like more information about any of our products, email us or give us a call storefix@belpar.com 1(888) 423-5727 WINE & LIQUOR DISPLAY UNITS - PDF DOWNLOAD - DISPLAY #1 Wine and Liquor Display #2 Wine and Liquor Display #3 Wine and Liquor Display #4 Wine and Liquor Display #5 Wine and Liquor Display #6 Wine and Liquor Display #7 Wine and Liquor Display #8 Wine and Liquor Display #9 Wine and Liquor Display #10 Wine and Liquor Display #11 Wine and Liquor Display #12 Wine and Liquor Display #13 Wine and Liquor Display #14 Wine and Liquor Display #15 Wine and Liquor Display #16 Wine and Liquor Display #17 Wine and Liquor Display #18 Wine and Liquor Display #19 Wine and Liquor Display #20 Wine and Liquor Display #21 Wine and Liquor Display #22 Wine and Liquor Display #23 Wine and Liquor Display #24 Wine and Liquor Display #25 Wine and Liquor Display #26 Wine and Liquor Display #27 Wine and Liquor Display #28 Wine and Liquor Display #29 Wine and Liquor Display #30 Wine and Liquor Display #31 Wine and Liquor Display #32 © Bel-Par Industries LTD. All Rights Reserved Web Design and Development by Web Masters Corp. Home Company Services Products Blog Contact Us TOP, storefix@belpar.com (604) 581-5291 Home Company Services Products Blog Contact Us Request a Quote Request a Quote Products Categories Products > Custom Millwork Fabrication > Custom Store Fixture Fabrication > Point Of Sale Checkouts > Bakery Display Units > Produce Display Units > Floral Display Units > Wine and Liquor Displays > Meat, Seafood, & Deli > Custom Display Units > Residential Cabinetry and Counter-Tops CONTACT US! If you would like more information about any of our products, email us or give us a call storefix@belpar.com 1(888) 423-5727 FLORAL DISPLAY UNITS - PDF DOWNLOAD - DISPLAY #1 Floral Display #2 Floral Display #3 Floral Display #4 Floral Display #5 Floral Display #6 Floral Display #7 Floral Display #8 Floral Display #9 Floral Display #10 Floral Display #11 Floral Display #12 Floral Display #13 Floral Display #14 Floral Display #15 Floral Display #16 Floral Display #17 Floral Display #18 Floral Display #19 Floral Display #20 Floral Display #21 Floral Display #22 Floral Display #23 Floral Display #24 Floral Display #25 Floral Display #26 Floral Display #27 Floral Display #28 Floral Display #29 © Bel-Par Industries LTD. All Rights Reserved Web Design and Development by Web Masters Corp. Home Company Services Products Blog Contact Us TOP, storefix@belpar.com (604) 581-5291 Home Company Services Products Blog Contact Us Request a Quote Request a Quote Products Categories Products > Custom Millwork Fabrication > Custom Store Fixture Fabrication > Point Of Sale Checkouts > Bakery Display Units > Produce Display Units > Floral Display Units > Wine and Liquor Displays > Meat, Seafood, & Deli > Custom Display Units > Residential Cabinetry and Counter-Tops CONTACT US! If you would like more information about any of our products, email us or give us a call storefix@belpar.com 1(888) 423-5727 Custom Bakery Shelving Unit Custom Wet Produce Table Custom Dry Produce Table Custom Dry Produce Table Custom Tilt Top Table Custom Jewelry Case Custom Two Tier Produce Table Custom Table with Roll Out Bin Custom Bakery Display © Bel-Par Industries LTD. All Rights Reserved Web Design and Development by Web Masters Corp. Home Company Services Products Blog Contact Us TOP, storefix@belpar.com (604) 581-5291 Home Company Services Products Blog Contact Us Request a Quote Request a Quote Products Categories Products > Custom Millwork Fabrication > Custom Store Fixture Fabrication > Point Of Sale Checkouts > Bakery Display Units > Produce Display Units > Floral Display Units > Wine and Liquor Displays > Meat, Seafood, & Deli > Custom Display Units > Residential Cabinetry and Counter-Tops CONTACT US! If you would like more information about any of our products, email us or give us a call storefix@belpar.com 1(888) 423-5727 BAKERY DISPLAY UNITS - PDF DOWNLOAD - DISPLAY #1 Bakery Display #2 Bakery Display #3 Bakery Display #4 Bakery Display #5 Bakery Display #6 Bakery Display #7 Bakery Display #8 Bakery Display #9 Bakery Display #10 Bakery Display #11 Bakery Display #12 Bakery Display #13 Bakery Display #14 Bakery Display #15 Bakery Display #16 Bakery Display #17 Bakery Display #18 Bakery Display #19 Bakery Display #20 Bakery Display #21 Bakery Display #22 Bakery Display #23 © Bel-Par Industries LTD. All Rights Reserved Web Design and Development by Web Masters Corp. Home Company Services Products Blog Contact Us TOP, storefix@belpar.com (604) 581-5291 Home Company Services Products Blog Contact Us Request a Quote Request a Quote Products Categories Products > Custom Millwork Fabrication > Custom Store Fixture Fabrication > Point Of Sale Checkouts > Bakery Display Units > Produce Display Units > Floral Display Units > Wine and Liquor Displays > Meat, Seafood, & Deli > Custom Display Units > Residential Cabinetry and Counter-Tops CONTACT US! If you would like more information about any of our products, email us or give us a call storefix@belpar.com 1(888) 423-5727 Custom Store Fixture (Bottle Return Unit) Custom Store Fixture (Soup Counter) Custom Store Fixture (End Isle Displays) Custom Store Fixture (Recycling Bin) Custom Store Fixture (Custom Cabinets) Custom Store Fixture (End Isle Displays) Custom Store Fixture (Custom Cabinets) Custom Store Fixture (End Isle Displays) Custom Store Fixture (Produce Tables) Custom Store Fixture (End Isle Displays) Custom Store Fixture (Shelving Displays) Custom Store Fixture (Customer Service Counter) Custom Store Fixture (Customer Service Counter) Custom Store Fixture (Newspaper/Magazine Display) Custom Store Fixture (Demo Display Unit) Custom Store Fixture (Demo Display Unit) Custom Store Fixture (End Isle Demo Display) Custom Store Fixture (End Isle Demo Display) Custom Store Fixture (Coffee Counter) Custom Store Fixture (Railing Display) Custom Store Fixture (Snack Counter) Custom Store Fixture (Curved Lighting Display) Custom Store Fixture (Curved Display Counter) Custom Store Fixture (Back Coffee Counter) Custom Store Fixture (Kitchen Prep Cabinets) Custom Store Fixture (Lighting Bulkhead) Custom Store Fixture (Deli/Coffee Seating Area) Custom Store Fixture (Bakery Display) Custom Store Fixture (Merchandise Wall Displays) Custom Store Fixture (Merchandise Wall Displays) Custom Store Fixture (Merchandise Wall Displays) Custom Store Fixture (Shelving Displays) Custom Store Fixture (Shelving Displays) Custom Store Fixture (Shelving Displays) Custom Store Fixture (Display Cabinets) Custom Store Fixture (Display Cabinets) Custom Store Fixture (Flower Displays) Custom Store Fixture (Flower Displays) Custom Store Fixture (Checkout Lanes) Custom Store Fixture (Checkout Lanes) Custom Store Fixture (Checkout Lanes) Custom Cashier Counter Custom Cashier Counter Custom Cashier Counter © Bel-Par Industries LTD. All Rights Reserved Web Design and Development by Web Masters Corp. Home Company Services Products Blog Contact Us TOP, storefix@belpar.com (604) 581-5291 Home Company Services Products Blog Contact Us Request a Quote Request a Quote Products Categories Products > Custom Millwork Fabrication > Custom Store Fixture Fabrication > Point Of Sale Checkouts > Bakery Display Units > Produce Display Units > Floral Display Units > Wine and Liquor Displays > Meat, Seafood, & Deli > Custom Display Units > Residential Cabinetry and Counter-Tops CONTACT US! If you would like more information about any of our products, email us or give us a call storefix@belpar.com 1(888) 423-5727 Custom Millwork (Cosmetic Display) Custom Millwork (Product Display Stand) Custom Millwork (Product Display Case) Custom Millwork (Perfume Displays) Custom Millwork (Cosmetic Vendor Displays) Custom Millwork (Reception Counter) Custom Millwork (Cosmetic Vendor Displays) Custom Millwork (Cosmetic Vendor Displays) Custom Millwork (Cosmetic Vendor Displays) Custom Millwork (Cosmetic Vendor Displays) Custom Millwork (Cosmetic Vendor Displays) Custom Millwork (Cabinets) Custom Millwork (Cabinets) Custom Millwork (Cabinets) Custom Millwork (Cabinets) Library Shelving Library Shelving Office Kitchen Office Kitchen Office Kitchen Office Kitchen Back Counter Sink Unit Office Storage Cabinets Office Coffee Prep Counter Window Seating Area Window Seating Area Custom Millwork (Showcase Display) Custom Millwork (Staff-Room Kitchen #1) Custom Millwork (Patient Care Facility Room#1) Custom Millwork (Patient Care Facility Room #2) Custom Millwork (Staff-Room Office) Custom Millwork (Patient Care Facility Room #3) Custom Millwork (Fireplace/Living Room) Custom Millwork (Staff-Room Kitchen #2) Custom Millwork (Staff-Room Office) Custom Millwork (Staff-Room Office) Custom Millwork (Solid Surface Vanity Top) © Bel-Par Industries LTD. All Rights Reserved Web Design and Development by Web Masters Corp. Home Company Services Products Blog Contact Us TOP, storefix@belpar.com (604) 581-5291 Home Company Services Products Blog Contact Us Request a Quote Request a Quote Products Categories Products > Custom Millwork Fabrication > Custom Store Fixture Fabrication > Point Of Sale Checkouts > Bakery Display Units > Produce Display Units > Floral Display Units > Wine and Liquor Displays > Meat, Seafood, & Deli > Custom Display Units > Residential Cabinetry and Counter-Tops CONTACT US! If you would like more information about any of our products, email us or give us a call storefix@belpar.com 1(888) 423-5727 Custom Millwork Fabrication Custom Store Fixture Fabrication Point Of Sale Checkouts Bakery Display Units Produce Display Units Floral Display Units Wine and Liquor Displays Meat, Seafood, & Deli Custom Display Units Residential Cabinetry and Counter-Tops © Bel-Par Industries LTD. All Rights Reserved Web Design and Development by Web Masters Corp. Home Company Services Products Blog Contact Us TOP, storefix@belpar.com (604) 581-5291 Home Company Services Products Blog Contact Us Request a Quote Request a Quote Products Categories Products > Custom Millwork Fabrication > Custom Store Fixture Fabrication > Point Of Sale Checkouts > Bakery Display Units > Produce Display Units > Floral Display Units > Wine and Liquor Displays > Meat, Seafood, & Deli > Custom Display Units > Residential Cabinetry and Counter-Tops CONTACT US! If you would like more information about any of our products, email us or give us a call storefix@belpar.com 1(888) 423-5727 MEAT, SEAFOOD, & DELI - PDF DOWNLOAD - DISPLAY #1 Meat, Seafood, & Deli #2 Meat, Seafood, & Deli #3 Meat, Seafood, & Deli #4 Meat, Seafood, & Deli #5 Meat, Seafood, & Deli #6 Meat, Seafood, & Deli #8 Meat, Seafood, & Deli #9 Meat, Seafood, & Deli #10 Meat, Seafood, & Deli #11 Meat, Seafood, & Deli #12 Meat, Seafood, & Deli #13 Meat, Seafood, & Deli #14 Meat, Seafood, & Deli #15 Meat, Seafood, & Deli #16 Meat, Seafood, & Deli #17 Meat, Seafood, & Deli #18 Meat, Seafood, & Deli #19 Meat, Seafood, & Deli #20 Meat, Seafood, & Deli #21 Meat, Seafood, & Deli #22 Meat, Seafood, & Deli #23 Meat, Seafood, & Deli #24 Meat, Seafood, & Deli #25 Meat, Seafood, & Deli #26 Meat, Seafood, & Deli #27 Meat, Seafood, & Deli #28 Meat, Seafood, & Deli #29 Meat, Seafood, & Deli #30 Meat, Seafood, & Deli #31 Meat, Seafood, & Deli #32 Meat, Seafood, & Deli #33 Meat, Seafood, & Deli #34 Meat, Seafood, & Deli #35 Meat, Seafood, & Deli #36 Meat, Seafood, & Deli #37 Meat, Seafood, & Deli #38 Meat, Seafood, & Deli #39 Meat, Seafood, & Deli #40 Meat, Seafood, & Deli #41 © Bel-Par Industries LTD. All Rights Reserved Web Design and Development by Web Masters Corp. Home Company Services Products Blog Contact Us TOP, storefix@belpar.com (604) 581-5291 Home Company Services Products Blog Contact Us Request a Quote Request a Quote Services Services Services > What We Offer CONTACT US! If you would like more information about any of our products, email us or give us a call storefix@belpar.com 1(888) 423-5727 What We Offer Budgeting and Estimating Layout and Design Manufacturing Project Management Installation Customer Service/Support © Bel-Par Industries LTD. All Rights Reserved Web Design and Development by Web Masters Corp. Home Company Services Products Blog Contact Us TOP, storefix@belpar.com (604) 581-5291 Home Company Services Products Blog Contact Us Request a Quote Request a Quote QUOTE REQUEST CONTACT INFO 12160 103A Ave, Surrey, BC V3V 3G8 (604) 581-5291 storefix@belpar.com FIRSTNAME LASTNAME EMAIL SUBJECT MESSAGE Secure number Send © Bel-Par Industries LTD. All Rights Reserved Web Design and Development by Web Masters Corp. Home Company Services Products Blog Contact Us TOP, storefix@belpar.com (604) 581-5291 Home Company Services Products Blog Contact Us Request a Quote Request a Quote Custom Millwork Custom Millwork Fabrication and Design All Custom Millwork Fabrication and Design Get a quote Custom Store Fixtures Custom Store Fixture Fabrication & Design Custom Store Fixture Fabrication and Design Get a quote Checkouts Point Of Sale Checkouts A Variety of Point of Sale Checkouts Get a quote Display Units Standard or Custom Display Units Standard or Custom Display Units Get a quote PREV NEXT BEL-PAR STORE FIXTURES We offer our clients all across North America the following custom products: Custom Millwork Fabrication , Custom Store Fixture Fabrication , Point Of Sale Checkouts , Bakery Display Units , Produce Display Units , Floral Display Units , Wine and Liquor Displays , Meat, Seafood, & Deli , Custom Display Units . Since 1945, Bel-Par Industries has been producing quality Custom Millwork, Store Fixture Displays, and Point of Sale Checkouts. We have a team of highly skilled and knowledgeable Estimators, Project Managers, CAD Engineers/Draftsmen, and Red Seal Joiners who are commited to providing you superior products and dedicated customer service. We offer budgeting, planning, and design solutions based on your needs and can manufacture and install our quality crafted products to make your vision a reality. About Us Solutions Our solutions for your supermarket and Retail needs include: Produce Display #11 Custom Store Fixture (Checkout Lanes) Custom Millwork (Staff-Room Office) Wine and Liquor Display #31 Produce Display #9 FROM IDEA - PLAN - TO FINAL SOLUTION Bel-Par has earned the reputation of an uncompromising commitment to quality and value. Our Custom Millwork, Store Fixtures, Checkouts, and Displays have been used for every Grocery and Retail application imaginable throughout North America. Please contact us today and let us know how we can help you. GET A QUOTE © Bel-Par Industries LTD. All Rights Reserved Web Design and Development by Web Masters Corp. Home Company Services Products Blog Contact Us TOP, storefix@belpar.com (604) 581-5291 Home Company Services Products Blog Contact Us Request a Quote Request a Quote Blog List Toggle Categories Post Calendar 2020 Jan Feb Mar Apr May Jun Jul Aug Sep Oct Nov Dec Featured Articles Thinking About Custom Cabinets? Heres What You Need to Know First! May 03, 2019 CONTACT US! If you would like more information about any of our products, email us or give us a call storefix@belpar.com 1(888) 423-5727 1 2 Why Should The Layout of a Grocery Store Matter to Me? Sep 05, 2019 Truth be told, there are a lot of viable reasons why grocery stores adhere to a specific layout. It’s not just a random design - the layout of each store is designed to enhance customer experience, improve flow, maximize safety, and more. Read More What Grocery Departments Can Benefit from Custom Displays? Aug 15, 2019 Have you ever walked into a grocery store and felt a nice sense of calm because everything was laid out in the most perfect way? While the food is the reason you are taking that trip to the grocery store, what carries that food is what gives you that calming feeling. It’s no surprise that the structure is appealing to the human eye. If we see things organized and in their own unique places, it is quite satisfying. Read More Spruce Up Your Supermarket in More Ways Than One! Jul 04, 2019 Looks don’t mean everything, but when it comes to the first impression you get upon walking into a grocery store, they do say a lot. The layout and aesthetic appeal of a grocery store can help traffic navigate in a way that is cohesive with the overall flow. Stores that are overly cluttered can overwhelm and deter visitors whereas, on the other hand, stores with minimal displays may leave them feeling underwhelmed. Properly displaying items in a way that is inviting to shoppers can help put them at ease and increase the overall contentment associated with their shopping experience. Read More How Custom Store Displays Have The Power To Influence Your Business Jun 13, 2019 Have you ever walked by a store and was there something that caught your eye in the first place? That is probably due to the unique display used to showcase the product. Product placement is essential to create visual appeal and draw customer interest. It helps them envision the product just as is at their home. Read More Thinking About Custom Cabinets? Heres What You Need to Know First! May 03, 2019 In the retail and grocery industry space, competitive players are constantly looking for a niche touch to add to the consumer experience. From the second someone steps into the location to the product browsing to the purchasing process, there are many ways that a company can create a unique touch. Read More © Bel-Par Industries LTD. All Rights Reserved Web Design and Development by Web Masters Corp. Home Company Services Products Blog Contact Us TOP, storefix@belpar.com (604) 581-5291 Home Company Services Products Blog Contact Us Request a Quote Request a Quote Company Company Company > About Us CONTACT US! If you would like more information about any of our products, email us or give us a call storefix@belpar.com 1(888) 423-5727 About Us Bel-Par is a combination of Paragon Woodworks (est. 1945), a Vancouver based supermarket fixtures manufacturer, and Bell-Craft Industries (est. 1954), a custom millwork manufacturer.  They consolidated in the Surrey, BC facility in the 1960's and created the reputable company we are today. Bel-Par Industries continues the legacy of quality and service with our diversified range of products including Custom Millwork, Store Fixture Displays, and Point of Sale Checkouts.  Bel-Par customers can work alongside our qualified staff to make their visions a reality, from start to finish for all of their retail and commercial needs. We offer our clients in Greater Vancouver Area the following custom products: Custom Millwork Fabrication , Custom Store Fixture Fabrication , Point Of Sale Checkouts , Bakery Display Units , Produce Display Units , Floral Display Units , Wine and Liquor Displays , Meat, Seafood, & Deli , Custom Display Units . © Bel-Par Industries LTD. All Rights Reserved Web Design and Development by Web Masters Corp. Home Company Services Products Blog Contact Us TOP, storefix@belpar.com (604) 581-5291 Home Company Services Products Blog Contact Us Request a Quote Request a Quote Products Categories Products > Custom Millwork Fabrication > Custom Store Fixture Fabrication > Point Of Sale Checkouts > Bakery Display Units > Produce Display Units > Floral Display Units > Wine and Liquor Displays > Meat, Seafood, & Deli > Custom Display Units > Residential Cabinetry and Counter-Tops CONTACT US! If you would like more information about any of our products, email us or give us a call storefix@belpar.com 1(888) 423-5727 SB-142 Express Checkout SB-208 Single Belt Express Checkout SB-215 Full Size Single Belt Checkout SB-230 Medium Size Single Belt Checkout SB-240 Medium Size Single Belt Checkout SB-250 Adjustable Height Express Single Belt Checkout SB-350 Adjustable Height Full Size Single Belt Checkout SB-400 Single Belt Pedestal Checkout © Bel-Par Industries LTD. All Rights Reserved Web Design and Development by Web Masters Corp. Home Company Services Products Blog Contact Us TOP, storefix@belpar.com (604) 581-5291 Home Company Services Products Blog Contact Us Request a Quote Request a Quote Products Categories Products > Custom Millwork Fabrication > Custom Store Fixture Fabrication > Point Of Sale Checkouts > Bakery Display Units > Produce Display Units > Floral Display Units > Wine and Liquor Displays > Meat, Seafood, & Deli > Custom Display Units > Residential Cabinetry and Counter-Tops CONTACT US! If you would like more information about any of our products, email us or give us a call storefix@belpar.com 1(888) 423-5727 PRODUCE DISPLAY UNITS - PDF DOWNLOAD - DISPLAY #1 Produce Display #2 Produce Display #3 Produce Display #4 Produce Display #5 Produce Display #6 Produce Display #7 Produce Display #8 Produce Display #9 Produce Display #10 Produce Display #11 Produce Display #12 Produce Display #13 Produce Display #14 Produce Display #15 Produce Display #16 Produce Display #17 Produce Display #18 Produce Display #19 Produce Display #20 Produce Display #21 Produce Display #22 Produce Display #23 Produce Display #24 Produce Display #25 Produce Display #26 © Bel-Par Industries LTD. All Rights Reserved Web Design and Development by Web Masters Corp. Home Company Services Products Blog Contact Us TOP, storefix@belpar.com (604) 581-5291 Home Company Services Products Blog Contact Us Request a Quote Request a Quote Contact Us CONTACT INFO 12160 103A Ave, Surrey, BC V3V 3G8 (604) 581-5291 storefix@belpar.com FIRSTNAME LASTNAME EMAIL SUBJECT MESSAGE Secure number Send © Bel-Par Industries LTD. All Rights Reserved Web Design and Development by Web Masters Corp. Home Company Services Products Blog Contact Us TOP\n"
          ],
          "name": "stdout"
        }
      ]
    },
    {
      "cell_type": "code",
      "metadata": {
        "id": "tLj896GYoIQv"
      },
      "source": [
        "import spacy\n",
        "\n",
        "# Load English tokenizer, tagger, parser, NER and word vectors\n",
        "nlp = spacy.load(\"en_core_web_sm\")"
      ],
      "execution_count": null,
      "outputs": []
    },
    {
      "cell_type": "code",
      "metadata": {
        "id": "HiWoulLUoNsq"
      },
      "source": [
        "# Process whole documents\n",
        "text = (df_mini['TextContent'][1])\n",
        "doc = nlp(text)"
      ],
      "execution_count": null,
      "outputs": []
    },
    {
      "cell_type": "code",
      "metadata": {
        "colab": {
          "base_uri": "https://localhost:8080/"
        },
        "id": "AtWAsZc7oabG",
        "outputId": "1fbb1144-7b79-4824-d4ab-b8157a01a7cf"
      },
      "source": [
        "# Analyze syntax\n",
        "print(\"Noun phrases:\", [chunk.text for chunk in doc.noun_chunks])\n",
        "print(\"Verbs:\", [token.lemma_ for token in doc if token.pos_ == \"VERB\"])\n",
        "\n",
        "# Find named entities, phrases and concepts\n",
        "for entity in doc.ents:\n",
        "    print(entity.text, entity.label_)"
      ],
      "execution_count": null,
      "outputs": [
        {
          "output_type": "stream",
          "text": [
            "Noun phrases: [' Home', 'Products Red Head', 'Select', 'South Lake Select Shipwreck Select', 'Savage Blonde Tuxedo Malpeque Contact Atlantic Shellfish', 'The First Step Contact Us', 'touch', 'details', 'pricing', 'shipping', 'Compliments', 'comments', 'questions', 'required field Name', 'Last Email', '* Submit TELEPHONE NUMBER', 'FAX NUMBER', '-961-3400 902-961-3445 MAILING ADDRESS', 'PHYSICAL ADDRESS P.O. Box', '210 Morell', 'PE C0A 1S0 Canada', '306 Red Head Road Morell', 'PE \\u200bCanada', 'the names', 'Jacob Dockendorff', 'jacob@atlanticshellfish.com', 'Ashley Dumville', 'Bobby McIsaac', 'Atlantic Shellfish', 'the forefront', \"PEI's oyster industry\", 'We', 'the bar', 'we', 'it', 'Products Red Head', 'Select South Lake Select Shipwreck', 'Home', 'Products Red Head', 'Select South Lake Select Shipwreck Select Savage Blonde Tuxedo Malpeque Contact Atlantic Shellfish Tuxedo Surface', 'The Tuxedo branding', 'a result', 'the black and white shell coloring', 'the Foxley River', 'PEI oysters', 'Our Tuxedo oysters', \"your next 'black tie affair\", 'The Tuxedo', 'a premium brand oyster', 'These oysters', 'floating bags', '3-4 years', 'harvest size', 'the spring', 'summer', 'seasons', 'each bags', 'the water', 'two days', 'We', 'any predators', 'the oysters', 'the bags', 'shape', 'meat quality', 'thickness', 'the oysters', 'the bags', 'overall performance', 'Any oysters', 'our bottom cultivation sites', 'the winter', 'the bags', 'the bottom', 'site', 'the ice', 'Typically available fall/winter', 'Foxley River', 'PEI The Tuxedos shells', 'they', 'The Tuxedo meats', 'a refined combination', 'even the most discerning palate', 'Atlantic Shellfish', 'the forefront', \"PEI's oyster industry\", 'We', 'the bar', 'we', 'it', 'Products Red Head', 'Select South Lake Select Shipwreck', 'Home', 'Products Red Head', 'Select South Lake Select Shipwreck Select Savage Blonde Tuxedo Malpeque Contact Atlantic Shellfish', 'Malpeque Wild', 'The Malpeque oyster branding', 'a staple', 'the Prince Edward Island oyster industry', 'the bread', 'butter', 'meat', 'potatoes', 'oysters', 'PEI', 'Malpeques', 'a variety', 'bays', 'rivers', 'PEI', 'We', 'Malpeques', 'Choice', 'Standard', 'Commercial grades', 'These oysters', 'a small group', 'dedicated\\xa0public fishers', 'These fishers', 'the traditional oyster tongs', 'our choice', 'standard', 'commercial grade', 'The public fishery', 'a spring and fall season', 'The majority', 'these oysters', 'the spring fishing season', 'the summer', 'these same fishers', 'us', 'oysters', 'their own private leases', 'Various locations', \"St. Peter's Bay\", 'The Malpeque shells', 'Colourings', 'The Malpeque meats', 'They', 'location', 'they', 'the sweet and briny North Shore', 'PEI flavours', 'spring', 'summer', 'the fall season', 'we', 'them', 'their harvest location', 'the flavour variations', 'each river', 'bay', 'Atlantic Shellfish', 'the forefront', \"PEI's oyster industry\", 'We', 'the bar', 'we', 'it', 'Products Red Head', 'Select South Lake Select Shipwreck', 'Home', 'Products Red Head', 'Select South Lake Select Shipwreck Select', 'Savage Blonde Tuxedo Malpeque Contact Atlantic Shellfish Shipwreck', 'oysters Bottom', 'us', 'the dangers', \"Prince Edward Island's eastern point\", 'the 17th and 18th Centuries', 'more ships', 'the colliding tides', 'East Point', 'the shoreline', 'PEI', 'The tides', \"Canada's most spectacular sandy dune beaches\", \"Canada's most prized oysters\", 'Only Shipwreck Selects', 'these dangerously good waters', 'They', 'wooden boxes', 'a reminder', 'the wooden ships', 'the journey', 'These oysters', 'a small group', 'dedicated fishers', 'These fishers', 'the traditional oyster tongs', 'our Shipwreck Select oysters', 'Weather', 'these brave souls', 'more modern harvesting techniques', 'they', 'the tides', 'they', 'Typically available year round East Point', 'PEI', 'The Shipwreck Select shells', 'the tides', 'Colourings', 'The Shipwreck Select meats', 'They', 'location', 'they', 'the sweet flavours', 'the South Shore', 'the North Shore', 'Atlantic Shellfish', 'the forefront', \"PEI's oyster industry\", 'We', 'the bar', 'we', 'it', 'Products Red Head', 'Select South Lake Select Shipwreck', 'Home', 'Products Red Head', 'Select South Lake Select Shipwreck Select Savage Blonde Tuxedo Malpeque Contact Atlantic Shellfish South Lake Select Surface', 'The South Lake Select brand', 'quality', 'South Lake Select', 'our curated surface cultivated crop', 'These oysters', 'our South Lake leases', 'You', 'some variation', 'the shell', 'no mistake', 'these oysters', 'South Lake', 'South Lake Select', 'a premium brand oyster', 'These oysters', 'floating bags', '3-4 years', 'harvest size', 'the spring', 'summer', 'seasons', 'each bags', 'the water', 'two days', 'We', 'any predators', 'the oysters', 'the bags', 'shape', 'meat quality', 'thickness', 'the oysters', 'the bags', 'overall performance', 'Any oysters', 'our bottom cultivation sites', 'the winter', 'the bags', 'the bottom', 'site', 'the ice', '\\u200b Year-round Availability South Lake', 'PEI The South Lake Select shells', 'colour', 'mottled blonde, brown, black, and green colourings', 'their original source area', 'The South Lake Select meats', 'sweet and salty undertones', 'a lobster-like finish', 'Atlantic Shellfish', 'the forefront', \"PEI's oyster industry\", 'We', 'the bar', 'we', 'it', 'Products Red Head', 'Select South Lake Select Shipwreck', 'Home', 'Products Red Head', 'Select South Lake Select Shipwreck Select', 'Savage Blonde Tuxedo Malpeque Contact Atlantic Shellfish', 'The products', 'Menu Savage Blonde Red Head', 'Select Tuxedo Shipwreck Select South Lake Select Malpeque Atlantic Shellfish', 'the forefront', \"PEI's oyster industry\", 'We', 'the bar', 'we', 'it', 'Products Red Head', 'Select South Lake Select Shipwreck', 'Home', 'Products Red Head', 'Select South Lake Select Shipwreck Select', 'Savage Blonde Tuxedo Malpeque Contact Atlantic Shellfish savage blonde Surface', 'The\\xa0Savage Blonde branding', 'a bit', 'a joke', 'us', 'this oyster', 'no joke', 'Our Savage Blondes', 'Savage Harbour Bay', 'PEI', 'Savage Blondes', 'a premium brand oyster', 'These oysters', 'floating bags', '3-4 years', 'harvest size', 'the spring', 'summer', 'seasons', 'each bags', 'the water', 'two days', 'We', 'any predators', 'the oysters', 'the bags', 'shape', 'meat quality', 'thickness', 'the oysters', 'the bags', 'overall performance', 'Any oysters', 'our bottom cultivation sites', 'the winter', 'the bags', 'the bottom', 'site', 'the ice', 'year-round Savage Harbour', 'PEI', 'The Savage Blonde shells', 'we', 'some dirty blondes', 'darker brown', 'The Savage Blonde meats', 'a briny flavour', 'North Shore', 'PEI oysters', 'Atlantic Shellfish', 'the forefront', \"PEI's oyster industry\", 'We', 'the bar', 'we', 'it', 'Products Red Head', 'Select South Lake Select Shipwreck', 'Home', 'Products Red Head', 'Select South Lake Select Shipwreck Select', 'Savage Blonde Tuxedo Malpeque Contact Atlantic Shellfish Red Head Select Bottom', 'Wild', 'The Red Head Select brand', 'quality', 'Red Head Select', 'our curated bottom grown crop', 'These oysters', 'our bottom cultivation sites', 'the public fishery', 'Red Head Selects', \"Prince Edward Island's world class oysters\", 'Red Head Select', 'a premium brand oyster', 'We', 'that\\xa0each case', 'Red Head Selects', 'a unique story', 'our goal', 'that story', 'You', 'some cases', 'Wild', 'others', '\"Bottom Cultivated', 'The \"Wild\" oysters', 'a small group', 'dedicated\\xa0public fishers', 'These fishers', 'the traditional oyster tongs', 'Prince Edward Island', 'our select oysters', 'The \"Bottom Cultivated\" oysters', 'our own private leases', 'our custom designed harvesting barge', 'Imagine oysters', 'the sea floor', 'a cushion', 'high pressure water', 'landing', 'a conveyor belt', 'us', 'them', 'our barge', 'Spring/Summer/Fall Various locations', 'The Red Head Select shells', 'Colourings', 'The Red Head Select meats', 'We', 'them', 'their original harvest location', 'the flavour variations', 'each river', 'bay', 'Atlantic Shellfish', 'the forefront', \"PEI's oyster industry\", 'We', 'the bar', 'we', 'it', 'Products Red Head', 'Select South Lake Select Shipwreck', 'Home', 'Products Red Head', 'Select South Lake Select Shipwreck Select', 'Savage Blonde Tuxedo Malpeque Contact Atlantic', 'the story Atlantic Shellfish Products Inc.', 'Russell Dockendorff Jr. He', 'his reputation', 'a pioneer', 'his father', 'Russell Sr.', \"Prince Edward Island's mussel industry\", 'they', 'their lobster fleets', 'the mussel industry', 'everyone', 'they', 'their hard work', 'innovative approach', 'they', \"the 'Island Blue' mussel\", 'the world renowned phenomenon', 'it', 'the mussel company', 'the PEI Mussel King', \"Russell Jr.'s siblings - Esther\", 'Donna', 'Scott', 'Atlantic Shellfish', 'oysters', 'quahogs', 'Atlantic Shellfish', 'oysters', 'cultivated oysters', 'Management', 'Russell Jr.', 'his daughter', 'Cindy', 'son', 'Jacob', '\\u200bWe', 'our own brands', 'oysters', 'the bottom', 'off-bottom technology', 'We', 'one holding lease', 'nine bottom cultivation leases', 'bottom', 'PEI', 'We', 'partnerships', 'other growers', 'PEI', 'New Brunswick', 'Nova Scotia', 'Atlantic Shellfish', 'a consistent top quality product', 'a continually developing customer base', 'excellent service', 'Our association', 'PEI Mussel King', 'oyster and quahog sales', 'top quality', 'frozen mussels', 'Atlantic Shellfish', 'the forefront', \"PEI's oyster industry\", 'We', 'the bar', 'we', 'it', 'Atlantic Shellfish', 'the forefront', \"PEI's oyster industry\", 'We', 'the bar', 'we', 'it', 'Products Red Head', 'Select South Lake Select Shipwreck', 'Home', 'Products Red Head', 'Select South Lake Select Shipwreck Select', 'Savage Blonde Tuxedo Malpeque Contact Atlantic Shellfish Atlantic Shellfish Products Inc.', \"Processing Atlantic Canada's finest cultivated and wild oysters\", 'us', 'Facebook', 'Instagram', 'Atlantic Shellfish', 'the forefront', \"PEI's oyster industry\", 'We', 'the bar', 'we', 'it', 'Products Red Head', 'Select South Lake Select Shipwreck']\n",
            "Verbs: ['indicate', 'require', 'submit', 'face', 'go', 'innovate', 'strive', 'try', 'set', 'raise', 'cultivate', 'cultivate', 'float', 'take', 'reach', 'fall', 'turn', 'control', 'tumble', 'improve', 'shell', 'take', 'tumble', 'resize', 'inspect', 'overstock', 'grow', 'transfer', 'sink', 'remain', 'eat', 'will', 'appreciate', 'innovate', 'strive', 'try', 'set', 'raise', 'gather', 'include', 'limit', 'offer', 'harvest', 'harvest', 'use', 'search', 'divide', 'fall', 'will', 'come', 'provide', 'can', 'hold', 'filter', 'try', 'ship', 'showcase', 'innovate', 'strive', 'try', 'set', 'raise', 'cultivate', 'brand', 'remind', 'navigate', 'wreck', 'form', 'can', 'survive', 'package', 'survive', 'harvest', 'harvest', 'use', 'gather', 'permit', 'will', 'use', 'attempt', 'beat', 'leave', 'batter', 'can', 'hold', 'filter', 'innovate', 'strive', 'try', 'set', 'raise', 'cultivate', 'cultivate', 'select', 'finish', 'may', 'see', 'colour', 'make', 'embody', 'cultivate', 'float', 'take', 'reach', 'fall', 'turn', 'control', 'tumble', 'improve', 'shell', 'take', 'tumble', 'resize', 'inspect', 'overstock', 'grow', 'transfer', 'sink', 'remain', 'vary', 'mottle', 'depend', 'overflow', 'innovate', 'strive', 'try', 'set', 'raise', 'innovate', 'strive', 'try', 'set', 'raise', 'cultivate', 'develop', 'cultivate', 'cultivate', 'float', 'take', 'reach', 'fall', 'turn', 'control', 'tumble', 'improve', 'shell', 'take', 'tumble', 'resize', 'inspect', 'overstock', 'grow', 'transfer', 'sink', 'remain', 'see', 'innovate', 'strive', 'try', 'set', 'raise', 'cultivate', 'grow', 'select', 'count', 'believe', 'tell', 'pass', 'will', 'notice', 'will', 'mark', 'will', 'harvest', 'harvest', 'use', 'search', 'harvest', 'use', 'design', 'lift', 'deliver', 'fall', 'can', 'ship', 'showcase', 'innovate', 'strive', 'try', 'set', 'raise', 'Shellfish', 'found', 'build', 'sell', 'think', 'build', 'know', 'manage', 'start', 'purchase', 'grade', 'sell', 'catch', 'purchase', 'grade', 'sell', 'catch', 'expand', 'transition', 'cultivate', 'use', 'operate', 'maintain', 'hold', 'lease', 'develop', 'supply', 'develop', 'come', 'appreciate', 'compliment', 'innovate', 'strive', 'try', 'set', 'raise', 'innovate', 'strive', 'try', 'set', 'raise', 'contact', 'follow', 'innovate', 'strive', 'try', 'set', 'raise']\n",
            "Tuxedo Malpeque PERSON\n",
            "First ORDINAL\n",
            "First ORDINAL\n",
            "902 CARDINAL\n",
            "902 CARDINAL\n",
            "P.O. Box PRODUCT\n",
            "Morell ORG\n",
            "PE C0A 1S0 Canada ORG\n",
            "Red Head Road Morell PERSON\n",
            "Jacob Dockendorff PERSON\n",
            "Cindy Dockendorff PERSON\n",
            "Ashley Dumville PERSON\n",
            "Bobby McIsaac PERSON\n",
            "Atlantic Shellfish PERSON\n",
            "PEI ORG\n",
            "Tuxedo Malpeque Contact PERSON\n",
            "South Lake Select LOC\n",
            "Tuxedo Malpeque PERSON\n",
            "Tuxedo Surface PERSON\n",
            "Tuxedo PERSON\n",
            "the Foxley River LOC\n",
            "PEI ORG\n",
            "Tuxedo PERSON\n",
            "Tuxedo PERSON\n",
            "3-4 years DATE\n",
            "Every two weeks DATE\n",
            "the spring, summer DATE\n",
            "two days DATE\n",
            "Each year DATE\n",
            "winter DATE\n",
            "fall/winter DATE\n",
            "Foxley River LOC\n",
            "Tuxedo PERSON\n",
            "Atlantic Shellfish LOC\n",
            "PEI ORG\n",
            "Tuxedo Malpeque Contact PERSON\n",
            "South Lake Select LOC\n",
            "Tuxedo Malpeque PERSON\n",
            "the Prince Edward Island FAC\n",
            "PEI ORG\n",
            "Malpeque Bay LOC\n",
            "Malpeques in Choice ORG\n",
            "a spring and fall season DATE\n",
            "the spring fishing season DATE\n",
            "the summer DATE\n",
            "year DATE\n",
            "Consolidated ORG\n",
            "St. Peter's GPE\n",
            "Malpeque ORG\n",
            "Malpeque ORG\n",
            "North Shore GPE\n",
            "PEI ORG\n",
            "spring DATE\n",
            "summer DATE\n",
            "the fall season DATE\n",
            "Atlantic Shellfish LOC\n",
            "PEI ORG\n",
            "Tuxedo Malpeque Contact PERSON\n",
            "South Lake Select LOC\n",
            "Tuxedo Malpeque PERSON\n",
            "Atlantic Shellfish LOC\n",
            "Prince Edward Island's GPE\n",
            "17th ORDINAL\n",
            "18th Centuries DATE\n",
            "East LOC\n",
            "PEI ORG\n",
            "Canada GPE\n",
            "Canada GPE\n",
            "Shipwreck Select PERSON\n",
            "Weather PERSON\n",
            "year DATE\n",
            "East Point LOC\n",
            "Shipwreck Select ORG\n",
            "the South Shore LOC\n",
            "the North Shore LOC\n",
            "Atlantic Shellfish LOC\n",
            "PEI ORG\n",
            "Tuxedo Malpeque Contact PERSON\n",
            "South Lake Select LOC\n",
            "Tuxedo Malpeque PERSON\n",
            "South Lake Select Surface LOC\n",
            "The South Lake Select LOC\n",
            "South Lake Select LOC\n",
            "South Lake LOC\n",
            "South Lake LOC\n",
            "South Lake Select LOC\n",
            "3-4 years DATE\n",
            "Every two weeks DATE\n",
            "the spring, summer DATE\n",
            "two days DATE\n",
            "Each year DATE\n",
            "winter DATE\n",
            "Availability South Lake LOC\n",
            "South Lake Select LOC\n",
            "South Lake Select LOC\n",
            "Atlantic Shellfish LOC\n",
            "PEI ORG\n",
            "Tuxedo Malpeque Contact PERSON\n",
            "South Lake Select LOC\n",
            "Tuxedo Malpeque PERSON\n",
            "Menu Savage Blonde ORG\n",
            "Red Head PERSON\n",
            "South Lake Select LOC\n",
            "Malpeque Atlantic Shellfish LOC\n",
            "PEI ORG\n",
            "Tuxedo Malpeque Contact PERSON\n",
            "South Lake Select LOC\n",
            "Tuxedo Malpeque PERSON\n",
            "Atlantic Shellfish NORP\n",
            "The Savage Blonde PRODUCT\n",
            "Savage Harbour Bay LOC\n",
            "PEI ORG\n",
            "Savage Blondes  PERSON\n",
            "3-4 years DATE\n",
            "Every two weeks DATE\n",
            "the spring, summer DATE\n",
            "two days DATE\n",
            "Each year DATE\n",
            "winter DATE\n",
            "year-round DATE\n",
            "Savage Harbour WORK_OF_ART\n",
            "North Shore GPE\n",
            "PEI ORG\n",
            "Atlantic Shellfish LOC\n",
            "PEI ORG\n",
            "Tuxedo Malpeque Contact PERSON\n",
            "South Lake Select LOC\n",
            "Tuxedo Malpeque PERSON\n",
            "Red Head Select PERSON\n",
            "Red Head PERSON\n",
            "Prince Edward Island's GPE\n",
            "Red Head Select PERSON\n",
            "Red Head PERSON\n",
            "Wild WORK_OF_ART\n",
            "Bottom Cultivated WORK_OF_ART\n",
            "Prince Edward Island GPE\n",
            "Spring/Summer/Fall Various DATE\n",
            "Atlantic Shellfish NORP\n",
            "PEI ORG\n",
            "Tuxedo Malpeque Contact PERSON\n",
            "South Lake Select LOC\n",
            "Tuxedo Malpeque PERSON\n",
            "Atlantic Shellfish LOC\n",
            "Atlantic Shellfish Products Inc. ORG\n",
            "Russell Dockendorff Jr. PERSON\n",
            "Russell Sr. PERSON\n",
            "Prince Edward Island's GPE\n",
            "1979 DATE\n",
            "the 'Island Blue' ORG\n",
            "today DATE\n",
            "Today DATE\n",
            "Russell Jr.'s PERSON\n",
            "Donna PERSON\n",
            "Scott PERSON\n",
            "Atlantic Shellfish NORP\n",
            "1997 DATE\n",
            "Today DATE\n",
            "Atlantic Shellfish LOC\n",
            "Russell Jr. PERSON\n",
            "Cindy ORG\n",
            "Jacob PERSON\n",
            "one CARDINAL\n",
            "nine CARDINAL\n",
            "three CARDINAL\n",
            "PEI ORG\n",
            "PEI ORG\n",
            "New Brunswick GPE\n",
            "Nova Scotia PERSON\n",
            "Atlantic Shellfish NORP\n",
            "PEI Mussel King ORG\n",
            "Atlantic Shellfish LOC\n",
            "PEI ORG\n",
            "Atlantic Shellfish LOC\n",
            "PEI ORG\n",
            "Tuxedo Malpeque Contact PERSON\n",
            "South Lake Select LOC\n",
            "Tuxedo Malpeque PERSON\n",
            "Atlantic Canada's LOC\n",
            "Facebook ORG\n",
            "Instagram NORP\n",
            "Atlantic Shellfish LOC\n",
            "PEI ORG\n",
            "Tuxedo Malpeque PERSON\n"
          ],
          "name": "stdout"
        }
      ]
    },
    {
      "cell_type": "code",
      "metadata": {
        "id": "gh9FEaoVpAe3"
      },
      "source": [
        "# Getting the pipeline component\n",
        "ner=nlp.get_pipe(\"ner\")"
      ],
      "execution_count": null,
      "outputs": []
    },
    {
      "cell_type": "code",
      "metadata": {
        "id": "QmkUfijkwAuX"
      },
      "source": [
        "# training data\n",
        "TRAIN_DATA = [\n",
        "              (\"Walmart is a leading e-commerce company\", {\"entities\": [(0, 7, \"ORG\")]}),\n",
        "              (\"I reached Chennai yesterday.\", {\"entities\": [(19, 28, \"GPE\")]}),\n",
        "              (\"I recently ordered a book from Amazon\", {\"entities\": [(24,32, \"ORG\")]}),\n",
        "              (\"I was driving a BMW\", {\"entities\": [(16,19, \"PRODUCT\")]}),\n",
        "              (\"I ordered this from ShopClues\", {\"entities\": [(20,29, \"ORG\")]}),\n",
        "              (\"Fridge can be ordered in Amazon \", {\"entities\": [(0,6, \"PRODUCT\")]}),\n",
        "              (\"I bought a new Washer\", {\"entities\": [(16,22, \"PRODUCT\")]}),\n",
        "              (\"I bought a old table\", {\"entities\": [(16,21, \"PRODUCT\")]}),\n",
        "              (\"I bought a fancy dress\", {\"entities\": [(18,23, \"PRODUCT\")]}),\n",
        "              (\"I rented a camera\", {\"entities\": [(12,18, \"PRODUCT\")]}),\n",
        "              (\"I rented a tent for our trip\", {\"entities\": [(12,16, \"PRODUCT\")]}),\n",
        "              (\"I rented a screwdriver from our neighbour\", {\"entities\": [(12,22, \"PRODUCT\")]}),\n",
        "              (\"I repaired my computer\", {\"entities\": [(15,23, \"PRODUCT\")]}),\n",
        "              (\"I got my clock fixed\", {\"entities\": [(16,21, \"PRODUCT\")]}),\n",
        "              (\"I got my truck fixed\", {\"entities\": [(16,21, \"PRODUCT\")]}),\n",
        "              (\"Flipkart started it's journey from zero\", {\"entities\": [(0,8, \"ORG\")]}),\n",
        "              (\"I recently ordered from Max\", {\"entities\": [(24,27, \"ORG\")]}),\n",
        "              (\"Flipkart is recognized as leader in market\",{\"entities\": [(0,8, \"ORG\")]}),\n",
        "              (\"I recently ordered from Swiggy\", {\"entities\": [(24,29, \"ORG\")]}),\n",
        "\n",
        "\n",
        "               ('Walmart partnered with Apple', {'entities': [(8, 16, 'PARTNERSHIP')]}), \n",
        "               ('Nokia partnered with Lumentum', {'entities': [(6, 14, 'PARTNERSHIP')]}), \n",
        "               ('SpaceX partnered with NASA', {'entities': [(7, 15, 'PARTNERSHIP')]}), \n",
        "               ('Audi partnered with Virat Kohli', {'entities': [(5, 13, 'PARTNERSHIP')]}), \n",
        "               ('Australia partnered with Indian cricket board', {'entities': [(10, 18, 'PARTNERSHIP')]}), \n",
        "               ('Government partnered with private companies', {'entities': [(11, 19, 'PARTNERSHIP')]}), \n",
        "               ('Nike partnered with Apple', {'entities': [(5, 13, 'PARTNERSHIP')]}), \n",
        "               ('Asus partnered with Microsoft', {'entities': [(5, 13, 'PARTNERSHIP')]}), \n",
        "               ('Micheal Jordan partnered with Nike', {'entities': [(15, 23, 'PARTNERSHIP')]}), \n",
        "               ('Warren Buffet partnered with McDonalds', {'entities': [(14, 22, 'PARTNERSHIP')]}), \n",
        "               ('I partnered with Morgan Stanley', {'entities': [(2, 10, 'PARTNERSHIP')]}), \n",
        "               ('We partnered with our client', {'entities': [(3, 11, 'PARTNERSHIP')]}),\n",
        "              \n",
        "              ('Apple works in partnership with Nike', {'entities': [(15, 25, 'PARTNERSHIP')]}), \n",
        "               ('Nokia works in partnership with Lumentum', {'entities': [(15, 25, 'PARTNERSHIP')]}), \n",
        "               ('SpaceX is in partnership with NASA', {'entities': [(13, 23, 'PARTNERSHIP')]}), \n",
        "               ('Audi works in partnership with Virat Kohli', {'entities': [(14, 24, 'PARTNERSHIP')]}), \n",
        "               ('Australia works in partnership with Indian cricket board', {'entities': [(19, 29, 'PARTNERSHIP')]}), \n",
        "               ('Government works in partnership with private companies', {'entities': [(20, 30, 'PARTNERSHIP')]}), \n",
        "               ('Nike entered into partnership with Apple', {'entities': [(18, 28, 'PARTNERSHIP')]}), \n",
        "               ('Asus entered into partnership with Microsoft', {'entities': [(18, 28, 'PARTNERSHIP')]}), \n",
        "               ('Micheal Jordan has partnership with Nike', {'entities': [(19, 29, 'PARTNERSHIP')]}), \n",
        "               ('My company entered into partnership with Samsung', {'entities': [(24, 34, 'PARTNERSHIP')]}), \n",
        "               ('Fossil has partnership with Canadapost', {'entities': [(11, 21, 'PARTNERSHIP')]}), \n",
        "               ('Air Asia works in partnership with Lufthansa', {'entities': [(18, 28, 'PARTNERSHIP')]})\n",
        "\n",
        "\n",
        "              ]"
      ],
      "execution_count": null,
      "outputs": []
    },
    {
      "cell_type": "code",
      "metadata": {
        "id": "CX9a5E_N67F7"
      },
      "source": [
        "TRAIN_DATA = [('He entered into partnership with the Copelands', {'entities': [(16, 26, 'PARTNERSHIP')]}), \n",
        "              ('He entered into partnership with the Copelands', {'entities': [(37, 45, 'ORG')]}),        \n",
        "              ('She offered a commercial partnership', {'entities': [(25, 35, 'PARTNERSHIP')]}), \n",
        "              ('the state entered into partnership with private companies', {'entities': [(23, 33, 'PARTNERSHIP')]}), \n",
        "              ('Alya entered into partnership with his father Amasa', {'entities': [(18, 28, 'PARTNERSHIP')]}), \n",
        "              ('Jane and Williams were joint venture partners', {'entities': [(23, 35, 'PARTNERSHIP')]}),\n",
        "              ('We also develop partnerships with other growers in PEI', {'entities': [(16, 27, 'PARTNERSHIP')]}),\n",
        "              ('The school is part of a joint venture', {'entities': [(24, 36, 'PARTNERSHIP')]}), \n",
        "              ('Jane and Williams were joint venture partners', {'entities': [(23, 35, 'PARTNERSHIP')]}), \n",
        "              ('This collaboration introduced Uber users to Spotify', {'entities': [(5, 17, 'PARTNERSHIP')]}), \n",
        "              ('Our stories about individual partnerships.', {'entities': [(29, 39, 'PARTNERSHIP')]}),\n",
        "              ('collaborate with a different organization', {'entities': [(0, 10, 'PARTNERSHIP')]}),   \n",
        "              ('Productions in association with Columbia Pictures', {'entities': [(12, 25, 'PARTNERSHIP')]}),\n",
        "              ('Nike and technology giant Apple have been working together', {'entities': [(42, 57, 'PARTNERSHIP')]}),\n",
        "              ('Produced in association with Ira Pittelman', {'entities': [(9, 22, 'PARTNERSHIP')]}), \n",
        "              ('This collaboration was successful', {'entities': [(5, 17, 'PARTNERSHIP')]}), \n",
        "              ('Target partnered with UNICEF on a campaign', {'entities': [(7, 15, 'PARTNERSHIP')]}),\n",
        "              ('We are deeply grateful to our partners', {'entities': [(26, 37, 'PARTNERSHIP')]}), \n",
        "              ('The co-branding partnership started', {'entities': [(16, 26, 'PARTNERSHIP')]})\n",
        "]"
      ],
      "execution_count": null,
      "outputs": []
    },
    {
      "cell_type": "code",
      "metadata": {
        "id": "mEyxWYCrw7RX"
      },
      "source": [
        "\n",
        "TRAIN_DATA = [('He entered into partnership with the Copelands', {'entities': [(16, 26, 'PARTNERSHIP')]}), \n",
        "              ('He entered into partnership with the Copelands', {'entities': [(37, 45, 'ORG')]}),        \n",
        "              ('She offered a commercial partnership', {'entities': [(25, 35, 'PARTNERSHIP')]}), \n",
        "              ('the state entered into partnership with private companies', {'entities': [(23, 33, 'PARTNERSHIP')]}), \n",
        "              ('Alya entered into partnership with his father Amasa', {'entities': [(18, 28, 'PARTNERSHIP')]}), \n",
        "              ('Jane and Williams were joint venture partners', {'entities': [(23, 35, 'PARTNERSHIP')]}),\n",
        "              ('We also develop partnerships with other growers in PEI', {'entities': [(16, 27, 'PARTNERSHIP')]}),\n",
        "              ('The school is part of a joint venture', {'entities': [(24, 36, 'PARTNERSHIP')]}), \n",
        "              ('Jane and Williams were joint venture partners', {'entities': [(23, 35, 'PARTNERSHIP')]}), \n",
        "              ('This collaboration introduced Uber users to Spotify', {'entities': [(5, 17, 'PARTNERSHIP')]}), \n",
        "              ('Our stories about individual partnerships.', {'entities': [(29, 39, 'PARTNERSHIP')]}),\n",
        "              ('collaborate with a different organization', {'entities': [(0, 10, 'PARTNERSHIP')]}),   \n",
        "              ('Productions in association with Columbia Pictures', {'entities': [(12, 25, 'PARTNERSHIP')]}),\n",
        "              ('Nike and technology giant Apple have been working together', {'entities': [(42, 57, 'PARTNERSHIP')]}),\n",
        "              ('Produced in association with Ira Pittelman', {'entities': [(9, 22, 'PARTNERSHIP')]}), \n",
        "              ('This collaboration was successful', {'entities': [(5, 17, 'PARTNERSHIP')]}), \n",
        "              ('Target partnered with UNICEF on a campaign', {'entities': [(7, 15, 'PARTNERSHIP')]}),\n",
        "              ('We are deeply grateful to our partners', {'entities': [(26, 37, 'PARTNERSHIP')]}), \n",
        "              ('The co-branding partnership started', {'entities': [(16, 26, 'PARTNERSHIP')]}), \n",
        "\n",
        "\n",
        " ('This co-branding partnership was a win for both brand', {'entities': [(17, 27, 'PARTNERSHIP')]}), \n",
        " \n",
        " ('The partnership has evolved', {'entities': [(4, 14, 'PARTNERSHIP')]}), \n",
        " ('We also develop partnerships with other growers in PEI', {'entities': [(16, 26, 'PARTNERSHIP')]}), \n",
        " ('advertising partnership between two brands', {'entities': [(12, 22, 'PARTNERSHIP')]}), \n",
        " ('mutually beneficial partnership', {'entities': [(20, 30, 'PARTNERSHIP')]}), \n",
        " ('make great business partnerships', {'entities': [(20, 30, 'PARTNERSHIP')]}), \n",
        " ('learn more about the partnership', {'entities': [(21, 31, 'PARTNERSHIP')]}), \n",
        " ('Our stories about individual partnerships.', {'entities': [(29, 39, 'PARTNERSHIP')]}), \n",
        " ('This page describes the role of partnerships in the organization', {'entities': [(32, 42, 'PARTNERSHIP')]}), \n",
        " ('WeChat has a partnership with Sogou', {'entities': [(13, 23, 'PARTNERSHIP')]}),\n",
        " ('Hulu is a joint venture between NBC Universal and Disney', {'entities': [(10, 22, 'PARTNERSHIP')]}),\n",
        " ('The project is a joint venture between Apple and Nike', {'entities': [(17, 29, 'PARTNERSHIP')]}),\n",
        " ('The company has set up a joint venture with a firm in Austria', {'entities': [(25, 37, 'PARTNERSHIP')]}), \n",
        " ('Form joint venture partners', {'entities': [(5, 17, 'PARTNERSHIP')]}), \n",
        " \n",
        " ('Jane and Williams were joint venture partners', {'entities': [(23, 35, 'PARTNERSHIP')]}), \n",
        " ('A second joint venture is formed this year', {'entities': [(9, 21, 'PARTNERSHIP')]}), \n",
        " ('The joint venture is also planning a hotel', {'entities': [(4, 16, 'PARTNERSHIP')]}), \n",
        " ('Bates has formed a joint venture to provide services', {'entities': [(19, 31, 'PARTNERSHIP')]}), \n",
        " ('The company is a joint venture between transport groups', {'entities': [(17, 29, 'PARTNERSHIP')]}), \n",
        " ('Kodak is setting a joint venture', {'entities': [(19, 31, 'PARTNERSHIP')]}), \n",
        " ('Company will launch the joint venture in 2000.', {'entities': [(24, 36, 'PARTNERSHIP')]}),\n",
        " ('The two companies will join hands in April 2004', {'entities': [(23, 32, 'PARTNERSHIP')]}), \n",
        " ('we need to join hands with another company', {'entities': [(11, 20, 'PARTNERSHIP')]}), \n",
        " ('Nine NGOs join hands to better serve the community', {'entities': [(10, 19, 'PARTNERSHIP')]}), \n",
        " ('The USA not to join hands with our enemy', {'entities': [(15, 24, 'PARTNERSHIP')]}),\n",
        " ('the US and Israeli strategic alliance has never been closer', {'entities': [(19, 36, 'PARTNERSHIP')]}),\n",
        " ('There are a ton of great examples of co-branding partnerships out there', {'entities': [(49, 60, 'PARTNERSHIP')]}), \n",
        " ('Sometimes, co-branding partnerships aren’t just cool projects between two companies', {'entities': [(23, 34, 'PARTNERSHIP')]}), \n",
        " \n",
        " ('make great business partnerships', {'entities': [(20, 31, 'PARTNERSHIP')]}), \n",
        " ('Our stories about individual partnerships.', {'entities': [(29, 40, 'PARTNERSHIP')]}), \n",
        " ('This page describes the role of partnerships in the organization', {'entities': [(32, 43, 'PARTNERSHIP')]}),\n",
        " ('We are thrilled to be partnering with Volunteers', {'entities': [(22, 31, 'PARTNERSHIP')]}),\n",
        " ('Meanwhile the king had formed an alliance with Henry VII', {'entities': [(33, 40, 'PARTNERSHIP')]}), \n",
        " ('Subsequently, however, they entered into an alliance', {'entities': [(44, 51, 'PARTNERSHIP')]}), \n",
        " ('Stan wants to form formal alliance with parties of the state', {'entities': [(26, 33, 'PARTNERSHIP')]}), \n",
        " ('It was important for contracting an alliance with England', {'entities': [(36, 43, 'PARTNERSHIP')]}), \n",
        " ('His career began by collaboration with other authors', {'entities': [(20, 32, 'PARTNERSHIP')]}), \n",
        " ('In 1912, in collaboration with his wife, he published his book', {'entities': [(12, 24, 'PARTNERSHIP')]}), \n",
        " ('James launched his fashion brand in collaboration with Jules Flammermont', {'entities': [(36, 48, 'PARTNERSHIP')]}), \n",
        " ('Venice grew out of the collaboration of numerous nameless artists', {'entities': [(23, 35, 'PARTNERSHIP')]}), \n",
        " ('He was assisted in important affairs by the advice and collaboration of the College of Cardinals', {'entities': [(55, 67, 'PARTNERSHIP')]}), \n",
        " ('An intimate collaboration with England and France was crucial', {'entities': [(12, 24, 'PARTNERSHIP')]}), \n",
        " ('he did very useful work in collaboration with the provincial estates', {'entities': [(27, 39, 'PARTNERSHIP')]}), \n",
        " ('Marla produced this magnificent work in collaboration with 22 professors', {'entities': [(40, 52, 'PARTNERSHIP')]}), \n",
        " ('During his exile he continued his active collaboration on publishers', {'entities': [(41, 53, 'PARTNERSHIP')]}), \n",
        " ('perhaps the biggest collaboration stunt they’ve done was in 2002', {'entities': [(20, 32, 'PARTNERSHIP')]}), \n",
        " ('This collaboration with BMW i epitomises our shared values of creativity, technological innovation and style', {'entities': [(5, 17, 'PARTNERSHIP')]}), \n",
        " ('our list of collaborations that made the most impact', {'entities': [(12, 24, 'PARTNERSHIP')]}), \n",
        " \n",
        " ('the collaboration also generated a huge revenue', {'entities': [(4, 16, 'PARTNERSHIP')]}), \n",
        " \n",
        " ('collaboration between these two brands', {'entities': [(0, 12, 'PARTNERSHIP')]}), \n",
        " ('Uniqlo decided to be part of a collaboration', {'entities': [(31, 43, 'PARTNERSHIP')]}), \n",
        " ('his collaborations with Adidas were successful', {'entities': [(4, 16, 'PARTNERSHIP')]}), \n",
        " ('The publicity this collaboration created was noteworthy', {'entities': [(19, 31, 'PARTNERSHIP')]}),\n",
        " \n",
        " ('two separate brands working together', {'entities': [(20, 35, 'PARTNERSHIP')]}),\n",
        "  \n",
        " ('With support from our partners, we can succeed', {'entities': [(18, 29, 'PARTNERSHIP')]}),\n",
        " ('GoPro and Red Bull have collaborated on many events and projects together', {'entities': [(24, 34, 'PARTNERSHIP')]}), \n",
        " \n",
        " ('GoPro and Red Bull have collaborated on many events', {'entities': [(24, 34, 'PARTNERSHIP')]}),\n",
        " ('make sure your collaborator’s market and yours will intersect well', {'entities': [(15, 28, 'PARTNERSHIP')]}),\n",
        " ('Betty Crocker partnered with Hershey’s to include chocolate syrup in its signature brownie recipe', {'entities': [(14, 22, 'PARTNERSHIP')]}), \n",
        " ('Casper and West Elm partnered so shoppers could try out the comfy mattress before purchasing', {'entities': [(20, 28, 'PARTNERSHIP')]}), \n",
        " ('Music-streaming app Spotify partnered with ride-hailing app Uber', {'entities': [(28, 36, 'PARTNERSHIP')]}), \n",
        " ('they partnered with the folks at BuzzFeed to set up and publish articles', {'entities': [(5, 13, 'PARTNERSHIP')]}), \n",
        " ('Lucasfilm, partnered with CoverGirl to capture a broader audience to get fans', {'entities': [(11, 19, 'PARTNERSHIP')]}), \n",
        "  \n",
        " ('they partnered together in 2013', {'entities': [(5, 13, 'PARTNERSHIP')]}),\n",
        " ('Pictures release in association with HBO Pictures', {'entities': [(17, 30, 'PARTNERSHIP')]}), \n",
        " \n",
        " \n",
        " ('H&M has traditionally paired with high-end fashion brands to offer exclusive branded items', {'entities': [(22, 32, 'PARTNERSHIP')]}),\n",
        " ]"
      ],
      "execution_count": null,
      "outputs": []
    },
    {
      "cell_type": "code",
      "metadata": {
        "colab": {
          "base_uri": "https://localhost:8080/"
        },
        "id": "9RHm6hy5F05p",
        "outputId": "63faa468-7c74-4cdd-dabd-7a1da439b7fc"
      },
      "source": [
        "word_to_search = input()\n",
        "word_to_search = word_to_search.lower()\n",
        "records_list = []\n",
        "for sentences, entity  in TRAIN_DATA:\n",
        "  if word_to_search in sentences.lower():\n",
        "    start_index =  sentences.lower().index(word_to_search)\n",
        "    records_list.append((sentences, {\"entities\":[(start_index, start_index+len(word_to_search)-1, \"PARTNERSHIP\")]}))\n",
        "print(records_list)"
      ],
      "execution_count": null,
      "outputs": [
        {
          "output_type": "stream",
          "text": [
            "PARTNERSHIP\n",
            "[('Apple works in partnership with Nike', {'entities': [(15, 25, 'PARTNERSHIP')]}), ('Nokia works in partnership with Lumentum', {'entities': [(15, 25, 'PARTNERSHIP')]}), ('SpaceX is in partnership with NASA', {'entities': [(13, 23, 'PARTNERSHIP')]}), ('Audi works in partnership with Virat Kohli', {'entities': [(14, 24, 'PARTNERSHIP')]}), ('Australia works in partnership with Indian cricket board', {'entities': [(19, 29, 'PARTNERSHIP')]}), ('Government works in partnership with private companies', {'entities': [(20, 30, 'PARTNERSHIP')]}), ('Nike entered into partnership with Apple', {'entities': [(18, 28, 'PARTNERSHIP')]}), ('Asus entered into partnership with Microsoft', {'entities': [(18, 28, 'PARTNERSHIP')]}), ('Micheal Jordan has partnership with Nike', {'entities': [(19, 29, 'PARTNERSHIP')]}), ('My company entered into partnership with Samsung', {'entities': [(24, 34, 'PARTNERSHIP')]}), ('Fossil has partnership with Canadapost', {'entities': [(11, 21, 'PARTNERSHIP')]}), ('Air Asia works in partnership with Lufthansa', {'entities': [(18, 28, 'PARTNERSHIP')]})]\n"
          ],
          "name": "stdout"
        }
      ]
    },
    {
      "cell_type": "code",
      "metadata": {
        "id": "qTpl_4S8wGcj"
      },
      "source": [
        "# Adding labels to the `ner`\n",
        "\n",
        "for _, annotations in TRAIN_DATA:\n",
        "  for ent in annotations.get(\"entities\"):\n",
        "    ner.add_label(ent[2])"
      ],
      "execution_count": null,
      "outputs": []
    },
    {
      "cell_type": "code",
      "metadata": {
        "id": "3C-o9adjwRZZ"
      },
      "source": [
        "# Disable pipeline components you dont need to change\n",
        "pipe_exceptions = [\"ner\", \"trf_wordpiecer\", \"trf_tok2vec\"]\n",
        "unaffected_pipes = [pipe for pipe in nlp.pipe_names if pipe not in pipe_exceptions]"
      ],
      "execution_count": null,
      "outputs": []
    },
    {
      "cell_type": "code",
      "metadata": {
        "colab": {
          "base_uri": "https://localhost:8080/"
        },
        "id": "F4zFVllTw6oL",
        "outputId": "abaa0d8b-074e-43e2-afb5-fba7fda91920"
      },
      "source": [
        "# Import requirements\n",
        "import random\n",
        "from spacy.util import minibatch, compounding\n",
        "from pathlib import Path\n",
        "\n",
        "# TRAINING THE MODEL\n",
        "with nlp.disable_pipes(*unaffected_pipes):\n",
        "\n",
        "  # Training for 30 iterations\n",
        "  for iteration in range(30):\n",
        "\n",
        "    # shuufling examples  before every iteration\n",
        "    random.shuffle(TRAIN_DATA)\n",
        "    losses = {}\n",
        "    # batch up the examples using spaCy's minibatch\n",
        "    batches = minibatch(TRAIN_DATA, size=compounding(4.0, 32.0, 1.001))\n",
        "    for batch in batches:\n",
        "        texts, annotations = zip(*batch)\n",
        "        nlp.update(\n",
        "                    texts,  # batch of texts\n",
        "                    annotations,  # batch of annotations\n",
        "                    drop=0.5,  # dropout - make it harder to memorise data\n",
        "                    losses=losses,\n",
        "                )\n",
        "        print(\"Losses\", losses)"
      ],
      "execution_count": null,
      "outputs": [
        {
          "output_type": "stream",
          "text": [
            "Losses {'ner': 18.761537075042725}\n",
            "Losses {'ner': 39.523719787597656}\n",
            "Losses {'ner': 57.67634654045105}\n",
            "Losses {'ner': 75.15364789962769}\n",
            "Losses {'ner': 93.63417768478394}\n",
            "Losses {'ner': 120.55966091156006}\n",
            "Losses {'ner': 134.17659309506416}\n",
            "Losses {'ner': 152.71299961209297}\n",
            "Losses {'ner': 173.45145466923714}\n",
            "Losses {'ner': 192.9820492565632}\n",
            "Losses {'ner': 215.9270558655262}\n",
            "Losses {'ner': 19.172510385513306}\n",
            "Losses {'ner': 35.249834060668945}\n",
            "Losses {'ner': 51.0045622587204}\n",
            "Losses {'ner': 74.32791912555695}\n",
            "Losses {'ner': 96.60654437541962}\n",
            "Losses {'ner': 115.15446776151657}\n",
            "Losses {'ner': 133.5286257879343}\n",
            "Losses {'ner': 143.46662214561366}\n",
            "Losses {'ner': 162.9099569635}\n",
            "Losses {'ner': 183.35946038528346}\n",
            "Losses {'ner': 202.462881954154}\n",
            "Losses {'ner': 21.828697681427002}\n",
            "Losses {'ner': 36.573035299777985}\n",
            "Losses {'ner': 56.45377308130264}\n",
            "Losses {'ner': 76.76595431566238}\n",
            "Losses {'ner': 95.90802723169327}\n",
            "Losses {'ner': 114.6857379078865}\n",
            "Losses {'ner': 129.75125581026077}\n",
            "Losses {'ner': 153.22536784410477}\n",
            "Losses {'ner': 171.89918261766434}\n",
            "Losses {'ner': 190.2452753186226}\n",
            "Losses {'ner': 206.68341439962387}\n",
            "Losses {'ner': 14.660348773002625}\n",
            "Losses {'ner': 32.78243803977966}\n",
            "Losses {'ner': 52.66429805755615}\n",
            "Losses {'ner': 74.98309564590454}\n",
            "Losses {'ner': 96.12087166309357}\n",
            "Losses {'ner': 114.77752268314362}\n",
            "Losses {'ner': 132.0564513206482}\n",
            "Losses {'ner': 147.58031165599823}\n",
            "Losses {'ner': 172.14317309856415}\n",
            "Losses {'ner': 188.34835350513458}\n",
            "Losses {'ner': 200.39547038078308}\n",
            "Losses {'ner': 13.436313390731812}\n",
            "Losses {'ner': 37.27531552314758}\n",
            "Losses {'ner': 47.88892924785614}\n",
            "Losses {'ner': 70.00404179096222}\n",
            "Losses {'ner': 84.03296172618866}\n",
            "Losses {'ner': 104.68144619464874}\n",
            "Losses {'ner': 124.75049459934235}\n",
            "Losses {'ner': 146.52891981601715}\n",
            "Losses {'ner': 163.45297348499298}\n",
            "Losses {'ner': 179.29589676856995}\n",
            "Losses {'ner': 191.46348118782043}\n",
            "Losses {'ner': 19.552027940750122}\n",
            "Losses {'ner': 37.54041647911072}\n",
            "Losses {'ner': 57.185269832611084}\n",
            "Losses {'ner': 64.33777749538422}\n",
            "Losses {'ner': 80.12563848495483}\n",
            "Losses {'ner': 92.27045673131943}\n",
            "Losses {'ner': 107.49414700269699}\n",
            "Losses {'ner': 125.21052020788193}\n",
            "Losses {'ner': 140.89251917600632}\n",
            "Losses {'ner': 163.1607968211174}\n",
            "Losses {'ner': 179.49735921621323}\n",
            "Losses {'ner': 11.799029350280762}\n",
            "Losses {'ner': 22.311290860176086}\n",
            "Losses {'ner': 45.03680884838104}\n",
            "Losses {'ner': 56.68908190727234}\n",
            "Losses {'ner': 67.73032939434052}\n",
            "Losses {'ner': 82.80008316040039}\n",
            "Losses {'ner': 103.20864868164062}\n",
            "Losses {'ner': 125.44130754470825}\n",
            "Losses {'ner': 137.62460899353027}\n",
            "Losses {'ner': 152.5642510652542}\n",
            "Losses {'ner': 165.5890974998474}\n",
            "Losses {'ner': 16.13076078891754}\n",
            "Losses {'ner': 30.37298846244812}\n",
            "Losses {'ner': 41.99501669406891}\n",
            "Losses {'ner': 68.45366442203522}\n",
            "Losses {'ner': 91.811239361763}\n",
            "Losses {'ner': 111.36159443855286}\n",
            "Losses {'ner': 123.66872358322144}\n",
            "Losses {'ner': 140.96752858161926}\n",
            "Losses {'ner': 163.90756678581238}\n",
            "Losses {'ner': 185.46915555000305}\n",
            "Losses {'ner': 200.92809200286865}\n",
            "Losses {'ner': 11.496810555458069}\n",
            "Losses {'ner': 26.789329886436462}\n",
            "Losses {'ner': 36.62628182768822}\n",
            "Losses {'ner': 53.81939348578453}\n",
            "Losses {'ner': 66.54686853289604}\n",
            "Losses {'ner': 81.4608471095562}\n",
            "Losses {'ner': 97.82712003588676}\n",
            "Losses {'ner': 111.9769820868969}\n",
            "Losses {'ner': 126.7117278277874}\n",
            "Losses {'ner': 142.73566338419914}\n",
            "Losses {'ner': 152.25289502739906}\n",
            "Losses {'ner': 17.731090426445007}\n",
            "Losses {'ner': 32.04942786693573}\n",
            "Losses {'ner': 51.35463058948517}\n",
            "Losses {'ner': 69.92356550693512}\n",
            "Losses {'ner': 87.67671549320221}\n",
            "Losses {'ner': 105.60924184322357}\n",
            "Losses {'ner': 123.0905886888504}\n",
            "Losses {'ner': 132.72852885723114}\n",
            "Losses {'ner': 152.79174077510834}\n",
            "Losses {'ner': 169.2339347600937}\n",
            "Losses {'ner': 180.77540004253387}\n",
            "Losses {'ner': 16.20646595954895}\n",
            "Losses {'ner': 32.018508553504944}\n",
            "Losses {'ner': 43.6439493894577}\n",
            "Losses {'ner': 58.83145987987518}\n",
            "Losses {'ner': 76.78416788578033}\n",
            "Losses {'ner': 88.58672221750021}\n",
            "Losses {'ner': 101.040626488626}\n",
            "Losses {'ner': 120.79324766248465}\n",
            "Losses {'ner': 129.3190415725112}\n",
            "Losses {'ner': 149.18604048341513}\n",
            "Losses {'ner': 164.10284908860922}\n",
            "Losses {'ner': 16.089067935943604}\n",
            "Losses {'ner': 31.447838068008423}\n",
            "Losses {'ner': 40.21547079086304}\n",
            "Losses {'ner': 50.52446514368057}\n",
            "Losses {'ner': 63.4625580906868}\n",
            "Losses {'ner': 83.97256475687027}\n",
            "Losses {'ner': 99.82737165689468}\n",
            "Losses {'ner': 113.30799609422684}\n",
            "Losses {'ner': 132.15933459997177}\n",
            "Losses {'ner': 148.29663509130478}\n",
            "Losses {'ner': 160.219198346138}\n",
            "Losses {'ner': 12.266339778900146}\n",
            "Losses {'ner': 26.36916208267212}\n",
            "Losses {'ner': 42.30117464065552}\n",
            "Losses {'ner': 50.209278389811516}\n",
            "Losses {'ner': 67.31605415046215}\n",
            "Losses {'ner': 79.50468800961971}\n",
            "Losses {'ner': 94.93584536015987}\n",
            "Losses {'ner': 111.80127416551113}\n",
            "Losses {'ner': 123.87501822412014}\n",
            "Losses {'ner': 144.47441612184048}\n",
            "Losses {'ner': 153.25490854680538}\n",
            "Losses {'ner': 19.436533331871033}\n",
            "Losses {'ner': 34.66040003299713}\n",
            "Losses {'ner': 48.7549329996109}\n",
            "Losses {'ner': 67.65805435180664}\n",
            "Losses {'ner': 85.11822056770325}\n",
            "Losses {'ner': 99.37759852409363}\n",
            "Losses {'ner': 115.71128964424133}\n",
            "Losses {'ner': 136.6535325050354}\n",
            "Losses {'ner': 154.23433077335358}\n",
            "Losses {'ner': 169.66179382801056}\n",
            "Losses {'ner': 178.8645014166832}\n",
            "Losses {'ner': 14.414923310279846}\n",
            "Losses {'ner': 31.818617939949036}\n",
            "Losses {'ner': 53.82892096042633}\n",
            "Losses {'ner': 72.77471220493317}\n",
            "Losses {'ner': 81.71889591217041}\n",
            "Losses {'ner': 102.1495852470398}\n",
            "Losses {'ner': 114.12549042701721}\n",
            "Losses {'ner': 131.56436038017273}\n",
            "Losses {'ner': 145.20345664024353}\n",
            "Losses {'ner': 158.38388657569885}\n",
            "Losses {'ner': 176.13033413887024}\n",
            "Losses {'ner': 11.46028482913971}\n",
            "Losses {'ner': 27.972915768623352}\n",
            "Losses {'ner': 38.67397028952837}\n",
            "Losses {'ner': 51.83978731185198}\n",
            "Losses {'ner': 65.3418155387044}\n",
            "Losses {'ner': 85.64353043586016}\n",
            "Losses {'ner': 101.11812169104815}\n",
            "Losses {'ner': 115.75734884291887}\n",
            "Losses {'ner': 131.29816157370806}\n",
            "Losses {'ner': 146.70695383101702}\n",
            "Losses {'ner': 163.22587186843157}\n",
            "Losses {'ner': 10.809407711029053}\n",
            "Losses {'ner': 27.184208154678345}\n",
            "Losses {'ner': 39.982181787490845}\n",
            "Losses {'ner': 56.92743802070618}\n",
            "Losses {'ner': 77.30580234527588}\n",
            "Losses {'ner': 89.76269340515137}\n",
            "Losses {'ner': 110.49961709976196}\n",
            "Losses {'ner': 126.37399363517761}\n",
            "Losses {'ner': 143.34141373634338}\n",
            "Losses {'ner': 156.14718985557556}\n",
            "Losses {'ner': 162.7665166668594}\n",
            "Losses {'ner': 14.927685618400574}\n",
            "Losses {'ner': 24.34816610813141}\n",
            "Losses {'ner': 37.50864917039871}\n",
            "Losses {'ner': 50.77653056383133}\n",
            "Losses {'ner': 60.13204264640808}\n",
            "Losses {'ner': 81.89007377624512}\n",
            "Losses {'ner': 96.94087171554565}\n",
            "Losses {'ner': 111.99696898460388}\n",
            "Losses {'ner': 129.915935754776}\n",
            "Losses {'ner': 146.28723812103271}\n",
            "Losses {'ner': 154.89692854881287}\n",
            "Losses {'ner': 15.239460587501526}\n",
            "Losses {'ner': 34.03121531009674}\n",
            "Losses {'ner': 47.630107283592224}\n",
            "Losses {'ner': 61.184370279312134}\n",
            "Losses {'ner': 77.45998048782349}\n",
            "Losses {'ner': 95.50985646247864}\n",
            "Losses {'ner': 107.64727210998535}\n",
            "Losses {'ner': 127.81055665016174}\n",
            "Losses {'ner': 150.7746388912201}\n",
            "Losses {'ner': 169.25341415405273}\n",
            "Losses {'ner': 177.40801042318344}\n",
            "Losses {'ner': 17.82990789413452}\n",
            "Losses {'ner': 29.20228999853134}\n",
            "Losses {'ner': 40.68410673737526}\n",
            "Losses {'ner': 58.225441604852676}\n",
            "Losses {'ner': 65.68022230267525}\n",
            "Losses {'ner': 80.47948959469795}\n",
            "Losses {'ner': 94.47470477223396}\n",
            "Losses {'ner': 111.80865290760994}\n",
            "Losses {'ner': 127.84662666916847}\n",
            "Losses {'ner': 142.09128513932228}\n",
            "Losses {'ner': 152.6204014122486}\n",
            "Losses {'ner': 19.153903245925903}\n",
            "Losses {'ner': 32.79213285446167}\n",
            "Losses {'ner': 42.04059815406799}\n",
            "Losses {'ner': 51.95564714074135}\n",
            "Losses {'ner': 63.67174258828163}\n",
            "Losses {'ner': 83.63730970025063}\n",
            "Losses {'ner': 98.9905563890934}\n",
            "Losses {'ner': 114.15151205658913}\n",
            "Losses {'ner': 127.60829475522041}\n",
            "Losses {'ner': 141.42812076210976}\n",
            "Losses {'ner': 153.8937306702137}\n",
            "Losses {'ner': 16.081613659858704}\n",
            "Losses {'ner': 33.47091901302338}\n",
            "Losses {'ner': 49.38692533969879}\n",
            "Losses {'ner': 67.69473111629486}\n",
            "Losses {'ner': 76.526969358325}\n",
            "Losses {'ner': 83.7092751711607}\n",
            "Losses {'ner': 97.53572981059551}\n",
            "Losses {'ner': 112.72103027999401}\n",
            "Losses {'ner': 124.60299114882946}\n",
            "Losses {'ner': 138.27393977344036}\n",
            "Losses {'ner': 146.71971778571606}\n",
            "Losses {'ner': 15.395068407058716}\n",
            "Losses {'ner': 27.38261580467224}\n",
            "Losses {'ner': 40.75151872634888}\n",
            "Losses {'ner': 51.7154044508934}\n",
            "Losses {'ner': 64.51906901597977}\n",
            "Losses {'ner': 82.63433653116226}\n",
            "Losses {'ner': 95.81995683908463}\n",
            "Losses {'ner': 113.36902302503586}\n",
            "Losses {'ner': 124.01129022240639}\n",
            "Losses {'ner': 142.8706194460392}\n",
            "Losses {'ner': 156.1794449388981}\n",
            "Losses {'ner': 12.817163228988647}\n",
            "Losses {'ner': 25.589541792869568}\n",
            "Losses {'ner': 39.590030670166016}\n",
            "Losses {'ner': 57.30536413192749}\n",
            "Losses {'ner': 71.00242638587952}\n",
            "Losses {'ner': 84.31781530380249}\n",
            "Losses {'ner': 97.01067101955414}\n",
            "Losses {'ner': 116.98976409435272}\n",
            "Losses {'ner': 127.13345456123352}\n",
            "Losses {'ner': 146.0878291130066}\n",
            "Losses {'ner': 156.26224184036255}\n",
            "Losses {'ner': 12.596899390220642}\n",
            "Losses {'ner': 35.35015094280243}\n",
            "Losses {'ner': 46.45415532588959}\n",
            "Losses {'ner': 60.27523100376129}\n",
            "Losses {'ner': 79.33512055873871}\n",
            "Losses {'ner': 89.76480960845947}\n",
            "Losses {'ner': 106.47642695903778}\n",
            "Losses {'ner': 116.80927038192749}\n",
            "Losses {'ner': 127.88569033145905}\n",
            "Losses {'ner': 143.26612401008606}\n",
            "Losses {'ner': 153.53293442726135}\n",
            "Losses {'ner': 10.212077379226685}\n",
            "Losses {'ner': 28.244022369384766}\n",
            "Losses {'ner': 38.99279513955116}\n",
            "Losses {'ner': 57.17183390259743}\n",
            "Losses {'ner': 73.70631542801857}\n",
            "Losses {'ner': 87.00391522049904}\n",
            "Losses {'ner': 105.71832099556923}\n",
            "Losses {'ner': 122.63235321640968}\n",
            "Losses {'ner': 138.83407273888588}\n",
            "Losses {'ner': 149.82010319828987}\n",
            "Losses {'ner': 160.75473669171333}\n",
            "Losses {'ner': 14.233489632606506}\n",
            "Losses {'ner': 31.492711663246155}\n",
            "Losses {'ner': 45.87811720371246}\n",
            "Losses {'ner': 56.246835350990295}\n",
            "Losses {'ner': 69.7301813364029}\n",
            "Losses {'ner': 80.01448464393616}\n",
            "Losses {'ner': 93.04475951194763}\n",
            "Losses {'ner': 106.03647184371948}\n",
            "Losses {'ner': 120.29234790802002}\n",
            "Losses {'ner': 133.57505011558533}\n",
            "Losses {'ner': 142.85751926898956}\n",
            "Losses {'ner': 10.851016163825989}\n",
            "Losses {'ner': 23.764044041745365}\n",
            "Losses {'ner': 40.957100505940616}\n",
            "Losses {'ner': 55.96986197959632}\n",
            "Losses {'ner': 73.15606545936316}\n",
            "Losses {'ner': 76.16303882095963}\n",
            "Losses {'ner': 87.64662471506745}\n",
            "Losses {'ner': 98.82443621847779}\n",
            "Losses {'ner': 109.7969314167276}\n",
            "Losses {'ner': 122.8172419378534}\n",
            "Losses {'ner': 131.81135037634522}\n",
            "Losses {'ner': 16.49818515777588}\n",
            "Losses {'ner': 27.12794256210327}\n",
            "Losses {'ner': 43.987690448760986}\n",
            "Losses {'ner': 57.1562796831131}\n",
            "Losses {'ner': 72.69124448299408}\n",
            "Losses {'ner': 82.51741826534271}\n",
            "Losses {'ner': 90.24891066551208}\n",
            "Losses {'ner': 101.22559607028961}\n",
            "Losses {'ner': 110.35429036617279}\n",
            "Losses {'ner': 130.94315135478973}\n",
            "Losses {'ner': 141.04185539484024}\n",
            "Losses {'ner': 13.375845670700073}\n",
            "Losses {'ner': 25.073631078004837}\n",
            "Losses {'ner': 35.31154707074165}\n",
            "Losses {'ner': 52.546067744493484}\n",
            "Losses {'ner': 65.43360462784767}\n",
            "Losses {'ner': 76.45106759667397}\n",
            "Losses {'ner': 89.47836616635323}\n",
            "Losses {'ner': 103.52724984288216}\n",
            "Losses {'ner': 121.50802090764046}\n",
            "Losses {'ner': 135.906244546175}\n",
            "Losses {'ner': 152.5493099987507}\n"
          ],
          "name": "stdout"
        }
      ]
    },
    {
      "cell_type": "code",
      "metadata": {
        "colab": {
          "base_uri": "https://localhost:8080/"
        },
        "id": "zdx85AV3xBQd",
        "outputId": "74f6dd91-4246-406f-d16a-61bea64276c3"
      },
      "source": [
        "# Testing the model\n",
        "doc = nlp('Apple works in partnership with Nike')\n",
        "print(\"Entities\", [(ent.text, ent.label_) for ent in doc.ents])"
      ],
      "execution_count": null,
      "outputs": [
        {
          "output_type": "stream",
          "text": [
            "Entities []\n"
          ],
          "name": "stdout"
        }
      ]
    },
    {
      "cell_type": "code",
      "metadata": {
        "id": "OJcGd_miSi8G"
      },
      "source": [
        "# training data\n",
        "TRAIN_DATA = [\n",
        "              (\"Walmart is a leading e-commerce company\", {\"entities\": [(0, 7, \"ORG\")]}),\n",
        "              (\"He entered into partnership with the Copelands\", {\"entities\": [(16, 26, \"PARTNERSHIP\")]}),\n",
        "              (\"She offered a commercial partnership\", {\"entities\": [(25, 36, \"PARTNERSHIP\")]}),\n",
        "              (\"the state entered into partnership with private companies\", {\"entities\": [(23, 34, \"PARTNERSHIP\")]}),\n",
        "              (\"Alya entered into partnership with his father Amasa\", {\"entities\": [(18, 29, \"PARTNERSHIP\")]}),\n",
        "              (\"Avi is going to begin practice in a partnership with Stuart\", {\"entities\": [(36, 47, \"PARTNERSHIP\")]}),\n",
        "     (\"Meanwhile the king had formed an alliance with Henry VII\", {\"entities\": [(16, 26, \"PARTNERSHIP\")]}),\n",
        "              (\"Subsequently, however, they entered into an alliance\", {\"entities\": [(16, 26, \"PARTNERSHIP\")]}),\n",
        "              (\"Stan wants to form formal alliance with parties of the state\", {\"entities\": [(16, 26, \"PARTNERSHIP\")]}),\n",
        "              (\"It was important for contracting an alliance with England\", {\"entities\": [(16, 26, \"PARTNERSHIP\")]}),\n",
        "              (\"His career began by collaboration with other authors\", {\"entities\": [(16, 26, \"PARTNERSHIP\")]}),\n",
        "              (\"In 1912, in collaboration with his wife, he published his book\", {\"entities\": [(16, 26, \"PARTNERSHIP\")]}),\n",
        "              (\"James launched his fashion brand in collaboration with Jules Flammermont\", {\"entities\": [(16, 26, \"PARTNERSHIP\")]}),\n",
        "              (\"Venice grew out of the collaboration of numerous nameless artists\", {\"entities\": [(16, 26, \"PARTNERSHIP\")]}),\n",
        "              (\"He was assisted in important affairs by the advice and collaboration of the College of Cardinals\", {\"entities\": [(16, 26, \"PARTNERSHIP\")]}),\n",
        "              (\"An intimate collaboration with England and France was crucial\", {\"entities\": [(16, 26, \"PARTNERSHIP\")]}),\n",
        "              (\"he did very useful work in collaboration with the provincial estates\", {\"entities\": [(16, 26, \"PARTNERSHIP\")]}),\n",
        "              (\"Marla produced this magnificent work in collaboration with 22 professors\", {\"entities\": [(16, 26, \"PARTNERSHIP\")]}),\n",
        "              (\"During his exile he continued his active collaboration on publishers\", {\"entities\": [(16, 26, \"PARTNERSHIP\")]}),\n",
        "              (\"They were the bond of union between Church and state\", {\"entities\": [(16, 26, \"PARTNERSHIP\")]}),\n",
        "              (\"Betty Crocker partnered with Hershey’s to include chocolate syrup in its signature brownie recipe\", {\"entities\": [(16, 26, \"PARTNERSHIP\")]}),\n",
        "              (\"There’s something brilliant about that co-branded product\", {\"entities\": [(16, 26, \"PARTNERSHIP\")]}),\n",
        "              (\"success of one brand brings success to its partner brand\", {\"entities\": [(16, 26, \"PARTNERSHIP\")]}),\n",
        "              (\"Co-branding can be an effective way to build business\", {\"entities\": [(16, 26, \"PARTNERSHIP\")]}),\n",
        "              (\"There are a ton of great examples of co-branding partnerships out there\", {\"entities\": [(49, 60, \"PARTNERSHIP\")]}),\n",
        "              (\"GoPro and Red Bull have collaborated on many events and projects together\", {\"entities\": [(16, 26, \"PARTNERSHIP\")]}),\n",
        "              (\"perhaps the biggest collaboration stunt they’ve done was in 2002\", {\"entities\": [(16, 26, \"PARTNERSHIP\")]}),\n",
        "              (\"Customers could coordinate paint colors with Pottery Barn furniture for a mutually beneficial partnership\", {\"entities\": [(94, 105, \"PARTNERSHIP\")]}),\n",
        "              (\"Casper and West Elm partnered so shoppers could try out the comfy mattress before purchasing\", {\"entities\": [(16, 26, \"PARTNERSHIP\")]}),\n",
        "              (\"In their partnership, BMW created a sports car model called the BMW i8, while Louis Vuitton designed an exclusive bag\", {\"entities\": [(9, 20, \"PARTNERSHIP\")]}),\n",
        "              (\"This collaboration with BMW i epitomises our shared values of creativity, technological innovation and style\", {\"entities\": [(16, 26, \"PARTNERSHIP\")]}),\n",
        "              (\"Music-streaming app Spotify partnered with ride-hailing app Uber\", {\"entities\": [(16, 26, \"PARTNERSHIP\")]}),\n",
        "              (\"This smart co-branding partnership helps fans of Uber and Spotify alike enjoy better experiences thanks to the app\", {\"entities\": [(23, 34, \"PARTNERSHIP\")]}),\n",
        "              (\"Sometimes, co-branding partnerships aren’t just cool projects between two companies\", {\"entities\": [(23, 34, \"PARTNERSHIP\")]}),\n",
        "              (\" Airbnb's newest partner is Flipboard\", {\"entities\": [(16, 26, \"PARTNERSHIP\")]}),\n",
        "              (\"Airbnb recently teamed up with Flipboard to get more customers\", {\"entities\": [(16, 26, \"PARTNERSHIP\")]}),\n",
        "              (\"This partnership shows how businesses can connect their customers \", {\"entities\": [(5, 16, \"PARTNERSHIP\")]}),\n",
        "              (\"they partnered with the folks at BuzzFeed to set up and publish articles\", {\"entities\": [(16, 26, \"PARTNERSHIP\")]}),\n",
        "              (\"H&M has traditionally paired with high-end fashion brands to offer exclusive branded items\", {\"entities\": [(16, 26, \"PARTNERSHIP\")]}),\n",
        "              (\"Lucasfilm, partnered with CoverGirl to capture a broader audience to get fans\", {\"entities\": [(16, 26, \"PARTNERSHIP\")]}),\n",
        "              (\"This co-branding partnership was a win for both brand\", {\"entities\": [(17, 28, \"PARTNERSHIP\")]}),\n",
        "              (\"If you have the chance to partner for a not-for-profit cause, it can pay off in multiple ways\", {\"entities\": [(16, 26, \"PARTNERSHIP\")]}),\n",
        "              (\"Target partnered with UNICEF on a campaign\", {\"entities\": [(16, 26, \"PARTNERSHIP\")]}),\n",
        "              (\"Nike and technology giant Apple have been working together\", {\"entities\": [(16, 26, \"PARTNERSHIP\")]}),\n",
        "              (\"The co-branding partnership started\", {\"entities\": [(16, 26, \"PARTNERSHIP\")]}),\n",
        "              (\"The partnership has evolved\", {\"entities\": [(16, 26, \"PARTNERSHIP\")]}),\n",
        "              (\"We also develop partnerships with other growers in PEI\", {\"entities\": [(16, 26, \"PARTNERSHIP\")]}),\n",
        "              (\"Pictures release in association with HBO Pictures\", {\"entities\": [(16, 26, \"PARTNERSHIP\")]}),\n",
        "              (\"Produced in association with Ira Pittelman\", {\"entities\": [(16, 26, \"PARTNERSHIP\")]}),\n",
        "              (\"Productions in association with Columbia Pictures\", {\"entities\": [(16, 26, \"PARTNERSHIP\")]}),\n",
        "              (\"our list of collaborations that made the most impact\", {\"entities\": [(16, 26, \"PARTNERSHIP\")]}),\n",
        "              (\"This collaboration was successful\", {\"entities\": [(16, 26, \"PARTNERSHIP\")]}),\n",
        "              (\"the collaboration also generated a huge revenue\", {\"entities\": [(16, 26, \"PARTNERSHIP\")]}),\n",
        "              (\"This collaboration introduced Uber users to Spotify\", {\"entities\": [(16, 26, \"PARTNERSHIP\")]}),\n",
        "              (\"collaborate with a different organization\", {\"entities\": [(16, 26, \"PARTNERSHIP\")]}),\n",
        "              (\"collaboration between these two brands\", {\"entities\": [(16, 26, \"PARTNERSHIP\")]}),\n",
        "              (\"Uniqlo decided to be part of a collaboration\", {\"entities\": [(16, 26, \"PARTNERSHIP\")]}),\n",
        "              (\"make sure your collaborator’s market and yours will intersect well\", {\"entities\": [(16, 26, \"PARTNERSHIP\")]}),\n",
        "              (\"his collaborations with Adidas were successful\", {\"entities\": [(16, 26, \"PARTNERSHIP\")]}),\n",
        "              (\"The publicity this collaboration created was noteworthy\", {\"entities\": [(16, 26, \"PARTNERSHIP\")]}),\n",
        "              (\"two separate brands working together\", {\"entities\": [(16, 26, \"PARTNERSHIP\")]}),\n",
        "              (\"advertising partnership between two brands\", {\"entities\": [(16, 26, \"PARTNERSHIP\")]}),\n",
        "              (\"GoPro and Red Bull have collaborated on many events\", {\"entities\": [(16, 26, \"PARTNERSHIP\")]}),\n",
        "              (\"they partnered together in 2013\", {\"entities\": [(16, 26, \"PARTNERSHIP\")]}),\n",
        "              (\"mutually beneficial partnership\", {\"entities\": [(16, 26, \"PARTNERSHIP\")]}),\n",
        "              (\"business partners in your area\", {\"entities\": [(16, 26, \"PARTNERSHIP\")]}),\n",
        "              (\"make great business partnerships\", {\"entities\": [(16, 26, \"PARTNERSHIP\")]}),\n",
        "              (\"a program for Corporate Partners\", {\"entities\": [(16, 26, \"PARTNERSHIP\")]}),\n",
        "              (\"I am managing a list of partners\", {\"entities\": [(16, 26, \"PARTNERSHIP\")]}),\n",
        "              (\"learn more about the partnership\", {\"entities\": [(16, 26, \"PARTNERSHIP\")]}),\n",
        "              (\"Provide links to individual partner profiles\", {\"entities\": [(16, 26, \"PARTNERSHIP\")]}),\n",
        "              (\"We are deeply grateful to our partners\", {\"entities\": [(16, 26, \"PARTNERSHIP\")]}),\n",
        "              (\"With support from our partners, we can succeed\", {\"entities\": [(16, 26, \"PARTNERSHIP\")]}),\n",
        "              (\"We are thrilled to be partnering with Volunteers\", {\"entities\": [(16, 26, \"PARTNERSHIP\")]}),\n",
        "              (\"Our stories about individual partnerships.\", {\"entities\": [(16, 26, \"PARTNERSHIP\")]}),\n",
        "              (\"This page describes the role of partnerships in the organization\", {\"entities\": [(16, 26, \"PARTNERSHIP\")]}),\n",
        "              (\"WeChat has a partnership with Sogou\", {\"entities\": [(16, 26, \"PARTNERSHIP\")]}),\n",
        "              (\"Hulu is a joint venture between NBC Universal and Disney\", {\"entities\": [(16, 26, \"PARTNERSHIP\")]}),\n",
        "              (\"The project is a joint venture between Apple and Nike\", {\"entities\": [(16, 26, \"PARTNERSHIP\")]}),\n",
        "              (\"The company has set up a joint venture with a firm in Austria\", {\"entities\": [(16, 26, \"PARTNERSHIP\")]}),\n",
        "              (\"Form joint venture partners\", {\"entities\": [(16, 26, \"PARTNERSHIP\")]}),\n",
        "              (\"The school is part of a joint venture\", {\"entities\": [(16, 26, \"PARTNERSHIP\")]}),\n",
        "              (\"Jane and Williams were joint venture partners\", {\"entities\": [(16, 26, \"PARTNERSHIP\")]}),\n",
        "              (\"A second joint venture is formed this year\", {\"entities\": [(16, 26, \"PARTNERSHIP\")]}),\n",
        "              (\"The joint venture is also planning a hotel\", {\"entities\": [(16, 26, \"PARTNERSHIP\")]}),\n",
        "              (\"Bates has formed a joint venture to provide services\", {\"entities\": [(16, 26, \"PARTNERSHIP\")]}),\n",
        "              (\"The company is a joint venture between transport groups\", {\"entities\": [(16, 26, \"PARTNERSHIP\")]}),\n",
        "              (\"Kodak is setting a joint venture\", {\"entities\": [(16, 26, \"PARTNERSHIP\")]}),\n",
        "              (\"Company will launch the joint venture in 2000.\", {\"entities\": [(16, 26, \"PARTNERSHIP\")]}),\n",
        "              (\"the US and Israeli strategic alliance has never been closer\", {\"entities\": [(16, 26, \"PARTNERSHIP\")]}),\n",
        "              (\"The two companies will join hands in April 2004\", {\"entities\": [(16, 26, \"PARTNERSHIP\")]}),\n",
        "              (\"we need to join hands with another company\", {\"entities\": [(16, 26, \"PARTNERSHIP\")]}),\n",
        "              (\"Nine NGOs join hands to better serve the community\", {\"entities\": [(16, 26, \"PARTNERSHIP\")]}),\n",
        "              (\"The USA not to join hands with our enemy\", {\"entities\": [(16, 26, \"PARTNERSHIP\")]})\n",
        "\n",
        "              \n",
        "[ ]\n",
        "\n",
        "\n",
        "             \n",
        "]\n",
        "              "
      ],
      "execution_count": null,
      "outputs": []
    },
    {
      "cell_type": "code",
      "metadata": {
        "id": "xRZDOtlyGAJH"
      },
      "source": [
        "TRAIN_DATA = [('Apple works in partnership with Nike',{\"entities\": [(16, 26, \"PARTNERSHIP\")]}),\n",
        "('Nokia works in partnership with Lumentum',{\"entities\": [(16, 26, \"PARTNERSHIP\")]}),\n",
        "('SpaceX is in partnership with NASA',{\"entities\": [(16, 26, \"PARTNERSHIP\")]}),\n",
        "('Audi works in partnership with Virat Kohli',{\"entities\": [(16, 26, \"PARTNERSHIP\")]}),\n",
        "('Australia works in partnership with Indian cricket board',{\"entities\": [(16, 26, \"PARTNERSHIP\")]}),\n",
        "('Government works in partnership with private companies',{\"entities\": [(16, 26, \"PARTNERSHIP\")]}),\n",
        "('Nike entered into partnership with Apple',{\"entities\": [(16, 26, \"PARTNERSHIP\")]}),\n",
        "('Asus entered into partnership with Microsoft',{\"entities\": [(16, 26, \"PARTNERSHIP\")]}),\n",
        "('Micheal Jordan has partnership with Nike',{\"entities\": [(16, 26, \"PARTNERSHIP\")]}),\n",
        "('My company entered into partnership with Samsung',{\"entities\": [(16, 26, \"PARTNERSHIP\")]}),\n",
        "('Fossil has partnership with Canadapost',{\"entities\": [(16, 26, \"PARTNERSHIP\")]}),\n",
        "('Air Asia works in partnership with Lufthansa',{\"entities\": [(16, 26, \"PARTNERSHIP\")]})]"
      ],
      "execution_count": null,
      "outputs": []
    },
    {
      "cell_type": "code",
      "metadata": {
        "colab": {
          "base_uri": "https://localhost:8080/"
        },
        "id": "RNa6T7-ekdRy",
        "outputId": "a6fe4b61-dfe2-4124-a81d-01e03e819977"
      },
      "source": [
        "word_to_search = input()\n",
        "word_to_search = word_to_search.lower()\n",
        "records_list = []\n",
        "for sentences, entity  in TRAIN_DATA:\n",
        "  if word_to_search in sentences.lower():\n",
        "    start_index =  sentences.lower().index(word_to_search)\n",
        "    records_list.append((sentences, {\"entities\":[(start_index, start_index+len(word_to_search)-1, \"PARTNERSHIP\")]}))\n",
        "print(records_list)"
      ],
      "execution_count": null,
      "outputs": [
        {
          "output_type": "stream",
          "text": [
            "partnership\n",
            "[('Apple works in partnership with Nike', {'entities': [(15, 25, 'PARTNERSHIP')]}), ('Nokia works in partnership with Lumentum', {'entities': [(15, 25, 'PARTNERSHIP')]}), ('SpaceX is in partnership with NASA', {'entities': [(13, 23, 'PARTNERSHIP')]}), ('Audi works in partnership with Virat Kohli', {'entities': [(14, 24, 'PARTNERSHIP')]}), ('Australia works in partnership with Indian cricket board', {'entities': [(19, 29, 'PARTNERSHIP')]}), ('Government works in partnership with private companies', {'entities': [(20, 30, 'PARTNERSHIP')]}), ('Nike entered into partnership with Apple', {'entities': [(18, 28, 'PARTNERSHIP')]}), ('Asus entered into partnership with Microsoft', {'entities': [(18, 28, 'PARTNERSHIP')]}), ('Micheal Jordan has partnership with Nike', {'entities': [(19, 29, 'PARTNERSHIP')]}), ('My company entered into partnership with Samsung', {'entities': [(24, 34, 'PARTNERSHIP')]}), ('Fossil has partnership with Canadapost', {'entities': [(11, 21, 'PARTNERSHIP')]}), ('Air Asia works in partnership with Lufthansa', {'entities': [(18, 28, 'PARTNERSHIP')]})]\n"
          ],
          "name": "stdout"
        }
      ]
    },
    {
      "cell_type": "code",
      "metadata": {
        "id": "A8qWJcgQrQGG"
      },
      "source": [
        "\n",
        "TRAINING_DATA = [('He entered into partnership with the Copelands', {'entities': [(16, 26, 'PARTNERSHIP')]}), \n",
        " ('She offered a commercial partnership', {'entities': [(25, 35, 'PARTNERSHIP')]}), \n",
        " ('the state entered into partnership with private companies', {'entities': [(23, 33, 'PARTNERSHIP')]}), \n",
        " ('Alya entered into partnership with his father Amasa', {'entities': [(18, 28, 'PARTNERSHIP')]}), \n",
        " ('Avi is going to begin practice in a partnership with Stuart', {'entities': [(36, 46, 'PARTNERSHIP')]}), \n",
        " ('There are a ton of great examples of co-branding partnerships out there', {'entities': [(49, 59, 'PARTNERSHIP')]}), \n",
        " ('Customers could coordinate paint colors with Pottery Barn furniture for a mutually beneficial partnership', {'entities': [(94, 104, 'PARTNERSHIP')]}), \n",
        " ('In their partnership, BMW created a sports car model called the BMW i8, while Louis Vuitton designed an exclusive bag', {'entities': [(9, 19, 'PARTNERSHIP')]}), \n",
        " ('This smart co-branding partnership helps fans of Uber and Spotify alike enjoy better experiences thanks to the app', {'entities': [(23, 33, 'PARTNERSHIP')]}), \n",
        " ('Sometimes, co-branding partnerships aren’t just cool projects between two companies', {'entities': [(23, 33, 'PARTNERSHIP')]}), \n",
        " ('This partnership shows how businesses can connect their customers ', {'entities': [(5, 15, 'PARTNERSHIP')]}), \n",
        " ('This co-branding partnership was a win for both brand', {'entities': [(17, 27, 'PARTNERSHIP')]}), \n",
        " ('The co-branding partnership started', {'entities': [(16, 26, 'PARTNERSHIP')]}), \n",
        " ('The partnership has evolved', {'entities': [(4, 14, 'PARTNERSHIP')]}), \n",
        " ('We also develop partnerships with other growers in PEI', {'entities': [(16, 26, 'PARTNERSHIP')]}), \n",
        " ('advertising partnership between two brands', {'entities': [(12, 22, 'PARTNERSHIP')]}), \n",
        " ('mutually beneficial partnership', {'entities': [(20, 30, 'PARTNERSHIP')]}), \n",
        " ('make great business partnerships', {'entities': [(20, 30, 'PARTNERSHIP')]}), \n",
        " ('learn more about the partnership', {'entities': [(21, 31, 'PARTNERSHIP')]}), \n",
        " ('Our stories about individual partnerships.', {'entities': [(29, 39, 'PARTNERSHIP')]}), \n",
        " ('This page describes the role of partnerships in the organization', {'entities': [(32, 42, 'PARTNERSHIP')]}), \n",
        " ('WeChat has a partnership with Sogou', {'entities': [(13, 23, 'PARTNERSHIP')]}),\n",
        " ('Hulu is a joint venture between NBC Universal and Disney', {'entities': [(10, 22, 'PARTNERSHIP')]}),\n",
        " ('The project is a joint venture between Apple and Nike', {'entities': [(17, 29, 'PARTNERSHIP')]}),\n",
        " ('The company has set up a joint venture with a firm in Austria', {'entities': [(25, 37, 'PARTNERSHIP')]}), \n",
        " ('Form joint venture partners', {'entities': [(5, 17, 'PARTNERSHIP')]}), \n",
        " ('The school is part of a joint venture', {'entities': [(24, 36, 'PARTNERSHIP')]}), \n",
        " ('Jane and Williams were joint venture partners', {'entities': [(23, 35, 'PARTNERSHIP')]}), \n",
        " ('A second joint venture is formed this year', {'entities': [(9, 21, 'PARTNERSHIP')]}), \n",
        " ('The joint venture is also planning a hotel', {'entities': [(4, 16, 'PARTNERSHIP')]}), \n",
        " ('Bates has formed a joint venture to provide services', {'entities': [(19, 31, 'PARTNERSHIP')]}), \n",
        " ('The company is a joint venture between transport groups', {'entities': [(17, 29, 'PARTNERSHIP')]}), \n",
        " ('Kodak is setting a joint venture', {'entities': [(19, 31, 'PARTNERSHIP')]}), \n",
        " ('Company will launch the joint venture in 2000.', {'entities': [(24, 36, 'PARTNERSHIP')]}),\n",
        " ('The two companies will join hands in April 2004', {'entities': [(23, 32, 'PARTNERSHIP')]}), \n",
        " ('we need to join hands with another company', {'entities': [(11, 20, 'PARTNERSHIP')]}), \n",
        " ('Nine NGOs join hands to better serve the community', {'entities': [(10, 19, 'PARTNERSHIP')]}), \n",
        " ('The USA not to join hands with our enemy', {'entities': [(15, 24, 'PARTNERSHIP')]}),\n",
        " ('the US and Israeli strategic alliance has never been closer', {'entities': [(19, 36, 'PARTNERSHIP')]}),\n",
        " ('There are a ton of great examples of co-branding partnerships out there', {'entities': [(49, 60, 'PARTNERSHIP')]}), \n",
        " ('Sometimes, co-branding partnerships aren’t just cool projects between two companies', {'entities': [(23, 34, 'PARTNERSHIP')]}), \n",
        " ('We also develop partnerships with other growers in PEI', {'entities': [(16, 27, 'PARTNERSHIP')]}), \n",
        " ('make great business partnerships', {'entities': [(20, 31, 'PARTNERSHIP')]}), \n",
        " ('Our stories about individual partnerships.', {'entities': [(29, 40, 'PARTNERSHIP')]}), \n",
        " ('This page describes the role of partnerships in the organization', {'entities': [(32, 43, 'PARTNERSHIP')]}),\n",
        " ('We are thrilled to be partnering with Volunteers', {'entities': [(22, 31, 'PARTNERSHIP')]}),\n",
        " ('Meanwhile the king had formed an alliance with Henry VII', {'entities': [(33, 40, 'PARTNERSHIP')]}), \n",
        " ('Subsequently, however, they entered into an alliance', {'entities': [(44, 51, 'PARTNERSHIP')]}), \n",
        " ('Stan wants to form formal alliance with parties of the state', {'entities': [(26, 33, 'PARTNERSHIP')]}), \n",
        " ('It was important for contracting an alliance with England', {'entities': [(36, 43, 'PARTNERSHIP')]}), \n",
        " ('His career began by collaboration with other authors', {'entities': [(20, 32, 'PARTNERSHIP')]}), \n",
        " ('In 1912, in collaboration with his wife, he published his book', {'entities': [(12, 24, 'PARTNERSHIP')]}), \n",
        " ('James launched his fashion brand in collaboration with Jules Flammermont', {'entities': [(36, 48, 'PARTNERSHIP')]}), \n",
        " ('Venice grew out of the collaboration of numerous nameless artists', {'entities': [(23, 35, 'PARTNERSHIP')]}), \n",
        " ('He was assisted in important affairs by the advice and collaboration of the College of Cardinals', {'entities': [(55, 67, 'PARTNERSHIP')]}), \n",
        " ('An intimate collaboration with England and France was crucial', {'entities': [(12, 24, 'PARTNERSHIP')]}), \n",
        " ('he did very useful work in collaboration with the provincial estates', {'entities': [(27, 39, 'PARTNERSHIP')]}), \n",
        " ('Marla produced this magnificent work in collaboration with 22 professors', {'entities': [(40, 52, 'PARTNERSHIP')]}), \n",
        " ('During his exile he continued his active collaboration on publishers', {'entities': [(41, 53, 'PARTNERSHIP')]}), \n",
        " ('perhaps the biggest collaboration stunt they’ve done was in 2002', {'entities': [(20, 32, 'PARTNERSHIP')]}), \n",
        " ('This collaboration with BMW i epitomises our shared values of creativity, technological innovation and style', {'entities': [(5, 17, 'PARTNERSHIP')]}), \n",
        " ('our list of collaborations that made the most impact', {'entities': [(12, 24, 'PARTNERSHIP')]}), \n",
        " ('This collaboration was successful', {'entities': [(5, 17, 'PARTNERSHIP')]}), \n",
        " ('the collaboration also generated a huge revenue', {'entities': [(4, 16, 'PARTNERSHIP')]}), \n",
        " ('This collaboration introduced Uber users to Spotify', {'entities': [(5, 17, 'PARTNERSHIP')]}), \n",
        " ('collaboration between these two brands', {'entities': [(0, 12, 'PARTNERSHIP')]}), \n",
        " ('Uniqlo decided to be part of a collaboration', {'entities': [(31, 43, 'PARTNERSHIP')]}), \n",
        " ('his collaborations with Adidas were successful', {'entities': [(4, 16, 'PARTNERSHIP')]}), \n",
        " ('The publicity this collaboration created was noteworthy', {'entities': [(19, 31, 'PARTNERSHIP')]}),\n",
        " ('Nike and technology giant Apple have been working together', {'entities': [(42, 57, 'PARTNERSHIP')]}), \n",
        " ('two separate brands working together', {'entities': [(20, 35, 'PARTNERSHIP')]}),\n",
        " ('We are deeply grateful to our partners', {'entities': [(26, 37, 'PARTNERSHIP')]}), \n",
        " ('With support from our partners, we can succeed', {'entities': [(18, 29, 'PARTNERSHIP')]}),\n",
        " ('GoPro and Red Bull have collaborated on many events and projects together', {'entities': [(24, 34, 'PARTNERSHIP')]}), \n",
        " ('collaborate with a different organization', {'entities': [(0, 10, 'PARTNERSHIP')]}), \n",
        " ('GoPro and Red Bull have collaborated on many events', {'entities': [(24, 34, 'PARTNERSHIP')]}),\n",
        " ('make sure your collaborator’s market and yours will intersect well', {'entities': [(15, 28, 'PARTNERSHIP')]}),\n",
        " ('Betty Crocker partnered with Hershey’s to include chocolate syrup in its signature brownie recipe', {'entities': [(14, 22, 'PARTNERSHIP')]}), \n",
        " ('Casper and West Elm partnered so shoppers could try out the comfy mattress before purchasing', {'entities': [(20, 28, 'PARTNERSHIP')]}), \n",
        " ('Music-streaming app Spotify partnered with ride-hailing app Uber', {'entities': [(28, 36, 'PARTNERSHIP')]}), \n",
        " ('they partnered with the folks at BuzzFeed to set up and publish articles', {'entities': [(5, 13, 'PARTNERSHIP')]}), \n",
        " ('Lucasfilm, partnered with CoverGirl to capture a broader audience to get fans', {'entities': [(11, 19, 'PARTNERSHIP')]}), \n",
        " ('Target partnered with UNICEF on a campaign', {'entities': [(7, 15, 'PARTNERSHIP')]}), \n",
        " ('they partnered together in 2013', {'entities': [(5, 13, 'PARTNERSHIP')]}),\n",
        " ('Pictures release in association with HBO Pictures', {'entities': [(17, 30, 'PARTNERSHIP')]}), \n",
        " ('Produced in association with Ira Pittelman', {'entities': [(9, 22, 'PARTNERSHIP')]}), \n",
        " ('Productions in association with Columbia Pictures', {'entities': [(12, 25, 'PARTNERSHIP')]}),\n",
        " ('H&M has traditionally paired with high-end fashion brands to offer exclusive branded items', {'entities': [(22, 32, 'PARTNERSHIP')]}),\n",
        " ]"
      ],
      "execution_count": null,
      "outputs": []
    },
    {
      "cell_type": "code",
      "metadata": {
        "id": "vzvkZ9EwxP5q"
      },
      "source": [
        "# Save the  model to directory\n",
        "output_dir = Path('/content/')\n",
        "nlp.to_disk(output_dir)\n",
        "print(\"Saved model to\", output_dir)\n",
        "\n",
        "# Load the saved model and predict\n",
        "print(\"Loading from\", output_dir)\n",
        "nlp_updated = spacy.load(output_dir)\n",
        "doc = nlp_updated(\"Fridge can be ordered in FlipKart\" )\n",
        "print(\"Entities\", [(ent.text, ent.label_) for ent in doc.ents])"
      ],
      "execution_count": null,
      "outputs": []
    },
    {
      "cell_type": "code",
      "metadata": {
        "id": "IuLaSDCTppUt"
      },
      "source": [
        "# Output directory\n",
        "from pathlib import Path\n",
        "output_dir=Path('/content/')\n",
        "\n",
        "# Saving the model to the output directory\n",
        "if not output_dir.exists():\n",
        "  output_dir.mkdir()\n",
        "nlp.meta['name'] = 'my_ner'  # rename model\n",
        "nlp.to_disk(output_dir)\n",
        "print(\"Saved model to\", output_dir)\n",
        "\n",
        "# Loading the model from the directory\n",
        "print(\"Loading from\", output_dir)\n",
        "nlp2 = spacy.load(output_dir)\n",
        "assert nlp2.get_pipe(\"ner\").move_names == move_names\n",
        "doc2 = nlp2(' Dosa is an extremely famous south Indian dish')\n",
        "for ent in doc2.ents:\n",
        "  print(ent.label_, ent.text)"
      ],
      "execution_count": null,
      "outputs": []
    },
    {
      "cell_type": "code",
      "metadata": {
        "colab": {
          "base_uri": "https://localhost:8080/"
        },
        "id": "_-wMTDDceRCg",
        "outputId": "b6685bb7-41fd-42df-9d41-81a05f2d9130"
      },
      "source": [
        "!pip install bert-serving-server  # server\n",
        "!pip install bert-serving-client  # client, independent of `bert-serving-server`"
      ],
      "execution_count": null,
      "outputs": [
        {
          "output_type": "stream",
          "text": [
            "Collecting bert-serving-server\n",
            "\u001b[?25l  Downloading https://files.pythonhosted.org/packages/b0/bd/cab677bbd0c5fb08b72e468371d2bca6ed9507785739b4656b0b5470d90b/bert_serving_server-1.10.0-py3-none-any.whl (61kB)\n",
            "\r\u001b[K     |█████▎                          | 10kB 16.9MB/s eta 0:00:01\r\u001b[K     |██████████▋                     | 20kB 23.3MB/s eta 0:00:01\r\u001b[K     |████████████████                | 30kB 28.6MB/s eta 0:00:01\r\u001b[K     |█████████████████████▎          | 40kB 21.1MB/s eta 0:00:01\r\u001b[K     |██████████████████████████▋     | 51kB 18.1MB/s eta 0:00:01\r\u001b[K     |███████████████████████████████▉| 61kB 19.9MB/s eta 0:00:01\r\u001b[K     |████████████████████████████████| 71kB 7.1MB/s \n",
            "\u001b[?25hRequirement already satisfied: six in /usr/local/lib/python3.7/dist-packages (from bert-serving-server) (1.15.0)\n",
            "Requirement already satisfied: pyzmq>=17.1.0 in /usr/local/lib/python3.7/dist-packages (from bert-serving-server) (22.0.3)\n",
            "Requirement already satisfied: numpy in /usr/local/lib/python3.7/dist-packages (from bert-serving-server) (1.19.5)\n",
            "Requirement already satisfied: termcolor>=1.1 in /usr/local/lib/python3.7/dist-packages (from bert-serving-server) (1.1.0)\n",
            "Collecting GPUtil>=1.3.0\n",
            "  Downloading https://files.pythonhosted.org/packages/ed/0e/5c61eedde9f6c87713e89d794f01e378cfd9565847d4576fa627d758c554/GPUtil-1.4.0.tar.gz\n",
            "Building wheels for collected packages: GPUtil\n",
            "  Building wheel for GPUtil (setup.py) ... \u001b[?25l\u001b[?25hdone\n",
            "  Created wheel for GPUtil: filename=GPUtil-1.4.0-cp37-none-any.whl size=7411 sha256=4b9024aef1583d33fea96d49b3fb2332c76e844340a4b66c7489434d905b1673\n",
            "  Stored in directory: /root/.cache/pip/wheels/3d/77/07/80562de4bb0786e5ea186911a2c831fdd0018bda69beab71fd\n",
            "Successfully built GPUtil\n",
            "Installing collected packages: GPUtil, bert-serving-server\n",
            "Successfully installed GPUtil-1.4.0 bert-serving-server-1.10.0\n",
            "Collecting bert-serving-client\n",
            "  Downloading https://files.pythonhosted.org/packages/1f/09/aae1405378a848b2e87769ad89a43d6d71978c4e15534ca48e82e723a72f/bert_serving_client-1.10.0-py2.py3-none-any.whl\n",
            "Requirement already satisfied: numpy in /usr/local/lib/python3.7/dist-packages (from bert-serving-client) (1.19.5)\n",
            "Requirement already satisfied: pyzmq>=17.1.0 in /usr/local/lib/python3.7/dist-packages (from bert-serving-client) (22.0.3)\n",
            "Installing collected packages: bert-serving-client\n",
            "Successfully installed bert-serving-client-1.10.0\n"
          ],
          "name": "stdout"
        }
      ]
    },
    {
      "cell_type": "code",
      "metadata": {
        "colab": {
          "base_uri": "https://localhost:8080/",
          "height": 129
        },
        "id": "9UhZLkWagvXn",
        "outputId": "19fe3bae-bbb1-4ac9-b728-a897fcf3bf02"
      },
      "source": [
        "bert-serving-start -model_dir uncased_bert/ -num_worker=2 -max_seq_len 50"
      ],
      "execution_count": null,
      "outputs": [
        {
          "output_type": "error",
          "ename": "SyntaxError",
          "evalue": "ignored",
          "traceback": [
            "\u001b[0;36m  File \u001b[0;32m\"<ipython-input-74-9ab944774a70>\"\u001b[0;36m, line \u001b[0;32m1\u001b[0m\n\u001b[0;31m    bert-serving-start -model_dir uncased_bert/ -num_worker=2 -max_seq_len 50\u001b[0m\n\u001b[0m                                             ^\u001b[0m\n\u001b[0;31mSyntaxError\u001b[0m\u001b[0;31m:\u001b[0m invalid syntax\n"
          ]
        }
      ]
    },
    {
      "cell_type": "code",
      "metadata": {
        "colab": {
          "base_uri": "https://localhost:8080/",
          "height": 391
        },
        "id": "sgWBJGuriy_v",
        "outputId": "662660cc-ed70-4a23-e4b6-67961fa368d9"
      },
      "source": [
        "from bert_serving.client import BertClient\n",
        "\n",
        "# make a connection with the BERT server using it's ip address; do not give any ip if same computer\n",
        "bc = BertClient()\n",
        "# get the embedding\n",
        "embedding = bc.encode([\"I love data science and analytics vidhya.\"])\n",
        "# check the shape of embedding, it should be 1x768\n",
        "print(embedding.shape)"
      ],
      "execution_count": null,
      "outputs": [
        {
          "output_type": "error",
          "ename": "KeyboardInterrupt",
          "evalue": "ignored",
          "traceback": [
            "\u001b[0;31m---------------------------------------------------------------------------\u001b[0m",
            "\u001b[0;31mKeyboardInterrupt\u001b[0m                         Traceback (most recent call last)",
            "\u001b[0;32m<ipython-input-76-7b958141a260>\u001b[0m in \u001b[0;36m<module>\u001b[0;34m()\u001b[0m\n\u001b[1;32m      2\u001b[0m \u001b[0;34m\u001b[0m\u001b[0m\n\u001b[1;32m      3\u001b[0m \u001b[0;31m# make a connection with the BERT server using it's ip address; do not give any ip if same computer\u001b[0m\u001b[0;34m\u001b[0m\u001b[0;34m\u001b[0m\u001b[0;34m\u001b[0m\u001b[0m\n\u001b[0;32m----> 4\u001b[0;31m \u001b[0mbc\u001b[0m \u001b[0;34m=\u001b[0m \u001b[0mBertClient\u001b[0m\u001b[0;34m(\u001b[0m\u001b[0;34m)\u001b[0m\u001b[0;34m\u001b[0m\u001b[0;34m\u001b[0m\u001b[0m\n\u001b[0m\u001b[1;32m      5\u001b[0m \u001b[0;31m# get the embedding\u001b[0m\u001b[0;34m\u001b[0m\u001b[0;34m\u001b[0m\u001b[0;34m\u001b[0m\u001b[0m\n\u001b[1;32m      6\u001b[0m \u001b[0membedding\u001b[0m \u001b[0;34m=\u001b[0m \u001b[0mbc\u001b[0m\u001b[0;34m.\u001b[0m\u001b[0mencode\u001b[0m\u001b[0;34m(\u001b[0m\u001b[0;34m[\u001b[0m\u001b[0;34m\"I love data science and analytics vidhya.\"\u001b[0m\u001b[0;34m]\u001b[0m\u001b[0;34m)\u001b[0m\u001b[0;34m\u001b[0m\u001b[0;34m\u001b[0m\u001b[0m\n",
            "\u001b[0;32m/usr/local/lib/python3.7/dist-packages/bert_serving/client/__init__.py\u001b[0m in \u001b[0;36m__init__\u001b[0;34m(self, ip, port, port_out, output_fmt, show_server_config, identity, check_version, check_length, check_token_info, ignore_all_checks, timeout)\u001b[0m\n\u001b[1;32m    106\u001b[0m \u001b[0;34m\u001b[0m\u001b[0m\n\u001b[1;32m    107\u001b[0m         \u001b[0;32mif\u001b[0m \u001b[0;32mnot\u001b[0m \u001b[0mignore_all_checks\u001b[0m \u001b[0;32mand\u001b[0m \u001b[0;34m(\u001b[0m\u001b[0mcheck_version\u001b[0m \u001b[0;32mor\u001b[0m \u001b[0mshow_server_config\u001b[0m \u001b[0;32mor\u001b[0m \u001b[0mcheck_length\u001b[0m \u001b[0;32mor\u001b[0m \u001b[0mcheck_token_info\u001b[0m\u001b[0;34m)\u001b[0m\u001b[0;34m:\u001b[0m\u001b[0;34m\u001b[0m\u001b[0;34m\u001b[0m\u001b[0m\n\u001b[0;32m--> 108\u001b[0;31m             \u001b[0ms_status\u001b[0m \u001b[0;34m=\u001b[0m \u001b[0mself\u001b[0m\u001b[0;34m.\u001b[0m\u001b[0mserver_config\u001b[0m\u001b[0;34m\u001b[0m\u001b[0;34m\u001b[0m\u001b[0m\n\u001b[0m\u001b[1;32m    109\u001b[0m \u001b[0;34m\u001b[0m\u001b[0m\n\u001b[1;32m    110\u001b[0m             \u001b[0;32mif\u001b[0m \u001b[0mcheck_version\u001b[0m \u001b[0;32mand\u001b[0m \u001b[0ms_status\u001b[0m\u001b[0;34m[\u001b[0m\u001b[0;34m'server_version'\u001b[0m\u001b[0;34m]\u001b[0m \u001b[0;34m!=\u001b[0m \u001b[0mself\u001b[0m\u001b[0;34m.\u001b[0m\u001b[0mstatus\u001b[0m\u001b[0;34m[\u001b[0m\u001b[0;34m'client_version'\u001b[0m\u001b[0;34m]\u001b[0m\u001b[0;34m:\u001b[0m\u001b[0;34m\u001b[0m\u001b[0;34m\u001b[0m\u001b[0m\n",
            "\u001b[0;32m/usr/local/lib/python3.7/dist-packages/bert_serving/client/__init__.py\u001b[0m in \u001b[0;36marg_wrapper\u001b[0;34m(self, *args, **kwargs)\u001b[0m\n\u001b[1;32m    204\u001b[0m                 \u001b[0mself\u001b[0m\u001b[0;34m.\u001b[0m\u001b[0mreceiver\u001b[0m\u001b[0;34m.\u001b[0m\u001b[0msetsockopt\u001b[0m\u001b[0;34m(\u001b[0m\u001b[0mzmq\u001b[0m\u001b[0;34m.\u001b[0m\u001b[0mRCVTIMEO\u001b[0m\u001b[0;34m,\u001b[0m \u001b[0mself\u001b[0m\u001b[0;34m.\u001b[0m\u001b[0mtimeout\u001b[0m\u001b[0;34m)\u001b[0m\u001b[0;34m\u001b[0m\u001b[0;34m\u001b[0m\u001b[0m\n\u001b[1;32m    205\u001b[0m             \u001b[0;32mtry\u001b[0m\u001b[0;34m:\u001b[0m\u001b[0;34m\u001b[0m\u001b[0;34m\u001b[0m\u001b[0m\n\u001b[0;32m--> 206\u001b[0;31m                 \u001b[0;32mreturn\u001b[0m \u001b[0mfunc\u001b[0m\u001b[0;34m(\u001b[0m\u001b[0mself\u001b[0m\u001b[0;34m,\u001b[0m \u001b[0;34m*\u001b[0m\u001b[0margs\u001b[0m\u001b[0;34m,\u001b[0m \u001b[0;34m**\u001b[0m\u001b[0mkwargs\u001b[0m\u001b[0;34m)\u001b[0m\u001b[0;34m\u001b[0m\u001b[0;34m\u001b[0m\u001b[0m\n\u001b[0m\u001b[1;32m    207\u001b[0m             \u001b[0;32mexcept\u001b[0m \u001b[0mzmq\u001b[0m\u001b[0;34m.\u001b[0m\u001b[0merror\u001b[0m\u001b[0;34m.\u001b[0m\u001b[0mAgain\u001b[0m \u001b[0;32mas\u001b[0m \u001b[0m_e\u001b[0m\u001b[0;34m:\u001b[0m\u001b[0;34m\u001b[0m\u001b[0;34m\u001b[0m\u001b[0m\n\u001b[1;32m    208\u001b[0m                 t_e = TimeoutError(\n",
            "\u001b[0;32m/usr/local/lib/python3.7/dist-packages/bert_serving/client/__init__.py\u001b[0m in \u001b[0;36mserver_config\u001b[0;34m(self)\u001b[0m\n\u001b[1;32m    230\u001b[0m         \"\"\"\n\u001b[1;32m    231\u001b[0m         \u001b[0mreq_id\u001b[0m \u001b[0;34m=\u001b[0m \u001b[0mself\u001b[0m\u001b[0;34m.\u001b[0m\u001b[0m_send\u001b[0m\u001b[0;34m(\u001b[0m\u001b[0;34mb'SHOW_CONFIG'\u001b[0m\u001b[0;34m)\u001b[0m\u001b[0;34m\u001b[0m\u001b[0;34m\u001b[0m\u001b[0m\n\u001b[0;32m--> 232\u001b[0;31m         \u001b[0;32mreturn\u001b[0m \u001b[0mjsonapi\u001b[0m\u001b[0;34m.\u001b[0m\u001b[0mloads\u001b[0m\u001b[0;34m(\u001b[0m\u001b[0mself\u001b[0m\u001b[0;34m.\u001b[0m\u001b[0m_recv\u001b[0m\u001b[0;34m(\u001b[0m\u001b[0mreq_id\u001b[0m\u001b[0;34m)\u001b[0m\u001b[0;34m.\u001b[0m\u001b[0mcontent\u001b[0m\u001b[0;34m[\u001b[0m\u001b[0;36m1\u001b[0m\u001b[0;34m]\u001b[0m\u001b[0;34m)\u001b[0m\u001b[0;34m\u001b[0m\u001b[0;34m\u001b[0m\u001b[0m\n\u001b[0m\u001b[1;32m    233\u001b[0m \u001b[0;34m\u001b[0m\u001b[0m\n\u001b[1;32m    234\u001b[0m     \u001b[0;34m@\u001b[0m\u001b[0mproperty\u001b[0m\u001b[0;34m\u001b[0m\u001b[0;34m\u001b[0m\u001b[0m\n",
            "\u001b[0;32m/usr/local/lib/python3.7/dist-packages/bert_serving/client/__init__.py\u001b[0m in \u001b[0;36m_recv\u001b[0;34m(self, wait_for_req_id)\u001b[0m\n\u001b[1;32m    151\u001b[0m \u001b[0;34m\u001b[0m\u001b[0m\n\u001b[1;32m    152\u001b[0m                 \u001b[0;31m# receive a response\u001b[0m\u001b[0;34m\u001b[0m\u001b[0;34m\u001b[0m\u001b[0;34m\u001b[0m\u001b[0m\n\u001b[0;32m--> 153\u001b[0;31m                 \u001b[0mresponse\u001b[0m \u001b[0;34m=\u001b[0m \u001b[0mself\u001b[0m\u001b[0;34m.\u001b[0m\u001b[0mreceiver\u001b[0m\u001b[0;34m.\u001b[0m\u001b[0mrecv_multipart\u001b[0m\u001b[0;34m(\u001b[0m\u001b[0;34m)\u001b[0m\u001b[0;34m\u001b[0m\u001b[0;34m\u001b[0m\u001b[0m\n\u001b[0m\u001b[1;32m    154\u001b[0m                 \u001b[0mrequest_id\u001b[0m \u001b[0;34m=\u001b[0m \u001b[0mint\u001b[0m\u001b[0;34m(\u001b[0m\u001b[0mresponse\u001b[0m\u001b[0;34m[\u001b[0m\u001b[0;34m-\u001b[0m\u001b[0;36m1\u001b[0m\u001b[0;34m]\u001b[0m\u001b[0;34m)\u001b[0m\u001b[0;34m\u001b[0m\u001b[0;34m\u001b[0m\u001b[0m\n\u001b[1;32m    155\u001b[0m \u001b[0;34m\u001b[0m\u001b[0m\n",
            "\u001b[0;32m/usr/local/lib/python3.7/dist-packages/zmq/sugar/socket.py\u001b[0m in \u001b[0;36mrecv_multipart\u001b[0;34m(self, flags, copy, track)\u001b[0m\n\u001b[1;32m    581\u001b[0m             \u001b[0;32mfor\u001b[0m \u001b[0many\u001b[0m \u001b[0mof\u001b[0m \u001b[0mthe\u001b[0m \u001b[0mreasons\u001b[0m \u001b[0;34m:\u001b[0m\u001b[0mfunc\u001b[0m\u001b[0;34m:\u001b[0m\u001b[0;31m`\u001b[0m\u001b[0;34m~\u001b[0m\u001b[0mSocket\u001b[0m\u001b[0;34m.\u001b[0m\u001b[0mrecv\u001b[0m\u001b[0;31m`\u001b[0m \u001b[0mmight\u001b[0m \u001b[0mfail\u001b[0m\u001b[0;34m\u001b[0m\u001b[0;34m\u001b[0m\u001b[0m\n\u001b[1;32m    582\u001b[0m         \"\"\"\n\u001b[0;32m--> 583\u001b[0;31m         \u001b[0mparts\u001b[0m \u001b[0;34m=\u001b[0m \u001b[0;34m[\u001b[0m\u001b[0mself\u001b[0m\u001b[0;34m.\u001b[0m\u001b[0mrecv\u001b[0m\u001b[0;34m(\u001b[0m\u001b[0mflags\u001b[0m\u001b[0;34m,\u001b[0m \u001b[0mcopy\u001b[0m\u001b[0;34m=\u001b[0m\u001b[0mcopy\u001b[0m\u001b[0;34m,\u001b[0m \u001b[0mtrack\u001b[0m\u001b[0;34m=\u001b[0m\u001b[0mtrack\u001b[0m\u001b[0;34m)\u001b[0m\u001b[0;34m]\u001b[0m\u001b[0;34m\u001b[0m\u001b[0;34m\u001b[0m\u001b[0m\n\u001b[0m\u001b[1;32m    584\u001b[0m         \u001b[0;31m# have first part already, only loop while more to receive\u001b[0m\u001b[0;34m\u001b[0m\u001b[0;34m\u001b[0m\u001b[0;34m\u001b[0m\u001b[0m\n\u001b[1;32m    585\u001b[0m         \u001b[0;32mwhile\u001b[0m \u001b[0mself\u001b[0m\u001b[0;34m.\u001b[0m\u001b[0mgetsockopt\u001b[0m\u001b[0;34m(\u001b[0m\u001b[0mzmq\u001b[0m\u001b[0;34m.\u001b[0m\u001b[0mRCVMORE\u001b[0m\u001b[0;34m)\u001b[0m\u001b[0;34m:\u001b[0m\u001b[0;34m\u001b[0m\u001b[0;34m\u001b[0m\u001b[0m\n",
            "\u001b[0;32mzmq/backend/cython/socket.pyx\u001b[0m in \u001b[0;36mzmq.backend.cython.socket.Socket.recv\u001b[0;34m()\u001b[0m\n",
            "\u001b[0;32mzmq/backend/cython/socket.pyx\u001b[0m in \u001b[0;36mzmq.backend.cython.socket.Socket.recv\u001b[0;34m()\u001b[0m\n",
            "\u001b[0;32mzmq/backend/cython/socket.pyx\u001b[0m in \u001b[0;36mzmq.backend.cython.socket._recv_copy\u001b[0;34m()\u001b[0m\n",
            "\u001b[0;32m/usr/local/lib/python3.7/dist-packages/zmq/backend/cython/checkrc.pxd\u001b[0m in \u001b[0;36mzmq.backend.cython.checkrc._check_rc\u001b[0;34m()\u001b[0m\n",
            "\u001b[0;31mKeyboardInterrupt\u001b[0m: "
          ]
        }
      ]
    },
    {
      "cell_type": "code",
      "metadata": {
        "id": "aJSYrrylplS0"
      },
      "source": [
        ""
      ],
      "execution_count": null,
      "outputs": []
    }
  ]
}